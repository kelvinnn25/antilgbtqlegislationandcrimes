{
 "cells": [
  {
   "cell_type": "code",
   "execution_count": 22,
   "id": "f28e599a",
   "metadata": {},
   "outputs": [
    {
     "data": {
      "text/html": [
       "<table>\n",
       "<thead><tr><th scope=col>a</th><th scope=col>b</th></tr></thead>\n",
       "<tbody>\n",
       "\t<tr><td>1</td><td>a</td></tr>\n",
       "\t<tr><td>2</td><td>b</td></tr>\n",
       "\t<tr><td>3</td><td>c</td></tr>\n",
       "\t<tr><td>4</td><td>d</td></tr>\n",
       "</tbody>\n",
       "</table>\n"
      ],
      "text/latex": [
       "\\begin{tabular}{r|ll}\n",
       " a & b\\\\\n",
       "\\hline\n",
       "\t 1 & a\\\\\n",
       "\t 2 & b\\\\\n",
       "\t 3 & c\\\\\n",
       "\t 4 & d\\\\\n",
       "\\end{tabular}\n"
      ],
      "text/markdown": [
       "\n",
       "| a | b |\n",
       "|---|---|\n",
       "| 1 | a |\n",
       "| 2 | b |\n",
       "| 3 | c |\n",
       "| 4 | d |\n",
       "\n"
      ],
      "text/plain": [
       "  a b\n",
       "1 1 a\n",
       "2 2 b\n",
       "3 3 c\n",
       "4 4 d"
      ]
     },
     "metadata": {},
     "output_type": "display_data"
    },
    {
     "data": {
      "text/html": [
       "<table>\n",
       "<thead><tr><th scope=col>states</th><th scope=col>d</th></tr></thead>\n",
       "<tbody>\n",
       "\t<tr><td>AR</td><td>5 </td></tr>\n",
       "\t<tr><td>KA</td><td>6 </td></tr>\n",
       "\t<tr><td>KY</td><td>7 </td></tr>\n",
       "\t<tr><td>GA</td><td>8 </td></tr>\n",
       "</tbody>\n",
       "</table>\n"
      ],
      "text/latex": [
       "\\begin{tabular}{r|ll}\n",
       " states & d\\\\\n",
       "\\hline\n",
       "\t AR & 5 \\\\\n",
       "\t KA & 6 \\\\\n",
       "\t KY & 7 \\\\\n",
       "\t GA & 8 \\\\\n",
       "\\end{tabular}\n"
      ],
      "text/markdown": [
       "\n",
       "| states | d |\n",
       "|---|---|\n",
       "| AR | 5  |\n",
       "| KA | 6  |\n",
       "| KY | 7  |\n",
       "| GA | 8  |\n",
       "\n"
      ],
      "text/plain": [
       "  states d\n",
       "1 AR     5\n",
       "2 KA     6\n",
       "3 KY     7\n",
       "4 GA     8"
      ]
     },
     "metadata": {},
     "output_type": "display_data"
    },
    {
     "name": "stderr",
     "output_type": "stream",
     "text": [
      "Warning message in Ops.factor(left, right):\n",
      "\"'+' not meaningful for factors\"Warning message in Ops.factor(left, right):\n",
      "\"'+' not meaningful for factors\""
     ]
    },
    {
     "data": {
      "text/html": [
       "<table>\n",
       "<thead><tr><th scope=col>a</th><th scope=col>b</th></tr></thead>\n",
       "<tbody>\n",
       "\t<tr><td>NA</td><td>NA</td></tr>\n",
       "\t<tr><td>NA</td><td>NA</td></tr>\n",
       "\t<tr><td>NA</td><td>NA</td></tr>\n",
       "\t<tr><td>NA</td><td>NA</td></tr>\n",
       "</tbody>\n",
       "</table>\n"
      ],
      "text/latex": [
       "\\begin{tabular}{r|ll}\n",
       " a & b\\\\\n",
       "\\hline\n",
       "\t NA & NA\\\\\n",
       "\t NA & NA\\\\\n",
       "\t NA & NA\\\\\n",
       "\t NA & NA\\\\\n",
       "\\end{tabular}\n"
      ],
      "text/markdown": [
       "\n",
       "| a | b |\n",
       "|---|---|\n",
       "| NA | NA |\n",
       "| NA | NA |\n",
       "| NA | NA |\n",
       "| NA | NA |\n",
       "\n"
      ],
      "text/plain": [
       "  a  b \n",
       "1 NA NA\n",
       "2 NA NA\n",
       "3 NA NA\n",
       "4 NA NA"
      ]
     },
     "metadata": {},
     "output_type": "display_data"
    }
   ],
   "source": [
    "df <- data.frame(a = 1:4, b = letters[1:4])\n",
    "df\n",
    "df2 = data.frame(states=c('AR', 'KA', 'KY', 'GA'), d = 5:8)\n",
    "df2\n"
   ]
  },
  {
   "cell_type": "code",
   "execution_count": null,
   "id": "24819e33",
   "metadata": {},
   "outputs": [],
   "source": []
  }
 ],
 "metadata": {
  "kernelspec": {
   "display_name": "R",
   "language": "R",
   "name": "ir"
  },
  "language_info": {
   "codemirror_mode": "r",
   "file_extension": ".r",
   "mimetype": "text/x-r-source",
   "name": "R",
   "pygments_lexer": "r",
   "version": "3.6.1"
  }
 },
 "nbformat": 4,
 "nbformat_minor": 5
}
