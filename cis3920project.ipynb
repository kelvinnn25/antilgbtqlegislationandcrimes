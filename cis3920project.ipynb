{
 "cells": [
  {
   "cell_type": "markdown",
   "id": "13587991",
   "metadata": {
    "_cell_guid": "64dc168f-a215-42ef-bf9f-ad431e395d4f",
    "_uuid": "bc3323e4-f99c-42b6-8ac8-461cc05e174c",
    "papermill": {
     "duration": 0.01527,
     "end_time": "2023-04-28T20:32:14.317218",
     "exception": false,
     "start_time": "2023-04-28T20:32:14.301948",
     "status": "completed"
    },
    "tags": []
   },
   "source": [
    "# Correlation Between anti-lgbtq hatecrimes and legislation passed\n",
    "* Where did we get this data?\n",
    "    1. FBI hate crimes database from this link: \n",
    "        https://cde.ucr.cjis.gov/\n",
    "    2. ACLU's legislation tracker from this link: \n",
    "        https://www.aclu.org/legislation-affecting-lgbtq-rights-across-country-2021\n",
    "* Defintions we must make: \n",
    "    * for more inforamtion about what classifies as a hatecrime in addition to how data collection was made, please refer to the fbi database linked above\n",
    "    * in addition we must clarify the defintion for religious exemption bills:\n",
    "        - these bills allow the exemption of discrimination based on the belief of religion, for example: a woman was fired from work because of religious exemption, being she was pregnant before getting married, not abiding to organization's religious beliefs\n",
    "    * bills preempting protection:\n",
    "        - according to the ACLU, 'These bills prevent cities and other local government entities from passing nondiscrimination protections that are more expansive than the protections offered at the state level, including protections for LGBTQ people.'\n",
    "* Possible predictor values: \n",
    "    1. number of ACLU flagged anti-lgbtq legislation passed (maybe per state)\n",
    "    2. 2020 presidential election results (dem or rep) \n",
    "    3. senate/house majority of state\n",
    "* Possible Response values:\n",
    "    1. lgbtq hatecrime incidents/offenses\n",
    "    2. lgbtq hatecrime percentage of all hatecrimes per state\n",
    "* Data Table Variable Names:\n",
    "    * crimesByBias <- fbi table 1 hate crimes by bias, basically summarizes number of offenses/victims with bias incidents\n",
    "        * more notes: \n",
    "        * \"1 The term victim may refer to an individual, business/financial institution, government entity, religious organization, or society/public as a whole.\",,,,\n",
    "        * \"2 The term known offender does not imply the suspect's identity is known; rather, the term indicates some aspect of the suspect was identified, thus distinguishing the suspect from an unknown offender.\",,,,\n",
    "        * 3 A multiple-bias incident is an incident in which one or more offense types are motivated by two or more biases.,,,,\n",
    "\n",
    "    * typeOfCrime <- type of crimes committed upon each bias group (ex: assault, manlsaughter, rape, intimidation, etc. \n",
    "        * 1 The figures shown include additional offenses collected in the National Incident-Based Reporting System. See the downloadable Methodology file for further explanation.\t\t\t\t\t\t\t\t\t\t\t\t\t\t\t\n",
    "        * 2 A multiple-bias incident is an incident in which one or more offense types are motivated by two or more biases.\n",
    "    * crimeVictims <- shows types of victims (adult/juvenile), and number of victims per crime\n",
    "        * 1 The term victim may refer to an individual, business/financial institution, government entity, religious organization, or society/public as a whole.\t\t\t\t\t\t\t\t\t\t\t\t\t\t\t\t\t\n",
    "        * 2 The figures shown are individual victims only.\t\t\t\t\t\t\t\t\t\t\t\t\t\t\t\t\t\n",
    "        * 3 The figures shown include additional offenses collected in the National Incident-Based Reporting System. See the downloadable Methodology file for further explanation.\t\t\t\t\t\t\t\t\t\t\t\t\t\t\t\t\t\n",
    "        * 4 A multiple-bias incident is an incident in which one or more offense types are motivated by two or more biases.\t\t\t\t\t\t\t\t\t\t\t\t\t\t\t\t\t\n",
    "        * Note: The aggregate of adult and juvenile individual victims does not equal the total number of victims because total victims include individuals, businesses/financial institutions, government entities, religious organizations, and society/public as a whole. In addition, the aggregate of adult and juvenile individual victims does not equal the aggregate of victims of crimes against persons because not all law enforcement agencies report the ages of individual victims.\n",
    "    * crimeLocation <- shows location of where the crime happened (on school grounds, public, business, etc)\n",
    "        * 1 A multiple-bias incident is an incident in which one or more offense types are motivated by two or more biases.\t\t\t\t\t\t\t\t\n",
    "        * 2 The location designation School/college has been retained for agencies that have not updated their records management systems to include the new location designations of Schoolâ€”college/university and Schoolâ€”elementary/secondary, which allow for more specificity in reporting.\t\n",
    "    * crimeState <- shows crime by state and city\n",
    "        * 1 Population figures are published only for the cities. The figures listed for the universities and colleges are student enrollment and were provided by the United States Department of Education for the 2020 school year, the most recent available. The enrollment figures include full-time and part-time students.\t\t\t\t\t\t\t\t\t\t\t\t\t\n",
    "        * 2 The figures shown include one incident reported with more than one bias motivation.\t\t\t\t\t\t\t\t\t\t\t\t\t\n",
    "        * 3 Student enrollment figures were not available.\n",
    "    * antiLgbtq <- shows amount of anti-LGBTQ and trans laws \n",
    "    * religiousExemption <- shows amount of bills passed from relgiious exemption (see definition above)\n",
    "    * preemptingProtection <- shows amount of bills preempting LGBTQ protection (see definition above) \n",
    "    * lgbtqEquality <- shows bills passed to protect LGBTQ rights"
   ]
  },
  {
   "cell_type": "code",
   "execution_count": 2,
   "id": "30d89026",
   "metadata": {
    "_cell_guid": "9601ac6f-fbad-4596-8e99-b0160b26b82e",
    "_uuid": "daff7b90-e6b8-47b6-8bd4-36a005886f64",
    "collapsed": false,
    "jupyter": {
     "outputs_hidden": false
    },
    "papermill": {
     "duration": 0.284304,
     "end_time": "2023-04-28T20:32:14.617006",
     "exception": false,
     "start_time": "2023-04-28T20:32:14.332702",
     "status": "completed"
    },
    "tags": []
   },
   "outputs": [],
   "source": [
    "#var names for kaggle:\n",
    "crimesByBias <- read.csv('fbit1crimesByBias.csv')\n",
    "typeOfCrime <- read.csv('fbit4crimesByBiasMotivation.csv')\n",
    "crimeVictims <- read.csv('fbit7_Victims_Offense_Type_by_Bias_Motivation_2021.csv')\n",
    "crimeLocation <- read.csv('fbit10incidents_Bias_Motivation_by_Location_2021.csv')\n",
    "crimeTypeByState <-read.csv('fbit11crimeTypeByState.csv')\n",
    "crimeState <- read.csv(\"fbit13.csv\")\n",
    "antiLgbtq <-  read.csv('AntiLGBTQ.csv')\n",
    "religiousExemption <- read.csv('ReligiousExemptionBills.csv')\n",
    "preemptingProtection <- read.csv('BillsPreemptingProtection.csv')\n",
    "lgbtqEquality <- read.csv('LGBTQequality.csv')"
   ]
  },
  {
   "cell_type": "code",
   "execution_count": 3,
   "id": "4482e201",
   "metadata": {
    "_cell_guid": "2c18bebb-ac05-4011-af5a-d2b775f6ac09",
    "_uuid": "a015a78f-618a-47c3-9071-a0cfc50570ca",
    "collapsed": false,
    "jupyter": {
     "outputs_hidden": false
    },
    "papermill": {
     "duration": 0.119477,
     "end_time": "2023-04-28T20:32:14.750327",
     "exception": false,
     "start_time": "2023-04-28T20:32:14.630850",
     "status": "completed"
    },
    "tags": []
   },
   "outputs": [],
   "source": [
    "#cleaning data frames KIND OF\n",
    "# Fbi data\n",
    "crimesByBias <- data.frame(c=crimesByBias)\n",
    "colnames(crimesByBias) <-c('Bias_Motivation','Incidents','Offenses','Victims','Known_Offenders')\n",
    "typeOfCrime <- data.frame(c=typeOfCrime)\n",
    "colnames(typeOfCrime) <-c('Bias_Motivation','Total_Offenses','Murder_and_nonnegligent_manslaughter',\n",
    "                          'Rape','Aggravated_Assault','Simple Assault','Intimidation','Other','Robbery', 'Burgalry', \n",
    "                          'Larceny','Motor_Vehicle_Theft', 'Arson','Destruction/Damage/Vandalism','Other','Crimes_against_society')\n",
    "typeOfCrime<- typeOfCrime[6:47,]\n",
    "crimeVictims <- data.frame(c=crimeVictims)\n",
    "colnames(crimeVictims) <- c('Bias_Motivation','Total_Victims','Total_Adult_Victims','Total_Juvenile_Victims',\n",
    "                            'Murder_and_nonnegligent_manslaughter','Rape','Aggravated_Assault','Simple Assault','Intimidation','Other','Robbery', 'Burgalry', \n",
    "                          'Larceny','Motor_Vehicle_Theft', 'Arson','Destruction/Damage/Vandalism','Other','Crimes_against_society')\n",
    "crimeVictims <- crimeVictims[6:48,]\n",
    "crimeLocation <- data.frame(c=crimeLocation)\n",
    "colnames(crimeLocation) <- c('Location','Total_Incidents','Race/Ethnicity/Ancestry','Religion',\n",
    "                             'Sexual_Orientation','Disability','Gender','Gender_Identity','Multiple_bias_incidents')\n",
    "crimeLocation <- crimeLocation[6:53,]\n",
    "crimeTypeByState <-data.frame(c=crimeTypeByState)\n",
    "colnames(crimeTypeByState) <- c('State','Total_Offenses','Murder_and_nonnegligent_manslaughter','Rape','Aggravated_Assault','Simple Assault','Intimidation','Other','Robbery', 'Burgalry', \n",
    "                          'Larceny','Motor_Vehicle_Theft', 'Arson','Destruction/Damage/Vandalism','Other','Crimes_against_society')\n",
    "crimeTypeByState <- crimeTypeByState[6:57,]\n",
    "crimeState <- data.frame(c=crimeState)\n",
    "colnames(crimeState) <- c('State','Race/Ethnicity/Ancestry','Religion',\n",
    "                         'Sexual_Orientation','Disability','Gender','Gender_Identity')\n",
    "crimeState <-crimeState[1:51,]\n",
    "#ACLU Data\n",
    "antiLgbtq <- data.frame(c=antiLgbtq)\n",
    "antiLgbtq <-antiLgbtq[0:3]\n",
    "colnames(antiLgbtq) <-c('State','Bill_Number','Status')\n",
    "religiousExemption <- data.frame(c=religiousExemption)\n",
    "religiousExemption <-religiousExemption[0:3]\n",
    "colnames(religiousExemption) <-c('State','Bill_Number','Status')\n",
    "preemptingProtection <- data.frame(c=preemptingProtection)\n",
    "preemptingProtection <- preemptingProtection[0:3]\n",
    "colnames(preemptingProtection) <-c('State','Bill_Number','Status')\n",
    "lgbtqEquality <- data.frame(c=lgbtqEquality)\n",
    "lgbtqEquality<-lgbtqEquality[0:3]\n",
    "colnames(lgbtqEquality) <-c('State','Bill_Number','Status')"
   ]
  },
  {
   "cell_type": "code",
   "execution_count": 4,
   "id": "123c346b",
   "metadata": {
    "_cell_guid": "9ebb6382-69bc-4625-b5fd-df433c74eb03",
    "_uuid": "c7c4f8dc-249e-4a0e-a4dc-ae5e45709765",
    "collapsed": false,
    "jupyter": {
     "outputs_hidden": false
    },
    "papermill": {
     "duration": 0.165174,
     "end_time": "2023-04-28T20:32:14.929578",
     "exception": false,
     "start_time": "2023-04-28T20:32:14.764404",
     "status": "completed"
    },
    "tags": []
   },
   "outputs": [
    {
     "data": {
      "text/html": [
       "<table>\n",
       "<thead><tr><th scope=col>State</th><th scope=col>Race/Ethnicity/Ancestry</th><th scope=col>Religion</th><th scope=col>Sexual_Orientation</th><th scope=col>Disability</th><th scope=col>Gender</th><th scope=col>Gender_Identity</th><th scope=col>sum</th></tr></thead>\n",
       "<tbody>\n",
       "\t<tr><td>Alabama   </td><td>137       </td><td>72        </td><td>32        </td><td>5         </td><td>5         </td><td> 4        </td><td>255       </td></tr>\n",
       "\t<tr><td>Alaska    </td><td>  5       </td><td> 0        </td><td> 4        </td><td>0         </td><td>2         </td><td> 1        </td><td> 12       </td></tr>\n",
       "\t<tr><td>Arizona   </td><td> 61       </td><td>15        </td><td>16        </td><td>0         </td><td>0         </td><td> 4        </td><td> 96       </td></tr>\n",
       "\t<tr><td>Arkansas  </td><td> 31       </td><td> 3        </td><td> 9        </td><td>0         </td><td>3         </td><td> 2        </td><td> 48       </td></tr>\n",
       "\t<tr><td>California</td><td> 49       </td><td> 6        </td><td>16        </td><td>0         </td><td>0         </td><td> 3        </td><td> 74       </td></tr>\n",
       "\t<tr><td>Colorado  </td><td>182       </td><td>40        </td><td>67        </td><td>4         </td><td>1         </td><td>18        </td><td>312       </td></tr>\n",
       "</tbody>\n",
       "</table>\n"
      ],
      "text/latex": [
       "\\begin{tabular}{r|llllllll}\n",
       " State & Race/Ethnicity/Ancestry & Religion & Sexual\\_Orientation & Disability & Gender & Gender\\_Identity & sum\\\\\n",
       "\\hline\n",
       "\t Alabama    & 137        & 72         & 32         & 5          & 5          &  4         & 255       \\\\\n",
       "\t Alaska     &   5        &  0         &  4         & 0          & 2          &  1         &  12       \\\\\n",
       "\t Arizona    &  61        & 15         & 16         & 0          & 0          &  4         &  96       \\\\\n",
       "\t Arkansas   &  31        &  3         &  9         & 0          & 3          &  2         &  48       \\\\\n",
       "\t California &  49        &  6         & 16         & 0          & 0          &  3         &  74       \\\\\n",
       "\t Colorado   & 182        & 40         & 67         & 4          & 1          & 18         & 312       \\\\\n",
       "\\end{tabular}\n"
      ],
      "text/markdown": [
       "\n",
       "| State | Race/Ethnicity/Ancestry | Religion | Sexual_Orientation | Disability | Gender | Gender_Identity | sum |\n",
       "|---|---|---|---|---|---|---|---|\n",
       "| Alabama    | 137        | 72         | 32         | 5          | 5          |  4         | 255        |\n",
       "| Alaska     |   5        |  0         |  4         | 0          | 2          |  1         |  12        |\n",
       "| Arizona    |  61        | 15         | 16         | 0          | 0          |  4         |  96        |\n",
       "| Arkansas   |  31        |  3         |  9         | 0          | 3          |  2         |  48        |\n",
       "| California |  49        |  6         | 16         | 0          | 0          |  3         |  74        |\n",
       "| Colorado   | 182        | 40         | 67         | 4          | 1          | 18         | 312        |\n",
       "\n"
      ],
      "text/plain": [
       "  State      Race/Ethnicity/Ancestry Religion Sexual_Orientation Disability\n",
       "1 Alabama    137                     72       32                 5         \n",
       "2 Alaska       5                      0        4                 0         \n",
       "3 Arizona     61                     15       16                 0         \n",
       "4 Arkansas    31                      3        9                 0         \n",
       "5 California  49                      6       16                 0         \n",
       "6 Colorado   182                     40       67                 4         \n",
       "  Gender Gender_Identity sum\n",
       "1 5       4              255\n",
       "2 2       1               12\n",
       "3 0       4               96\n",
       "4 3       2               48\n",
       "5 0       3               74\n",
       "6 1      18              312"
      ]
     },
     "metadata": {},
     "output_type": "display_data"
    },
    {
     "data": {
      "text/plain": [
       "        State         sum        \n",
       " Alabama   : 1   Min.   :  1.00  \n",
       " Alaska    : 1   1st Qu.: 44.75  \n",
       " Arizona   : 1   Median :101.50  \n",
       " Arkansas  : 1   Mean   :152.60  \n",
       " California: 1   3rd Qu.:222.25  \n",
       " (Other)   :45   Max.   :651.00  \n",
       " NA's      : 1   NA's   :1       "
      ]
     },
     "metadata": {},
     "output_type": "display_data"
    },
    {
     "data": {
      "text/html": [
       "<table>\n",
       "<thead><tr><th scope=col>State</th><th scope=col>Race/Ethnicity/Ancestry</th><th scope=col>Religion</th><th scope=col>Sexual_Orientation</th><th scope=col>Disability</th><th scope=col>Gender</th><th scope=col>Gender_Identity</th><th scope=col>sum</th></tr></thead>\n",
       "<tbody>\n",
       "\t<tr><td>Alabama       </td><td>137           </td><td>72            </td><td> 32           </td><td> 5            </td><td> 5            </td><td> 4            </td><td>255           </td></tr>\n",
       "\t<tr><td>Alaska        </td><td>  5           </td><td> 0            </td><td>  4           </td><td> 0            </td><td> 2            </td><td> 1            </td><td> 12           </td></tr>\n",
       "\t<tr><td>Arizona       </td><td> 61           </td><td>15            </td><td> 16           </td><td> 0            </td><td> 0            </td><td> 4            </td><td> 96           </td></tr>\n",
       "\t<tr><td>Arkansas      </td><td> 31           </td><td> 3            </td><td>  9           </td><td> 0            </td><td> 3            </td><td> 2            </td><td> 48           </td></tr>\n",
       "\t<tr><td>California    </td><td> 49           </td><td> 6            </td><td> 16           </td><td> 0            </td><td> 0            </td><td> 3            </td><td> 74           </td></tr>\n",
       "\t<tr><td>Colorado      </td><td>182           </td><td>40            </td><td> 67           </td><td> 4            </td><td> 1            </td><td>18            </td><td>312           </td></tr>\n",
       "\t<tr><td>Connecticut   </td><td> 65           </td><td> 9            </td><td> 17           </td><td> 1            </td><td> 0            </td><td> 0            </td><td> 92           </td></tr>\n",
       "\t<tr><td>Delaware      </td><td>  5           </td><td> 2            </td><td>  2           </td><td> 0            </td><td> 0            </td><td> 0            </td><td>  9           </td></tr>\n",
       "\t<tr><td>Florida       </td><td>  1           </td><td> 0            </td><td>  0           </td><td> 0            </td><td> 0            </td><td> 0            </td><td>  1           </td></tr>\n",
       "\t<tr><td>Georgia       </td><td>164           </td><td>29            </td><td> 37           </td><td> 3            </td><td> 3            </td><td>12            </td><td>248           </td></tr>\n",
       "\t<tr><td>Hawaii        </td><td> 29           </td><td> 4            </td><td>  3           </td><td> 0            </td><td> 0            </td><td> 0            </td><td> 36           </td></tr>\n",
       "\t<tr><td>Idaho         </td><td> 29           </td><td> 4            </td><td> 11           </td><td> 0            </td><td> 0            </td><td> 0            </td><td> 44           </td></tr>\n",
       "\t<tr><td>Illinois      </td><td> 70           </td><td>14            </td><td> 11           </td><td> 1            </td><td> 2            </td><td> 0            </td><td> 98           </td></tr>\n",
       "\t<tr><td>Indiana       </td><td> 87           </td><td>24            </td><td> 17           </td><td> 0            </td><td> 2            </td><td>11            </td><td>141           </td></tr>\n",
       "\t<tr><td>Iowa          </td><td> 75           </td><td>10            </td><td> 10           </td><td> 4            </td><td> 3            </td><td> 3            </td><td>105           </td></tr>\n",
       "\t<tr><td>Kansas        </td><td> 72           </td><td>35            </td><td> 16           </td><td> 5            </td><td> 1            </td><td> 1            </td><td>130           </td></tr>\n",
       "\t<tr><td>Kentucky      </td><td> 91           </td><td> 6            </td><td> 40           </td><td> 4            </td><td> 0            </td><td>13            </td><td>154           </td></tr>\n",
       "\t<tr><td>Louisiana     </td><td>109           </td><td>30            </td><td>  7           </td><td> 3            </td><td> 1            </td><td> 0            </td><td>150           </td></tr>\n",
       "\t<tr><td>Maine         </td><td> 36           </td><td> 9            </td><td> 25           </td><td> 1            </td><td> 2            </td><td> 3            </td><td> 76           </td></tr>\n",
       "\t<tr><td>Maryland      </td><td> 56           </td><td>14            </td><td> 12           </td><td> 2            </td><td> 1            </td><td> 4            </td><td> 89           </td></tr>\n",
       "\t<tr><td>Massachusetts </td><td>280           </td><td>84            </td><td> 82           </td><td> 3            </td><td> 5            </td><td>10            </td><td>464           </td></tr>\n",
       "\t<tr><td>Michigan      </td><td>294           </td><td>52            </td><td> 60           </td><td> 4            </td><td> 7            </td><td>13            </td><td>430           </td></tr>\n",
       "\t<tr><td>Minnesota     </td><td>175           </td><td>44            </td><td> 44           </td><td> 2            </td><td> 2            </td><td> 7            </td><td>274           </td></tr>\n",
       "\t<tr><td>Mississippi   </td><td> 26           </td><td> 0            </td><td>  2           </td><td> 0            </td><td> 3            </td><td> 0            </td><td> 31           </td></tr>\n",
       "\t<tr><td>Missouri      </td><td>131           </td><td>27            </td><td> 38           </td><td> 4            </td><td> 2            </td><td> 9            </td><td>211           </td></tr>\n",
       "\t<tr><td>Montana       </td><td> 10           </td><td> 0            </td><td>  6           </td><td> 0            </td><td> 0            </td><td> 1            </td><td> 17           </td></tr>\n",
       "\t<tr><td>Nebraska      </td><td> 32           </td><td> 4            </td><td>  7           </td><td> 2            </td><td> 0            </td><td> 2            </td><td> 47           </td></tr>\n",
       "\t<tr><td>Nevada        </td><td>174           </td><td>19            </td><td> 30           </td><td> 1            </td><td> 2            </td><td> 6            </td><td>232           </td></tr>\n",
       "\t<tr><td>New Hampshire </td><td> 16           </td><td> 8            </td><td>  7           </td><td> 1            </td><td> 1            </td><td> 1            </td><td> 34           </td></tr>\n",
       "\t<tr><td>New Jersey    </td><td>148           </td><td>40            </td><td> 23           </td><td> 0            </td><td> 0            </td><td>15            </td><td>226           </td></tr>\n",
       "\t<tr><td>New Mexico    </td><td> 33           </td><td>11            </td><td>  7           </td><td> 2            </td><td> 0            </td><td> 1            </td><td> 54           </td></tr>\n",
       "\t<tr><td>New York      </td><td> 32           </td><td>21            </td><td> 15           </td><td> 0            </td><td> 2            </td><td> 1            </td><td> 71           </td></tr>\n",
       "\t<tr><td>North Carolina</td><td>180           </td><td>62            </td><td> 36           </td><td> 7            </td><td> 2            </td><td> 3            </td><td>290           </td></tr>\n",
       "\t<tr><td>North Dakota  </td><td> 29           </td><td> 2            </td><td>  8           </td><td> 0            </td><td> 0            </td><td> 0            </td><td> 39           </td></tr>\n",
       "\t<tr><td>Ohio          </td><td>299           </td><td>71            </td><td> 68           </td><td>44            </td><td> 4            </td><td>41            </td><td>527           </td></tr>\n",
       "\t<tr><td>Oklahoma      </td><td> 49           </td><td> 4            </td><td> 15           </td><td> 2            </td><td> 6            </td><td> 0            </td><td> 76           </td></tr>\n",
       "\t<tr><td>Oregon        </td><td>201           </td><td>27            </td><td> 51           </td><td> 2            </td><td> 1            </td><td>13            </td><td>295           </td></tr>\n",
       "\t<tr><td>Pennsylvania  </td><td>117           </td><td>19            </td><td> 25           </td><td> 1            </td><td> 1            </td><td> 0            </td><td>163           </td></tr>\n",
       "\t<tr><td>Rhode Island  </td><td> 10           </td><td> 6            </td><td>  3           </td><td> 0            </td><td> 0            </td><td> 0            </td><td> 19           </td></tr>\n",
       "\t<tr><td>South Carolina</td><td> 49           </td><td>32            </td><td> 21           </td><td> 2            </td><td> 0            </td><td> 3            </td><td>107           </td></tr>\n",
       "\t<tr><td>South Dakota  </td><td> 15           </td><td> 2            </td><td>  9           </td><td> 0            </td><td> 2            </td><td> 0            </td><td> 28           </td></tr>\n",
       "\t<tr><td>Tennessee     </td><td> 91           </td><td>19            </td><td> 20           </td><td>11            </td><td> 2            </td><td> 4            </td><td>147           </td></tr>\n",
       "\t<tr><td>Texas         </td><td>347           </td><td>53            </td><td>111           </td><td>17            </td><td>10            </td><td>28            </td><td>566           </td></tr>\n",
       "\t<tr><td>Utah          </td><td> 56           </td><td>23            </td><td> 25           </td><td> 1            </td><td> 1            </td><td>10            </td><td>116           </td></tr>\n",
       "\t<tr><td>Vermont       </td><td> 30           </td><td> 5            </td><td>  6           </td><td> 0            </td><td> 0            </td><td> 0            </td><td> 41           </td></tr>\n",
       "\t<tr><td>Virginia      </td><td> 76           </td><td>11            </td><td> 23           </td><td> 0            </td><td> 0            </td><td> 1            </td><td>111           </td></tr>\n",
       "\t<tr><td>Washington    </td><td>449           </td><td>67            </td><td>105           </td><td> 7            </td><td> 4            </td><td>19            </td><td>651           </td></tr>\n",
       "\t<tr><td>West Virginia </td><td> 22           </td><td>29            </td><td>  5           </td><td> 1            </td><td> 0            </td><td> 1            </td><td> 58           </td></tr>\n",
       "\t<tr><td>Wisconsin     </td><td> 69           </td><td>14            </td><td> 16           </td><td> 3            </td><td> 3            </td><td>11            </td><td>116           </td></tr>\n",
       "\t<tr><td>Wyoming       </td><td> 11           </td><td> 2            </td><td>  4           </td><td> 1            </td><td> 1            </td><td> 0            </td><td> 19           </td></tr>\n",
       "</tbody>\n",
       "</table>\n"
      ],
      "text/latex": [
       "\\begin{tabular}{r|llllllll}\n",
       " State & Race/Ethnicity/Ancestry & Religion & Sexual\\_Orientation & Disability & Gender & Gender\\_Identity & sum\\\\\n",
       "\\hline\n",
       "\t Alabama        & 137            & 72             &  32            &  5             &  5             &  4             & 255           \\\\\n",
       "\t Alaska         &   5            &  0             &   4            &  0             &  2             &  1             &  12           \\\\\n",
       "\t Arizona        &  61            & 15             &  16            &  0             &  0             &  4             &  96           \\\\\n",
       "\t Arkansas       &  31            &  3             &   9            &  0             &  3             &  2             &  48           \\\\\n",
       "\t California     &  49            &  6             &  16            &  0             &  0             &  3             &  74           \\\\\n",
       "\t Colorado       & 182            & 40             &  67            &  4             &  1             & 18             & 312           \\\\\n",
       "\t Connecticut    &  65            &  9             &  17            &  1             &  0             &  0             &  92           \\\\\n",
       "\t Delaware       &   5            &  2             &   2            &  0             &  0             &  0             &   9           \\\\\n",
       "\t Florida        &   1            &  0             &   0            &  0             &  0             &  0             &   1           \\\\\n",
       "\t Georgia        & 164            & 29             &  37            &  3             &  3             & 12             & 248           \\\\\n",
       "\t Hawaii         &  29            &  4             &   3            &  0             &  0             &  0             &  36           \\\\\n",
       "\t Idaho          &  29            &  4             &  11            &  0             &  0             &  0             &  44           \\\\\n",
       "\t Illinois       &  70            & 14             &  11            &  1             &  2             &  0             &  98           \\\\\n",
       "\t Indiana        &  87            & 24             &  17            &  0             &  2             & 11             & 141           \\\\\n",
       "\t Iowa           &  75            & 10             &  10            &  4             &  3             &  3             & 105           \\\\\n",
       "\t Kansas         &  72            & 35             &  16            &  5             &  1             &  1             & 130           \\\\\n",
       "\t Kentucky       &  91            &  6             &  40            &  4             &  0             & 13             & 154           \\\\\n",
       "\t Louisiana      & 109            & 30             &   7            &  3             &  1             &  0             & 150           \\\\\n",
       "\t Maine          &  36            &  9             &  25            &  1             &  2             &  3             &  76           \\\\\n",
       "\t Maryland       &  56            & 14             &  12            &  2             &  1             &  4             &  89           \\\\\n",
       "\t Massachusetts  & 280            & 84             &  82            &  3             &  5             & 10             & 464           \\\\\n",
       "\t Michigan       & 294            & 52             &  60            &  4             &  7             & 13             & 430           \\\\\n",
       "\t Minnesota      & 175            & 44             &  44            &  2             &  2             &  7             & 274           \\\\\n",
       "\t Mississippi    &  26            &  0             &   2            &  0             &  3             &  0             &  31           \\\\\n",
       "\t Missouri       & 131            & 27             &  38            &  4             &  2             &  9             & 211           \\\\\n",
       "\t Montana        &  10            &  0             &   6            &  0             &  0             &  1             &  17           \\\\\n",
       "\t Nebraska       &  32            &  4             &   7            &  2             &  0             &  2             &  47           \\\\\n",
       "\t Nevada         & 174            & 19             &  30            &  1             &  2             &  6             & 232           \\\\\n",
       "\t New Hampshire  &  16            &  8             &   7            &  1             &  1             &  1             &  34           \\\\\n",
       "\t New Jersey     & 148            & 40             &  23            &  0             &  0             & 15             & 226           \\\\\n",
       "\t New Mexico     &  33            & 11             &   7            &  2             &  0             &  1             &  54           \\\\\n",
       "\t New York       &  32            & 21             &  15            &  0             &  2             &  1             &  71           \\\\\n",
       "\t North Carolina & 180            & 62             &  36            &  7             &  2             &  3             & 290           \\\\\n",
       "\t North Dakota   &  29            &  2             &   8            &  0             &  0             &  0             &  39           \\\\\n",
       "\t Ohio           & 299            & 71             &  68            & 44             &  4             & 41             & 527           \\\\\n",
       "\t Oklahoma       &  49            &  4             &  15            &  2             &  6             &  0             &  76           \\\\\n",
       "\t Oregon         & 201            & 27             &  51            &  2             &  1             & 13             & 295           \\\\\n",
       "\t Pennsylvania   & 117            & 19             &  25            &  1             &  1             &  0             & 163           \\\\\n",
       "\t Rhode Island   &  10            &  6             &   3            &  0             &  0             &  0             &  19           \\\\\n",
       "\t South Carolina &  49            & 32             &  21            &  2             &  0             &  3             & 107           \\\\\n",
       "\t South Dakota   &  15            &  2             &   9            &  0             &  2             &  0             &  28           \\\\\n",
       "\t Tennessee      &  91            & 19             &  20            & 11             &  2             &  4             & 147           \\\\\n",
       "\t Texas          & 347            & 53             & 111            & 17             & 10             & 28             & 566           \\\\\n",
       "\t Utah           &  56            & 23             &  25            &  1             &  1             & 10             & 116           \\\\\n",
       "\t Vermont        &  30            &  5             &   6            &  0             &  0             &  0             &  41           \\\\\n",
       "\t Virginia       &  76            & 11             &  23            &  0             &  0             &  1             & 111           \\\\\n",
       "\t Washington     & 449            & 67             & 105            &  7             &  4             & 19             & 651           \\\\\n",
       "\t West Virginia  &  22            & 29             &   5            &  1             &  0             &  1             &  58           \\\\\n",
       "\t Wisconsin      &  69            & 14             &  16            &  3             &  3             & 11             & 116           \\\\\n",
       "\t Wyoming        &  11            &  2             &   4            &  1             &  1             &  0             &  19           \\\\\n",
       "\\end{tabular}\n"
      ],
      "text/markdown": [
       "\n",
       "| State | Race/Ethnicity/Ancestry | Religion | Sexual_Orientation | Disability | Gender | Gender_Identity | sum |\n",
       "|---|---|---|---|---|---|---|---|\n",
       "| Alabama        | 137            | 72             |  32            |  5             |  5             |  4             | 255            |\n",
       "| Alaska         |   5            |  0             |   4            |  0             |  2             |  1             |  12            |\n",
       "| Arizona        |  61            | 15             |  16            |  0             |  0             |  4             |  96            |\n",
       "| Arkansas       |  31            |  3             |   9            |  0             |  3             |  2             |  48            |\n",
       "| California     |  49            |  6             |  16            |  0             |  0             |  3             |  74            |\n",
       "| Colorado       | 182            | 40             |  67            |  4             |  1             | 18             | 312            |\n",
       "| Connecticut    |  65            |  9             |  17            |  1             |  0             |  0             |  92            |\n",
       "| Delaware       |   5            |  2             |   2            |  0             |  0             |  0             |   9            |\n",
       "| Florida        |   1            |  0             |   0            |  0             |  0             |  0             |   1            |\n",
       "| Georgia        | 164            | 29             |  37            |  3             |  3             | 12             | 248            |\n",
       "| Hawaii         |  29            |  4             |   3            |  0             |  0             |  0             |  36            |\n",
       "| Idaho          |  29            |  4             |  11            |  0             |  0             |  0             |  44            |\n",
       "| Illinois       |  70            | 14             |  11            |  1             |  2             |  0             |  98            |\n",
       "| Indiana        |  87            | 24             |  17            |  0             |  2             | 11             | 141            |\n",
       "| Iowa           |  75            | 10             |  10            |  4             |  3             |  3             | 105            |\n",
       "| Kansas         |  72            | 35             |  16            |  5             |  1             |  1             | 130            |\n",
       "| Kentucky       |  91            |  6             |  40            |  4             |  0             | 13             | 154            |\n",
       "| Louisiana      | 109            | 30             |   7            |  3             |  1             |  0             | 150            |\n",
       "| Maine          |  36            |  9             |  25            |  1             |  2             |  3             |  76            |\n",
       "| Maryland       |  56            | 14             |  12            |  2             |  1             |  4             |  89            |\n",
       "| Massachusetts  | 280            | 84             |  82            |  3             |  5             | 10             | 464            |\n",
       "| Michigan       | 294            | 52             |  60            |  4             |  7             | 13             | 430            |\n",
       "| Minnesota      | 175            | 44             |  44            |  2             |  2             |  7             | 274            |\n",
       "| Mississippi    |  26            |  0             |   2            |  0             |  3             |  0             |  31            |\n",
       "| Missouri       | 131            | 27             |  38            |  4             |  2             |  9             | 211            |\n",
       "| Montana        |  10            |  0             |   6            |  0             |  0             |  1             |  17            |\n",
       "| Nebraska       |  32            |  4             |   7            |  2             |  0             |  2             |  47            |\n",
       "| Nevada         | 174            | 19             |  30            |  1             |  2             |  6             | 232            |\n",
       "| New Hampshire  |  16            |  8             |   7            |  1             |  1             |  1             |  34            |\n",
       "| New Jersey     | 148            | 40             |  23            |  0             |  0             | 15             | 226            |\n",
       "| New Mexico     |  33            | 11             |   7            |  2             |  0             |  1             |  54            |\n",
       "| New York       |  32            | 21             |  15            |  0             |  2             |  1             |  71            |\n",
       "| North Carolina | 180            | 62             |  36            |  7             |  2             |  3             | 290            |\n",
       "| North Dakota   |  29            |  2             |   8            |  0             |  0             |  0             |  39            |\n",
       "| Ohio           | 299            | 71             |  68            | 44             |  4             | 41             | 527            |\n",
       "| Oklahoma       |  49            |  4             |  15            |  2             |  6             |  0             |  76            |\n",
       "| Oregon         | 201            | 27             |  51            |  2             |  1             | 13             | 295            |\n",
       "| Pennsylvania   | 117            | 19             |  25            |  1             |  1             |  0             | 163            |\n",
       "| Rhode Island   |  10            |  6             |   3            |  0             |  0             |  0             |  19            |\n",
       "| South Carolina |  49            | 32             |  21            |  2             |  0             |  3             | 107            |\n",
       "| South Dakota   |  15            |  2             |   9            |  0             |  2             |  0             |  28            |\n",
       "| Tennessee      |  91            | 19             |  20            | 11             |  2             |  4             | 147            |\n",
       "| Texas          | 347            | 53             | 111            | 17             | 10             | 28             | 566            |\n",
       "| Utah           |  56            | 23             |  25            |  1             |  1             | 10             | 116            |\n",
       "| Vermont        |  30            |  5             |   6            |  0             |  0             |  0             |  41            |\n",
       "| Virginia       |  76            | 11             |  23            |  0             |  0             |  1             | 111            |\n",
       "| Washington     | 449            | 67             | 105            |  7             |  4             | 19             | 651            |\n",
       "| West Virginia  |  22            | 29             |   5            |  1             |  0             |  1             |  58            |\n",
       "| Wisconsin      |  69            | 14             |  16            |  3             |  3             | 11             | 116            |\n",
       "| Wyoming        |  11            |  2             |   4            |  1             |  1             |  0             |  19            |\n",
       "\n"
      ],
      "text/plain": [
       "   State          Race/Ethnicity/Ancestry Religion Sexual_Orientation\n",
       "1  Alabama        137                     72        32               \n",
       "2  Alaska           5                      0         4               \n",
       "3  Arizona         61                     15        16               \n",
       "4  Arkansas        31                      3         9               \n",
       "5  California      49                      6        16               \n",
       "6  Colorado       182                     40        67               \n",
       "7  Connecticut     65                      9        17               \n",
       "8  Delaware         5                      2         2               \n",
       "9  Florida          1                      0         0               \n",
       "10 Georgia        164                     29        37               \n",
       "11 Hawaii          29                      4         3               \n",
       "12 Idaho           29                      4        11               \n",
       "13 Illinois        70                     14        11               \n",
       "14 Indiana         87                     24        17               \n",
       "15 Iowa            75                     10        10               \n",
       "16 Kansas          72                     35        16               \n",
       "17 Kentucky        91                      6        40               \n",
       "18 Louisiana      109                     30         7               \n",
       "19 Maine           36                      9        25               \n",
       "20 Maryland        56                     14        12               \n",
       "21 Massachusetts  280                     84        82               \n",
       "22 Michigan       294                     52        60               \n",
       "23 Minnesota      175                     44        44               \n",
       "24 Mississippi     26                      0         2               \n",
       "25 Missouri       131                     27        38               \n",
       "26 Montana         10                      0         6               \n",
       "27 Nebraska        32                      4         7               \n",
       "28 Nevada         174                     19        30               \n",
       "29 New Hampshire   16                      8         7               \n",
       "30 New Jersey     148                     40        23               \n",
       "31 New Mexico      33                     11         7               \n",
       "32 New York        32                     21        15               \n",
       "33 North Carolina 180                     62        36               \n",
       "34 North Dakota    29                      2         8               \n",
       "35 Ohio           299                     71        68               \n",
       "36 Oklahoma        49                      4        15               \n",
       "37 Oregon         201                     27        51               \n",
       "38 Pennsylvania   117                     19        25               \n",
       "39 Rhode Island    10                      6         3               \n",
       "40 South Carolina  49                     32        21               \n",
       "41 South Dakota    15                      2         9               \n",
       "42 Tennessee       91                     19        20               \n",
       "43 Texas          347                     53       111               \n",
       "44 Utah            56                     23        25               \n",
       "45 Vermont         30                      5         6               \n",
       "46 Virginia        76                     11        23               \n",
       "47 Washington     449                     67       105               \n",
       "48 West Virginia   22                     29         5               \n",
       "49 Wisconsin       69                     14        16               \n",
       "50 Wyoming         11                      2         4               \n",
       "   Disability Gender Gender_Identity sum\n",
       "1   5          5      4              255\n",
       "2   0          2      1               12\n",
       "3   0          0      4               96\n",
       "4   0          3      2               48\n",
       "5   0          0      3               74\n",
       "6   4          1     18              312\n",
       "7   1          0      0               92\n",
       "8   0          0      0                9\n",
       "9   0          0      0                1\n",
       "10  3          3     12              248\n",
       "11  0          0      0               36\n",
       "12  0          0      0               44\n",
       "13  1          2      0               98\n",
       "14  0          2     11              141\n",
       "15  4          3      3              105\n",
       "16  5          1      1              130\n",
       "17  4          0     13              154\n",
       "18  3          1      0              150\n",
       "19  1          2      3               76\n",
       "20  2          1      4               89\n",
       "21  3          5     10              464\n",
       "22  4          7     13              430\n",
       "23  2          2      7              274\n",
       "24  0          3      0               31\n",
       "25  4          2      9              211\n",
       "26  0          0      1               17\n",
       "27  2          0      2               47\n",
       "28  1          2      6              232\n",
       "29  1          1      1               34\n",
       "30  0          0     15              226\n",
       "31  2          0      1               54\n",
       "32  0          2      1               71\n",
       "33  7          2      3              290\n",
       "34  0          0      0               39\n",
       "35 44          4     41              527\n",
       "36  2          6      0               76\n",
       "37  2          1     13              295\n",
       "38  1          1      0              163\n",
       "39  0          0      0               19\n",
       "40  2          0      3              107\n",
       "41  0          2      0               28\n",
       "42 11          2      4              147\n",
       "43 17         10     28              566\n",
       "44  1          1     10              116\n",
       "45  0          0      0               41\n",
       "46  0          0      1              111\n",
       "47  7          4     19              651\n",
       "48  1          0      1               58\n",
       "49  3          3     11              116\n",
       "50  1          1      0               19"
      ]
     },
     "metadata": {},
     "output_type": "display_data"
    }
   ],
   "source": [
    "hatecrimes <-crimeState\n",
    "hatecrimes$sum <- rowSums(hatecrimes[,c(2:7)])\n",
    "head(hatecrimes)\n",
    "plt <-hatecrimes\n",
    "plt <-plt[,-c(2,3,4,5,6,7)]\n",
    "summary(plt)\n",
    "na.omit(hatecrimes)"
   ]
  },
  {
   "cell_type": "code",
   "execution_count": 5,
   "id": "8834ade0",
   "metadata": {
    "_cell_guid": "7d14f268-7367-4172-a08b-17ee37412793",
    "_uuid": "bec06ce1-acc0-4e72-b0cb-9af16ec5df23",
    "collapsed": false,
    "jupyter": {
     "outputs_hidden": false
    },
    "papermill": {
     "duration": 0.102032,
     "end_time": "2023-04-28T20:32:15.053693",
     "exception": false,
     "start_time": "2023-04-28T20:32:14.951661",
     "status": "completed"
    },
    "tags": []
   },
   "outputs": [
    {
     "data": {
      "text/html": [
       "<table>\n",
       "<thead><tr><th></th><th scope=col>State</th><th scope=col>Race/Ethnicity/Ancestry</th><th scope=col>Religion</th><th scope=col>Sexual_Orientation</th><th scope=col>Disability</th><th scope=col>Gender</th><th scope=col>Gender_Identity</th><th scope=col>sum</th></tr></thead>\n",
       "<tbody>\n",
       "\t<tr><th scope=row>9</th><td>Florida</td><td>1      </td><td>0      </td><td>0      </td><td>0      </td><td>0      </td><td>0      </td><td>1      </td></tr>\n",
       "</tbody>\n",
       "</table>\n"
      ],
      "text/latex": [
       "\\begin{tabular}{r|llllllll}\n",
       "  & State & Race/Ethnicity/Ancestry & Religion & Sexual\\_Orientation & Disability & Gender & Gender\\_Identity & sum\\\\\n",
       "\\hline\n",
       "\t9 & Florida & 1       & 0       & 0       & 0       & 0       & 0       & 1      \\\\\n",
       "\\end{tabular}\n"
      ],
      "text/markdown": [
       "\n",
       "| <!--/--> | State | Race/Ethnicity/Ancestry | Religion | Sexual_Orientation | Disability | Gender | Gender_Identity | sum |\n",
       "|---|---|---|---|---|---|---|---|---|\n",
       "| 9 | Florida | 1       | 0       | 0       | 0       | 0       | 0       | 1       |\n",
       "\n"
      ],
      "text/plain": [
       "  State   Race/Ethnicity/Ancestry Religion Sexual_Orientation Disability Gender\n",
       "9 Florida 1                       0        0                  0          0     \n",
       "  Gender_Identity sum\n",
       "9 0               1  "
      ]
     },
     "metadata": {},
     "output_type": "display_data"
    }
   ],
   "source": [
    "hatecrimes[9,]"
   ]
  },
  {
   "cell_type": "code",
   "execution_count": 6,
   "id": "c4bbff29",
   "metadata": {
    "_cell_guid": "3144105b-a3ff-45be-8fe2-0fb98b724058",
    "_uuid": "2f9d20de-1bbc-4886-8891-61ae6019497b",
    "collapsed": false,
    "jupyter": {
     "outputs_hidden": false
    },
    "papermill": {
     "duration": 0.047314,
     "end_time": "2023-04-28T20:32:15.118719",
     "exception": true,
     "start_time": "2023-04-28T20:32:15.071405",
     "status": "failed"
    },
    "tags": []
   },
   "outputs": [
    {
     "ename": "ERROR",
     "evalue": "Error in read_csv(\"/kaggle/input/hatecrimeproject/reportingStates.csv\"): could not find function \"read_csv\"\n",
     "output_type": "error",
     "traceback": [
      "Error in read_csv(\"/kaggle/input/hatecrimeproject/reportingStates.csv\"): could not find function \"read_csv\"\nTraceback:\n"
     ]
    }
   ],
   "source": [
    "reportingStates <- read_csv('/kaggle/input/hatecrimeproject/reportingStates.csv')\n",
    "reportingStates"
   ]
  },
  {
   "cell_type": "code",
   "execution_count": 7,
   "id": "6c531524",
   "metadata": {
    "_cell_guid": "5b956ec9-b33e-4537-9376-cdf23797707c",
    "_uuid": "7c5a2350-e24f-446e-ba72-b219cccfa1e8",
    "collapsed": false,
    "jupyter": {
     "outputs_hidden": false
    },
    "papermill": {
     "duration": null,
     "end_time": null,
     "exception": null,
     "start_time": null,
     "status": "pending"
    },
    "tags": []
   },
   "outputs": [
    {
     "ename": "ERROR",
     "evalue": "Error in eval(expr, envir, enclos): object 'merged' not found\n",
     "output_type": "error",
     "traceback": [
      "Error in eval(expr, envir, enclos): object 'merged' not found\nTraceback:\n"
     ]
    }
   ],
   "source": [
    "merged[9,]"
   ]
  },
  {
   "cell_type": "markdown",
   "id": "8fbd19e1",
   "metadata": {
    "_cell_guid": "e66d6038-135a-4fe4-987c-5749200e0013",
    "_uuid": "ec7f0fe3-e6db-4ee8-90d0-0354344dfa8b",
    "papermill": {
     "duration": null,
     "end_time": null,
     "exception": null,
     "start_time": null,
     "status": "pending"
    },
    "tags": []
   },
   "source": [
    "fbi tables:\n",
    "- crimeByBias\n",
    "- typeOfCrime\n",
    "- crimeVictims\n",
    "- crimeLocation\n",
    "- crimeTypeByState\n",
    "- crimeState\n",
    "\n",
    "\n",
    "ACLU tables:\n",
    "- antiLgbtq\n",
    "- religiousExemption\n",
    "- preemptingProtection\n",
    "- lgtbqEquality"
   ]
  },
  {
   "cell_type": "code",
   "execution_count": 8,
   "id": "172e1d1b",
   "metadata": {
    "_cell_guid": "2f481c59-1491-4e3f-a97b-be7b8a4c3ab9",
    "_kg_hide-output": true,
    "_uuid": "e7374e24-eb97-40c3-82fb-7dd4ef4dc6d7",
    "collapsed": false,
    "jupyter": {
     "outputs_hidden": false
    },
    "papermill": {
     "duration": null,
     "end_time": null,
     "exception": null,
     "start_time": null,
     "status": "pending"
    },
    "tags": []
   },
   "outputs": [
    {
     "data": {
      "image/png": "[encoded data removed]",
      "text/plain": [
       "Plot with title \"State\""
      ]
     },
     "metadata": {},
     "output_type": "display_data"
    }
   ],
   "source": [
    "counts <- table(antiLgbtq$State)\n",
    "barplot(counts, main='State', xlab = 'State', ylab='Number of Anti Lgbtq Laws',las = 2,cex.names = 0.7)\n",
    "#antiLgbtq"
   ]
  },
  {
   "cell_type": "code",
   "execution_count": 9,
   "id": "96cb84b1",
   "metadata": {
    "_cell_guid": "1b46e114-dbfe-461e-9c4b-413310d08b09",
    "_uuid": "545c6877-6475-4724-b52f-cd9f59cc456d",
    "collapsed": false,
    "jupyter": {
     "outputs_hidden": false
    },
    "papermill": {
     "duration": null,
     "end_time": null,
     "exception": null,
     "start_time": null,
     "status": "pending"
    },
    "tags": []
   },
   "outputs": [
    {
     "data": {
      "image/png": "[encoded data removed]",
      "text/plain": [
       "Plot with title \"State\""
      ]
     },
     "metadata": {},
     "output_type": "display_data"
    }
   ],
   "source": [
    "counts <- table(religiousExemption$State)\n",
    "barplot(counts, main='State', xlab = 'State', ylab='Number of Religous Exemption Laws',las = 2,cex.names = 0.7)"
   ]
  },
  {
   "cell_type": "code",
   "execution_count": 10,
   "id": "335f1411",
   "metadata": {
    "_cell_guid": "51e5365d-ffb3-4483-8a5c-250d7497dca3",
    "_uuid": "6e65372d-eddb-43a2-8cb2-e19b4003034f",
    "collapsed": false,
    "jupyter": {
     "outputs_hidden": false
    },
    "papermill": {
     "duration": null,
     "end_time": null,
     "exception": null,
     "start_time": null,
     "status": "pending"
    },
    "tags": []
   },
   "outputs": [
    {
     "data": {
      "image/png": "[encoded data removed]",
      "text/plain": [
       "Plot with title \"State\""
      ]
     },
     "metadata": {},
     "output_type": "display_data"
    }
   ],
   "source": [
    "counts <- table(preemptingProtection$State)\n",
    "barplot(counts, main='State', xlab = 'State', ylab='Number of Preempting Protection Laws',las = 2,\n",
    "        cex.names = 0.7)"
   ]
  },
  {
   "cell_type": "code",
   "execution_count": 11,
   "id": "446c80d2",
   "metadata": {
    "_cell_guid": "d97d3e26-2cde-4f3b-87b0-6ef6a6c684a0",
    "_uuid": "25e84ac5-a2e3-44d2-b692-46d0b77f06be",
    "collapsed": false,
    "jupyter": {
     "outputs_hidden": false
    },
    "papermill": {
     "duration": null,
     "end_time": null,
     "exception": null,
     "start_time": null,
     "status": "pending"
    },
    "tags": []
   },
   "outputs": [
    {
     "data": {
      "image/png": "[encoded data removed]",
      "text/plain": [
       "Plot with title \"State\""
      ]
     },
     "metadata": {},
     "output_type": "display_data"
    }
   ],
   "source": [
    "counts <- table(lgbtqEquality$State)\n",
    "barplot(counts, main='State', xlab = 'State', ylab='Number of Pro Lgbtq Laws',las = 2,\n",
    "        cex.names = 0.7)"
   ]
  },
  {
   "cell_type": "code",
   "execution_count": null,
   "id": "2945c0fd",
   "metadata": {
    "_cell_guid": "45bd4790-9cba-4a4d-a0c9-ff92709e3e82",
    "_uuid": "203a330f-e788-4eae-b1d5-8fb878101a44",
    "collapsed": false,
    "execution": {
     "iopub.execute_input": "2023-04-28T18:42:57.921250Z",
     "iopub.status.busy": "2023-04-28T18:42:57.914090Z",
     "iopub.status.idle": "2023-04-28T18:42:58.007581Z"
    },
    "jupyter": {
     "outputs_hidden": false
    },
    "papermill": {
     "duration": null,
     "end_time": null,
     "exception": null,
     "start_time": null,
     "status": "pending"
    },
    "tags": []
   },
   "outputs": [],
   "source": [
    "head(crimeState)\n",
    "fix(crimeState)"
   ]
  },
  {
   "cell_type": "code",
   "execution_count": null,
   "id": "a30b1ec9",
   "metadata": {
    "_cell_guid": "2fd72bb5-402e-44a0-956b-0b719905a7f5",
    "_uuid": "9a034539-481c-4ae2-b8ac-84f67d0c15df",
    "collapsed": false,
    "execution": {
     "iopub.execute_input": "2023-04-28T19:52:06.447067Z",
     "iopub.status.busy": "2023-04-28T19:52:06.445537Z",
     "iopub.status.idle": "2023-04-28T19:52:06.466691Z"
    },
    "jupyter": {
     "outputs_hidden": false
    },
    "papermill": {
     "duration": null,
     "end_time": null,
     "exception": null,
     "start_time": null,
     "status": "pending"
    },
    "tags": []
   },
   "outputs": [],
   "source": [
    "names(crimeState)"
   ]
  },
  {
   "cell_type": "code",
   "execution_count": null,
   "id": "88ccc80e",
   "metadata": {
    "_cell_guid": "9ef87c97-dc30-4ae5-9472-cddadc481bd2",
    "_uuid": "c4698727-7fab-4f1f-bddc-c315c57b6341",
    "collapsed": false,
    "execution": {
     "iopub.execute_input": "2023-04-28T19:52:07.031537Z",
     "iopub.status.busy": "2023-04-28T19:52:07.029948Z",
     "iopub.status.idle": "2023-04-28T19:52:07.044004Z"
    },
    "jupyter": {
     "outputs_hidden": false
    },
    "papermill": {
     "duration": null,
     "end_time": null,
     "exception": null,
     "start_time": null,
     "status": "pending"
    },
    "tags": []
   },
   "outputs": [],
   "source": [
    "crimeState <- na.omit(crimeState)"
   ]
  },
  {
   "cell_type": "markdown",
   "id": "efa7afc0",
   "metadata": {
    "_cell_guid": "bb7c65da-1642-49eb-9461-a5abdc05d386",
    "_uuid": "afd15ae2-7b94-4fb4-9497-36bf43f9e0e5",
    "papermill": {
     "duration": null,
     "end_time": null,
     "exception": null,
     "start_time": null,
     "status": "pending"
    },
    "tags": []
   },
   "source": [
    "Data aggregation"
   ]
  },
  {
   "cell_type": "code",
   "execution_count": null,
   "id": "72f3bb03",
   "metadata": {
    "_cell_guid": "0d977433-de40-4465-b806-ce0a57a7a2aa",
    "_uuid": "0515177f-0007-4f00-8e62-53c5400fc524",
    "collapsed": false,
    "execution": {
     "iopub.execute_input": "2023-04-28T19:52:08.329017Z",
     "iopub.status.busy": "2023-04-28T19:52:08.327366Z",
     "iopub.status.idle": "2023-04-28T19:52:08.455189Z"
    },
    "jupyter": {
     "outputs_hidden": false
    },
    "papermill": {
     "duration": null,
     "end_time": null,
     "exception": null,
     "start_time": null,
     "status": "pending"
    },
    "tags": []
   },
   "outputs": [],
   "source": [
    "dataset1 <- crimeState\n",
    "drop <- c(\"Race/Ethnicity/Ancestry\", \"Religion\", \"Disabilitiy\")\n",
    "dataset1 <- dataset1[,!(names(dataset1) %in% drop)]\n",
    "# now we count the bills for each category from ACLU and then add it to the dataset1 respective to State\n",
    "antiLgbtqFreq<- data.frame(table(antiLgbtq$State))\n",
    "religiousExemptionFreq <- data.frame(table(religiousExemption$State))\n",
    "preemptingProtectionFreq <-data.frame(table(preemptingProtection$State))\n",
    "lgbtqEqualityFreq <-data.frame(table(lgbtqEquality$State))\n",
    "#antiLgbtqFreq\n",
    "colnames(antiLgbtqFreq) <- ('Abbrv')\n",
    "colnames(antiLgbtqFreq)[2] <- ('antilgbtqFreq')\n",
    "#religiousExemptionFreq\n",
    "colnames(religiousExemptionFreq) <- ('Abbrv')\n",
    "colnames(religiousExemptionFreq)[2] <- ('religiousExemptionFrequency')\n",
    "#preemptingProtectionFreq\n",
    "colnames(preemptingProtectionFreq) <- ('Abbrv')\n",
    "colnames(preemptingProtectionFreq)[2] <- ('preemptingProtectionFrequency')\n",
    "#lgtbqEqualityFreq\n",
    "colnames(lgbtqEqualityFreq) <- ('Abbrv')\n",
    "colnames(lgbtqEqualityFreq)[2] <- ('lgbtqFreq')\n",
    "#https://ballotpedia.org/Election_results,_2020:_State_legislative_chambers_that_changed_party_control\n",
    "#extracting state level governments \n",
    "stateChambers <- read.csv('/kaggle/input/hatecrimeproject/stateElections.csv')\n",
    "#now we have to join the state dataset with the dataset1\n",
    "states <- read.csv('/kaggle/input/hatecrimeproject/states.csv')\n",
    "states <- data.frame(states)\n",
    "dataset2 <- merge(dataset1, states, by='State', all=TRUE)\n",
    "tempdataset <- dataset2\n",
    "tempdataset <- merge(x=tempdataset, y=antiLgbtqFreq, by.x=c('Abbreviation'), by.y=c('Abbrv'),all=TRUE)\n",
    "tempdataset <- tempdataset[-c(3),-c(4)]\n",
    "tempdataset <- merge(x=tempdataset, y=religiousExemptionFreq, by.x=c('Abbreviation'), by.y=c('Abbrv'),all=TRUE)\n",
    "tempdataset <- merge(x=tempdataset, y=preemptingProtectionFreq, by.x=c('Abbreviation'), by.y=c('Abbrv'),all=TRUE)\n",
    "tempdataset <- merge(x=tempdataset, y=lgbtqEqualityFreq, by.x=c('Abbreviation'), by.y=c('Abbrv'),all=TRUE)\n",
    "tempdataset[is.na(tempdataset)] <- 0\n",
    "tempdataset$crimeSum <- rowSums(tempdataset[,c(3,4,5)], na.rm=TRUE)\n",
    "tempdataset$antiFreq <- rowSums(tempdataset[,c(6,7,8)],na.rm=TRUE)\n",
    "statePolarity <- read.csv('/kaggle/input/percent-voting-for-democratic-party-by-state/democratic_vs_republican_votes_by_usa_state_2020.csv')\n",
    "statePolarity <- statePolarity[-c(9),-c(4)]\n",
    "statePolarity$percent_republican <- 100 - statePolarity$percent_democrat\n",
    "statePolarity$population <- rowSums(statePolarity[,c(2,3)])\n",
    "summary(tempdataset)"
   ]
  },
  {
   "cell_type": "code",
   "execution_count": null,
   "id": "55f0ae9c",
   "metadata": {
    "_cell_guid": "bc939129-a3f7-4ebf-8498-2dba896d557c",
    "_uuid": "493ec0e2-5325-4384-b4c6-23aec2fb2019",
    "collapsed": false,
    "execution": {
     "iopub.execute_input": "2023-04-28T19:52:09.825175Z",
     "iopub.status.busy": "2023-04-28T19:52:09.823611Z",
     "iopub.status.idle": "2023-04-28T19:52:09.851006Z"
    },
    "jupyter": {
     "outputs_hidden": false
    },
    "papermill": {
     "duration": null,
     "end_time": null,
     "exception": null,
     "start_time": null,
     "status": "pending"
    },
    "tags": []
   },
   "outputs": [],
   "source": [
    "merged = merge(tempdataset, statePolarity, by.x=c('Abbreviation', 'State'), by.y=c('usa_state_code', 'state'))\n",
    "merged <- merge(merged, stateChambers, by.x=c('State'),by.y=c('state'))\n",
    "summary(merged)"
   ]
  },
  {
   "cell_type": "code",
   "execution_count": null,
   "id": "27d8f3fc",
   "metadata": {
    "_cell_guid": "230bcafa-14b9-4371-a56f-a76ecba9a307",
    "_uuid": "6eb6d252-d081-448b-90e7-fec5b651e8dd",
    "collapsed": false,
    "execution": {
     "iopub.execute_input": "2023-04-28T19:52:11.607177Z",
     "iopub.status.busy": "2023-04-28T19:52:11.605545Z",
     "iopub.status.idle": "2023-04-28T19:52:12.476483Z"
    },
    "jupyter": {
     "outputs_hidden": false
    },
    "papermill": {
     "duration": null,
     "end_time": null,
     "exception": null,
     "start_time": null,
     "status": "pending"
    },
    "tags": []
   },
   "outputs": [],
   "source": [
    "library(tidyverse)\n",
    "library(ggplot2)"
   ]
  },
  {
   "cell_type": "code",
   "execution_count": null,
   "id": "56a3bad0",
   "metadata": {
    "_cell_guid": "884f8b9d-d71a-4027-8783-40179d058777",
    "_uuid": "420653b2-7372-49bc-93cd-2f7636244616",
    "collapsed": false,
    "execution": {
     "iopub.execute_input": "2023-04-28T19:52:12.480796Z",
     "iopub.status.busy": "2023-04-28T19:52:12.479018Z",
     "iopub.status.idle": "2023-04-28T19:52:12.492400Z"
    },
    "jupyter": {
     "outputs_hidden": false
    },
    "papermill": {
     "duration": null,
     "end_time": null,
     "exception": null,
     "start_time": null,
     "status": "pending"
    },
    "tags": []
   },
   "outputs": [],
   "source": [
    "fig <- function(width, heigth){\n",
    "     options(repr.plot.width = width, repr.plot.height = heigth)\n",
    "}"
   ]
  },
  {
   "cell_type": "code",
   "execution_count": null,
   "id": "c72f28ee",
   "metadata": {
    "_cell_guid": "9aaf90aa-d44a-4955-a738-12b6452be5e5",
    "_uuid": "5fae1479-905e-4adf-9c74-afe59f7b50e7",
    "collapsed": false,
    "execution": {
     "iopub.execute_input": "2023-04-28T19:52:12.907232Z",
     "iopub.status.busy": "2023-04-28T19:52:12.905415Z",
     "iopub.status.idle": "2023-04-28T19:52:14.778796Z"
    },
    "jupyter": {
     "outputs_hidden": false
    },
    "papermill": {
     "duration": null,
     "end_time": null,
     "exception": null,
     "start_time": null,
     "status": "pending"
    },
    "tags": []
   },
   "outputs": [],
   "source": [
    "fig(10,4)\n",
    "ggplot(merged, aes(x=antiFreq, y=crimeSum))+geom_point()+stat_smooth()"
   ]
  },
  {
   "cell_type": "code",
   "execution_count": null,
   "id": "ff199347",
   "metadata": {
    "_cell_guid": "83c82805-8771-40cc-9164-e440138138bc",
    "_uuid": "587b91b4-4b06-42d6-9e0d-0c587a797621",
    "collapsed": false,
    "execution": {
     "iopub.execute_input": "2023-04-28T19:52:15.131601Z",
     "iopub.status.busy": "2023-04-28T19:52:15.130102Z",
     "iopub.status.idle": "2023-04-28T19:52:15.147884Z"
    },
    "jupyter": {
     "outputs_hidden": false
    },
    "papermill": {
     "duration": null,
     "end_time": null,
     "exception": null,
     "start_time": null,
     "status": "pending"
    },
    "tags": []
   },
   "outputs": [],
   "source": [
    "cor(merged$antiFreq, merged$crimeSum)"
   ]
  },
  {
   "cell_type": "code",
   "execution_count": null,
   "id": "50516a17",
   "metadata": {
    "_cell_guid": "4f3a2220-52f9-4cdd-9aec-c85268647a90",
    "_uuid": "ec27d388-a9ca-4787-9102-1a1661ee5221",
    "collapsed": false,
    "execution": {
     "iopub.execute_input": "2023-04-28T20:19:05.894526Z",
     "iopub.status.busy": "2023-04-28T20:19:05.892858Z",
     "iopub.status.idle": "2023-04-28T20:19:05.925117Z"
    },
    "jupyter": {
     "outputs_hidden": false
    },
    "papermill": {
     "duration": null,
     "end_time": null,
     "exception": null,
     "start_time": null,
     "status": "pending"
    },
    "tags": []
   },
   "outputs": [],
   "source": [
    "model <- lm(crimeSum ~ antiFreq, data=merged)\n",
    "texas <- merged[43,]\n",
    "washington<- merged[47,]\n",
    "ohio <- merged[35,]\n",
    "summary(model)"
   ]
  },
  {
   "cell_type": "code",
   "execution_count": null,
   "id": "24ee7e50",
   "metadata": {
    "_cell_guid": "5135ff73-f91b-4015-a29c-359a786b1b39",
    "_uuid": "975e4843-988c-402a-a0f9-5058b84fd862",
    "collapsed": false,
    "execution": {
     "iopub.execute_input": "2023-04-28T18:43:06.576265Z",
     "iopub.status.busy": "2023-04-28T18:43:06.574105Z",
     "iopub.status.idle": "2023-04-28T18:43:06.760699Z"
    },
    "jupyter": {
     "outputs_hidden": false
    },
    "papermill": {
     "duration": null,
     "end_time": null,
     "exception": null,
     "start_time": null,
     "status": "pending"
    },
    "tags": []
   },
   "outputs": [],
   "source": [
    "fig(10,6)\n",
    "par(mfrow =c(2,2))\n",
    "plot(model)"
   ]
  },
  {
   "cell_type": "markdown",
   "id": "626ccfb9",
   "metadata": {
    "_cell_guid": "5faba44c-efe1-4ca1-90d1-0a06da070acd",
    "_uuid": "b00557df-28f3-4b68-8b99-1e236d11a7ab",
    "papermill": {
     "duration": null,
     "end_time": null,
     "exception": null,
     "start_time": null,
     "status": "pending"
    },
    "tags": []
   },
   "source": [
    "Above is the linear regression for crimeSums and antiFreq of laws\n",
    "- found that Texas has the most leverage in the dataset which is interesting because they had the highest of not only just antiLGBTQ hate crimes but also hatecrimes in general from the FBI data. Also having the highest AntiLgbtq legislation count\n",
    "- Also Washington being an intersting case, having high leverage, high antiLgbtq hatecrime rate yet no antiLGBTQ legislation passed \n",
    "- residuals are messy, not even linear safe to assume there is no linear relationship between the two\n",
    "- therefore it is safe to assume for the raw number of antiLGBTQ hatecrimes and antiLGBTQ legislation, there is no correlation. \n",
    "- however in the next model i will consider percentages of crimes instead"
   ]
  },
  {
   "cell_type": "markdown",
   "id": "fc22fe2b",
   "metadata": {
    "_cell_guid": "9a9c90b2-6a88-4260-97c0-d1a7b1bd24ef",
    "_uuid": "66b6b76f-d49b-4854-a1a4-e91f0c6d73ae",
    "papermill": {
     "duration": null,
     "end_time": null,
     "exception": null,
     "start_time": null,
     "status": "pending"
    },
    "tags": []
   },
   "source": [
    "New idea: Trying to make crimes as a percentage rather than number"
   ]
  },
  {
   "cell_type": "code",
   "execution_count": null,
   "id": "5d5d65e5",
   "metadata": {
    "_cell_guid": "71dc2be5-124d-4108-8ab7-3151bd1a930e",
    "_uuid": "d9384bad-8259-4929-9546-c5c2f075339e",
    "collapsed": false,
    "execution": {
     "iopub.execute_input": "2023-04-28T20:18:58.926603Z",
     "iopub.status.busy": "2023-04-28T20:18:58.925086Z",
     "iopub.status.idle": "2023-04-28T20:18:58.972747Z"
    },
    "jupyter": {
     "outputs_hidden": false
    },
    "papermill": {
     "duration": null,
     "end_time": null,
     "exception": null,
     "start_time": null,
     "status": "pending"
    },
    "tags": []
   },
   "outputs": [],
   "source": [
    "hatecrimes<- na.omit(hatecrimes)\n",
    "merged$crime_percent <- merged$crimeSum/hatecrimes$sum\n",
    "head(merged)"
   ]
  },
  {
   "cell_type": "code",
   "execution_count": null,
   "id": "b67fb6a0",
   "metadata": {
    "_cell_guid": "710675df-400b-49ba-84bb-4fb40a324ab0",
    "_uuid": "054509fe-8751-4d6f-b5f9-0ac60261d655",
    "collapsed": false,
    "execution": {
     "iopub.execute_input": "2023-04-28T20:20:43.522295Z",
     "iopub.status.busy": "2023-04-28T20:20:43.520712Z",
     "iopub.status.idle": "2023-04-28T20:20:43.584437Z"
    },
    "jupyter": {
     "outputs_hidden": false
    },
    "papermill": {
     "duration": null,
     "end_time": null,
     "exception": null,
     "start_time": null,
     "status": "pending"
    },
    "tags": []
   },
   "outputs": [],
   "source": [
    "texas[,-c(2,3,4,5,6,7,8,9,12,13)]\n",
    "ohio[,-c(2,3,4,5,6,7,8,9,12,13)]\n",
    "washington[,-c(2,3,4,5,6,7,8,9,12,13)]"
   ]
  },
  {
   "cell_type": "code",
   "execution_count": null,
   "id": "531e3ce1",
   "metadata": {
    "_cell_guid": "a788a3d0-b5f1-4f8e-98e4-9a7d0385c035",
    "_uuid": "62c8fe19-6abe-40a3-aae6-cf560187f72f",
    "collapsed": false,
    "execution": {
     "iopub.execute_input": "2023-04-28T18:43:09.300877Z",
     "iopub.status.busy": "2023-04-28T18:43:09.298382Z",
     "iopub.status.idle": "2023-04-28T18:43:09.724611Z"
    },
    "jupyter": {
     "outputs_hidden": false
    },
    "papermill": {
     "duration": null,
     "end_time": null,
     "exception": null,
     "start_time": null,
     "status": "pending"
    },
    "tags": []
   },
   "outputs": [],
   "source": [
    "fig(10, 4)\n",
    "    ggplot(merged, aes(x = antiFreq, y = crime_percent)) +\n",
    "      geom_point() +\n",
    "      stat_smooth(method = lm)"
   ]
  },
  {
   "cell_type": "code",
   "execution_count": null,
   "id": "b6e774f8",
   "metadata": {
    "_cell_guid": "a20c2970-2a46-4145-97f1-d5534a355033",
    "_uuid": "9baa468e-d29a-4624-9cc7-f4216793fd5a",
    "collapsed": false,
    "execution": {
     "iopub.execute_input": "2023-04-28T18:43:50.762288Z",
     "iopub.status.busy": "2023-04-28T18:43:50.760634Z",
     "iopub.status.idle": "2023-04-28T18:43:51.219527Z"
    },
    "jupyter": {
     "outputs_hidden": false
    },
    "papermill": {
     "duration": null,
     "end_time": null,
     "exception": null,
     "start_time": null,
     "status": "pending"
    },
    "tags": []
   },
   "outputs": [],
   "source": [
    "cor(merged$antiFreq, merged$crime_percent)\n",
    "model <- lm(merged$crime_percent~ merged$antiFreq)\n",
    "summary(model)\n",
    "fig(10,6)\n",
    "plot(model)"
   ]
  },
  {
   "cell_type": "markdown",
   "id": "fd16286d",
   "metadata": {
    "_cell_guid": "d243db23-e5c2-425a-aa19-2b90c16676ab",
    "_uuid": "3132165b-1950-48f3-b49d-34f1d89ab22a",
    "papermill": {
     "duration": null,
     "end_time": null,
     "exception": null,
     "start_time": null,
     "status": "pending"
    },
    "tags": []
   },
   "source": [
    "Trying Multi-linear regression"
   ]
  },
  {
   "cell_type": "code",
   "execution_count": null,
   "id": "45ffef16",
   "metadata": {
    "_cell_guid": "65d2b394-363c-4a55-a7b2-b62e667b6ac8",
    "_uuid": "194fd003-c006-4b87-a2eb-732d1d966942",
    "collapsed": false,
    "execution": {
     "iopub.execute_input": "2023-04-28T18:43:11.957563Z",
     "iopub.status.busy": "2023-04-28T18:43:11.955389Z",
     "iopub.status.idle": "2023-04-28T18:43:12.126616Z"
    },
    "jupyter": {
     "outputs_hidden": false
    },
    "papermill": {
     "duration": null,
     "end_time": null,
     "exception": null,
     "start_time": null,
     "status": "pending"
    },
    "tags": []
   },
   "outputs": [],
   "source": [
    "model <- lm(crimeSum ~ lgbtqFreq, data=merged)\n",
    "summary(model)\n",
    "fig(10,6)\n",
    "par(mfrow =c(2,2))  \n",
    "plot(model)"
   ]
  },
  {
   "cell_type": "code",
   "execution_count": null,
   "id": "bfebb77c",
   "metadata": {
    "_cell_guid": "7eecf338-26a4-4dec-be44-3f624bb9e114",
    "_uuid": "0c7227f8-079e-4ded-b27d-76929967cbfa",
    "collapsed": false,
    "execution": {
     "iopub.execute_input": "2023-04-28T18:44:49.789328Z",
     "iopub.status.busy": "2023-04-28T18:44:49.787276Z",
     "iopub.status.idle": "2023-04-28T18:44:51.277807Z"
    },
    "jupyter": {
     "outputs_hidden": false
    },
    "papermill": {
     "duration": null,
     "end_time": null,
     "exception": null,
     "start_time": null,
     "status": "pending"
    },
    "tags": []
   },
   "outputs": [],
   "source": [
    "fig(10,10)\n",
    "plot(merged)"
   ]
  },
  {
   "cell_type": "markdown",
   "id": "f24a50c8",
   "metadata": {
    "_cell_guid": "2471a0aa-17ce-4388-84e3-f574937a5631",
    "_uuid": "4c701397-58ca-4d49-8ab6-88a400c42280",
    "papermill": {
     "duration": null,
     "end_time": null,
     "exception": null,
     "start_time": null,
     "status": "pending"
    },
    "tags": []
   },
   "source": [
    "\n",
    "\n",
    "<h1> SUPPORT VECTOR MACHINE FOR Senate majority</h1>"
   ]
  },
  {
   "cell_type": "code",
   "execution_count": null,
   "id": "a588908c",
   "metadata": {
    "_cell_guid": "4a155f57-fcd0-46ce-a92a-bd867f192321",
    "_uuid": "dc41027f-69f0-4655-a5be-66042ead1aed",
    "collapsed": false,
    "execution": {
     "iopub.execute_input": "2023-04-28T18:43:14.623238Z",
     "iopub.status.busy": "2023-04-28T18:43:14.621774Z",
     "iopub.status.idle": "2023-04-28T18:43:14.722355Z"
    },
    "jupyter": {
     "outputs_hidden": false
    },
    "papermill": {
     "duration": null,
     "end_time": null,
     "exception": null,
     "start_time": null,
     "status": "pending"
    },
    "tags": []
   },
   "outputs": [],
   "source": [
    "library(e1071)\n",
    "svmSenate <- merged[2:17]\n",
    "svmSenate <- svmSenate[,-c(2,3,4,5,6,7,8,11,12,13,14,15)]\n",
    "svmSenate[svmSenate=='Democratic'] <- 0 \n",
    "svmSenate[svmSenate=='Republican'] <- 1\n",
    "svmSenate <-svmSenate[,-c(1)]\n",
    "svmSenate$senate = factor(svmSenate$senate, levels = c(0,1))\n",
    "head(svmSenate)\n",
    "library(caTools)"
   ]
  },
  {
   "cell_type": "markdown",
   "id": "d7430f7c",
   "metadata": {
    "_cell_guid": "9a691d56-2a76-4815-bb04-173c0376a754",
    "_uuid": "feadcd4f-1188-4dd9-afcf-f26f8cd4a97c",
    "papermill": {
     "duration": null,
     "end_time": null,
     "exception": null,
     "start_time": null,
     "status": "pending"
    },
    "tags": []
   },
   "source": [
    "Splitting"
   ]
  },
  {
   "cell_type": "code",
   "execution_count": null,
   "id": "7fcd6854",
   "metadata": {
    "_cell_guid": "5dd387a4-01cb-422e-ab53-500fc41dc097",
    "_uuid": "d201e5a0-c395-49ed-9824-be7dd2a85bb9",
    "collapsed": false,
    "execution": {
     "iopub.execute_input": "2023-04-27T18:19:31.742129Z",
     "iopub.status.busy": "2023-04-27T18:19:31.739830Z",
     "iopub.status.idle": "2023-04-27T18:19:31.772013Z"
    },
    "jupyter": {
     "outputs_hidden": false
    },
    "papermill": {
     "duration": null,
     "end_time": null,
     "exception": null,
     "start_time": null,
     "status": "pending"
    },
    "tags": []
   },
   "outputs": [],
   "source": [
    "set.seed(1)\n",
    "split = sample.split(svmSenate$senate, SplitRatio = 0.75)\n",
    "trainSet = subset(svmSenate, split==TRUE)\n",
    "testSet = subset(svmSenate, split==FALSE)\n",
    "trainSet[-3] = scale(trainSet[-3])\n",
    "testSet[-3] = scale(testSet[-3])"
   ]
  },
  {
   "cell_type": "markdown",
   "id": "7aa85da3",
   "metadata": {
    "_cell_guid": "339fe93c-3faf-47cd-b92f-a260a0a204a0",
    "_uuid": "0f08c119-d2cb-4edb-896a-39da2f0394f2",
    "papermill": {
     "duration": null,
     "end_time": null,
     "exception": null,
     "start_time": null,
     "status": "pending"
    },
    "tags": []
   },
   "source": [
    "Feature scaling"
   ]
  },
  {
   "cell_type": "code",
   "execution_count": null,
   "id": "8158e209",
   "metadata": {
    "_cell_guid": "9cc79cd3-f7c8-408e-8202-25ef0307e8cd",
    "_uuid": "62abc3e5-fbdc-4198-afd4-5b401af90aeb",
    "collapsed": false,
    "execution": {
     "iopub.execute_input": "2023-04-27T18:19:32.758058Z",
     "iopub.status.busy": "2023-04-27T18:19:32.754531Z",
     "iopub.status.idle": "2023-04-27T18:19:33.003660Z"
    },
    "jupyter": {
     "outputs_hidden": false
    },
    "papermill": {
     "duration": null,
     "end_time": null,
     "exception": null,
     "start_time": null,
     "status": "pending"
    },
    "tags": []
   },
   "outputs": [],
   "source": [
    "#SVM https://www.geeksforgeeks.org/classifying-data-using-support-vector-machinessvms-in-r/#\n",
    "#https://www.kaggle.com/code/aniketvishwakarma/alternative-of-elemstatlearn-for-visualisation\n",
    "classifier = svm(formula= senate ~., data = trainSet,kernel='linear')\n",
    "classifier\n",
    "y_pred = predict(classifier, newdata = testSet[-3])\n",
    "y_pred\n",
    "fig <- function(width, height){\n",
    "    options(repr.plot.width = width, repr.plot.height = height)\n",
    "}\n",
    "fig(10,10)\n",
    "plot(classifier, trainSet, xlim=c(-1,3),ylim=c(-1,3))"
   ]
  },
  {
   "cell_type": "code",
   "execution_count": null,
   "id": "2782c972",
   "metadata": {
    "_cell_guid": "80837d8e-61ec-4e66-b3db-710486561fec",
    "_uuid": "bd68828e-daae-4eb6-b2d4-4c0222127a9a",
    "collapsed": false,
    "execution": {
     "iopub.execute_input": "2023-04-27T18:19:35.640468Z",
     "iopub.status.busy": "2023-04-27T18:19:35.638457Z",
     "iopub.status.idle": "2023-04-27T18:19:35.807606Z"
    },
    "jupyter": {
     "outputs_hidden": false
    },
    "papermill": {
     "duration": null,
     "end_time": null,
     "exception": null,
     "start_time": null,
     "status": "pending"
    },
    "tags": []
   },
   "outputs": [],
   "source": [
    "cmL <- table(testSet$senate,y_pred)\n",
    "fourfoldplot(cmL, color = c(\"#CC6666\", \"#99CC99\"),\n",
    "             conf.level = 0, margin = 1, main = \"Confusion Matrix\")"
   ]
  },
  {
   "cell_type": "markdown",
   "id": "31a8a8fe",
   "metadata": {
    "_cell_guid": "30ac796a-69e9-4f69-af6b-19864a229799",
    "_uuid": "e09a9be7-6e00-44e4-9d4d-64f351d6da3c",
    "papermill": {
     "duration": null,
     "end_time": null,
     "exception": null,
     "start_time": null,
     "status": "pending"
    },
    "tags": []
   },
   "source": [
    "In the confusion matrix above:\n",
    "#remeber that 0 is Democrat and 1 is Republican majority Senate\n",
    "- 2 false democratic\n",
    "- 1 false republiucan\n",
    "- 3 correct for democratic\n",
    "- 6 correct for republican\n",
    "\n",
    "\n",
    "- 75% accuracy rate\n",
    "- 8.33% false republican rate\n",
    "- 16.67% false democratic"
   ]
  },
  {
   "cell_type": "code",
   "execution_count": null,
   "id": "90249db0",
   "metadata": {
    "_cell_guid": "0465c4ba-7c78-4da0-8180-c70928df57aa",
    "_uuid": "8dfdc129-828e-4f92-b117-8e6b9a048ac3",
    "collapsed": false,
    "execution": {
     "iopub.execute_input": "2023-04-27T18:19:37.131484Z",
     "iopub.status.busy": "2023-04-27T18:19:37.129566Z",
     "iopub.status.idle": "2023-04-27T18:19:37.310372Z"
    },
    "jupyter": {
     "outputs_hidden": false
    },
    "papermill": {
     "duration": null,
     "end_time": null,
     "exception": null,
     "start_time": null,
     "status": "pending"
    },
    "tags": []
   },
   "outputs": [],
   "source": [
    "plot(classifier, testSet, xlim=c(-1,3),ylim=c(-1,3))"
   ]
  },
  {
   "cell_type": "markdown",
   "id": "d2c5f970",
   "metadata": {
    "_cell_guid": "709a5106-f05e-48a1-ada7-7f0191074ac7",
    "_uuid": "d138d818-3cab-4cde-8ca0-c0cf9bf5daca",
    "papermill": {
     "duration": null,
     "end_time": null,
     "exception": null,
     "start_time": null,
     "status": "pending"
    },
    "tags": []
   },
   "source": [
    "<h1> Now we do SVM for house </h1>"
   ]
  },
  {
   "cell_type": "code",
   "execution_count": null,
   "id": "37e29aad",
   "metadata": {
    "_cell_guid": "81a2e2a3-e96b-4131-80bd-6d1b4e43f64d",
    "_uuid": "c690039c-30d7-4010-9815-aae25ee7daf6",
    "collapsed": false,
    "execution": {
     "iopub.execute_input": "2023-04-27T18:19:39.219648Z",
     "iopub.status.busy": "2023-04-27T18:19:39.217995Z",
     "iopub.status.idle": "2023-04-27T18:19:39.255305Z"
    },
    "jupyter": {
     "outputs_hidden": false
    },
    "papermill": {
     "duration": null,
     "end_time": null,
     "exception": null,
     "start_time": null,
     "status": "pending"
    },
    "tags": []
   },
   "outputs": [],
   "source": [
    "head(merged)"
   ]
  },
  {
   "cell_type": "code",
   "execution_count": null,
   "id": "eee97fae",
   "metadata": {
    "_cell_guid": "65a91153-19f7-4d6b-aac3-130a2c2c7a6e",
    "_uuid": "242c4a51-dce9-4607-96d5-57a042e985de",
    "collapsed": false,
    "execution": {
     "iopub.execute_input": "2023-04-27T18:19:39.867439Z",
     "iopub.status.busy": "2023-04-27T18:19:39.865933Z",
     "iopub.status.idle": "2023-04-27T18:19:40.067625Z"
    },
    "jupyter": {
     "outputs_hidden": false
    },
    "papermill": {
     "duration": null,
     "end_time": null,
     "exception": null,
     "start_time": null,
     "status": "pending"
    },
    "tags": []
   },
   "outputs": [],
   "source": [
    "library(e1071)\n",
    "svmPres <- merged[9:15]\n",
    "svmPres <- svmPres[,-c(1,4,5)]\n",
    "svmPres$majority <- ifelse(svmPres$percent_republican < 50, 0, 1)\n",
    "svmPres <- svmPres[,-c(3,4)]\n",
    "svmPres$majority = factor(svmPres$majority, levels = c(0,1))\n",
    "set.seed(123)\n",
    "split = sample.split(svmPres$majority, SplitRatio = 0.75)\n",
    "trainSet2 = subset(svmPres, split==TRUE)\n",
    "testSet2 = subset(svmPres, split==FALSE)\n",
    "trainSet2[-3] = scale(trainSet2[-3])\n",
    "testSet2[-3] = scale(testSet2[-3])\n",
    "classifier2 = svm(formula= majority ~. , data = trainSet2,kernel='linear')\n",
    "classifier2\n",
    "y_pred = predict(classifier2, newdata = testSet2[-3])\n",
    "y_pred\n",
    "plot(classifier2, trainSet2, xlim=c(-1,2),ylim=c(-1,2))"
   ]
  },
  {
   "cell_type": "markdown",
   "id": "ee857d6b",
   "metadata": {
    "_cell_guid": "6e3ecccc-616b-45cd-bf6c-2c08c1cf6954",
    "_uuid": "193a5f3b-3f45-4c5e-af9b-6d544db2d9e4",
    "papermill": {
     "duration": null,
     "end_time": null,
     "exception": null,
     "start_time": null,
     "status": "pending"
    },
    "tags": []
   },
   "source": [
    "Above is the training data"
   ]
  },
  {
   "cell_type": "code",
   "execution_count": null,
   "id": "63683fcb",
   "metadata": {
    "_cell_guid": "8599128a-eb37-4aaa-9d88-c81205656645",
    "_uuid": "922b2af7-d882-44a5-a287-74f5ad6a31b4",
    "collapsed": false,
    "execution": {
     "iopub.execute_input": "2023-04-27T18:19:41.765523Z",
     "iopub.status.busy": "2023-04-27T18:19:41.763964Z",
     "iopub.status.idle": "2023-04-27T18:19:41.940260Z"
    },
    "jupyter": {
     "outputs_hidden": false
    },
    "papermill": {
     "duration": null,
     "end_time": null,
     "exception": null,
     "start_time": null,
     "status": "pending"
    },
    "tags": []
   },
   "outputs": [],
   "source": [
    "plot(classifier2, testSet2, xlim=c(-1,2),ylim=c(-1,2))"
   ]
  },
  {
   "cell_type": "markdown",
   "id": "11f459fb",
   "metadata": {
    "_cell_guid": "330344e7-57d6-4a89-9159-747f55a1b9e3",
    "_uuid": "5eaae2b9-a262-4d31-bb95-a6a0ed05e877",
    "papermill": {
     "duration": null,
     "end_time": null,
     "exception": null,
     "start_time": null,
     "status": "pending"
    },
    "tags": []
   },
   "source": [
    "above is the test data"
   ]
  },
  {
   "cell_type": "code",
   "execution_count": null,
   "id": "060ebe4f",
   "metadata": {
    "_cell_guid": "cd36074b-48ce-4886-a10e-7425531532ea",
    "_uuid": "2428bb30-3356-4277-aec0-6047d98f63ad",
    "collapsed": false,
    "execution": {
     "iopub.execute_input": "2023-04-27T18:19:43.090388Z",
     "iopub.status.busy": "2023-04-27T18:19:43.088449Z",
     "iopub.status.idle": "2023-04-27T18:19:43.110020Z"
    },
    "jupyter": {
     "outputs_hidden": false
    },
    "papermill": {
     "duration": null,
     "end_time": null,
     "exception": null,
     "start_time": null,
     "status": "pending"
    },
    "tags": []
   },
   "outputs": [],
   "source": [
    "cmL <- table(testSet2[,3], y_pred)\n",
    "cmL"
   ]
  },
  {
   "cell_type": "markdown",
   "id": "7b407ce9",
   "metadata": {
    "_cell_guid": "abec4a53-46e0-4972-87c9-d9c24a6c664e",
    "_uuid": "c13426d4-5010-4b60-a726-acf13559890e",
    "papermill": {
     "duration": null,
     "end_time": null,
     "exception": null,
     "start_time": null,
     "status": "pending"
    },
    "tags": []
   },
   "source": [
    "evenly incorrect\n",
    "- 25% for all false positives and negatives"
   ]
  },
  {
   "cell_type": "code",
   "execution_count": null,
   "id": "349a3a79",
   "metadata": {
    "_cell_guid": "7b72a295-75ea-49c9-bf4f-f27400244734",
    "_uuid": "a0661064-dd36-4ecb-b57f-fd130965b06f",
    "collapsed": false,
    "execution": {
     "iopub.execute_input": "2023-04-27T18:19:44.543395Z",
     "iopub.status.busy": "2023-04-27T18:19:44.541602Z",
     "iopub.status.idle": "2023-04-27T18:19:45.446521Z"
    },
    "jupyter": {
     "outputs_hidden": false
    },
    "papermill": {
     "duration": null,
     "end_time": null,
     "exception": null,
     "start_time": null,
     "status": "pending"
    },
    "tags": []
   },
   "outputs": [],
   "source": [
    "## Importing packages\n",
    "library(datasets)   # library(help = \"datasets\")\n",
    "library(tidyverse)  # install.packages(\"tidyverse\"). ggplot2. Details https://www.tidyverse.org\n",
    "library(caret)      # The caret package (short for Classification And REgression Training)\n",
    "library(grid)       # grid is a low-level graphics system which provides a great deal of control and flexibility.\n",
    "library(gridExtra)  # provides useful extensions to the grid system\n",
    "library(GGally)     # Extension to 'ggplot2'. a plotting system based on the grammar of graphics\n",
    "library(rpart)      # Rpart is machine learning library in R that is used for building classification & regression trees\n",
    "library(rpart.plot) # to plot tree\n",
    "library(corrplot)   # provides a visual exploratory tool on correlation matrix\n",
    "library(randomForest)\n",
    "library(caTools)\n",
    "#https://www.r-bloggers.com/2021/04/random-forest-in-r/"
   ]
  },
  {
   "cell_type": "code",
   "execution_count": null,
   "id": "cecd095a",
   "metadata": {
    "_cell_guid": "27d30f6b-f207-4389-a9b4-4d73dcd402f0",
    "_uuid": "8867cb01-6acb-49de-8417-4ffa474a2aad",
    "collapsed": false,
    "execution": {
     "iopub.execute_input": "2023-04-27T18:19:45.450586Z",
     "iopub.status.busy": "2023-04-27T18:19:45.449193Z",
     "iopub.status.idle": "2023-04-27T18:19:45.486948Z"
    },
    "jupyter": {
     "outputs_hidden": false
    },
    "papermill": {
     "duration": null,
     "end_time": null,
     "exception": null,
     "start_time": null,
     "status": "pending"
    },
    "tags": []
   },
   "outputs": [],
   "source": [
    "head(merged)"
   ]
  },
  {
   "cell_type": "code",
   "execution_count": null,
   "id": "7c6f77de",
   "metadata": {
    "_cell_guid": "98b310eb-fd90-4310-967a-d1f0bdf02fbd",
    "_uuid": "c6aa17fd-35f9-419d-b8b6-98fdf1b6a7b1",
    "collapsed": false,
    "execution": {
     "iopub.execute_input": "2023-04-27T18:19:46.325400Z",
     "iopub.status.busy": "2023-04-27T18:19:46.323283Z",
     "iopub.status.idle": "2023-04-27T18:19:46.346287Z"
    },
    "jupyter": {
     "outputs_hidden": false
    },
    "papermill": {
     "duration": null,
     "end_time": null,
     "exception": null,
     "start_time": null,
     "status": "pending"
    },
    "tags": []
   },
   "outputs": [],
   "source": [
    "v<- merged$senate\n",
    "table(v)"
   ]
  },
  {
   "cell_type": "code",
   "execution_count": null,
   "id": "a1f42005",
   "metadata": {
    "_cell_guid": "93c52372-a541-4965-bc03-18be7f7916a9",
    "_uuid": "1885e3ab-c7f9-4066-917c-d36121b6883b",
    "collapsed": false,
    "execution": {
     "iopub.execute_input": "2023-04-27T18:28:11.849764Z",
     "iopub.status.busy": "2023-04-27T18:28:11.845381Z",
     "iopub.status.idle": "2023-04-27T18:28:12.189227Z"
    },
    "jupyter": {
     "outputs_hidden": false
    },
    "papermill": {
     "duration": null,
     "end_time": null,
     "exception": null,
     "start_time": null,
     "status": "pending"
    },
    "tags": []
   },
   "outputs": [],
   "source": [
    "fig(10, 4)\n",
    "merged %>%  \n",
    "    group_by(senate) %>%        \n",
    "    summarise(count = n()) %>%\n",
    "    ggplot(aes(x = senate, y = count, fill = senate),options(repr.plot.width=10, repr.plot.height=10)) + \n",
    "        geom_bar(stat = \"identity\") +\n",
    "        geom_text(aes(label = as.character(count)), \n",
    "                 position = position_dodge(width = 1),\n",
    "                 hjust = 0.5, vjust = -0.25, size = 3) +\n",
    "        theme(legend.position = \"none\") +\n",
    "        labs(title = \"Senate\", x = \"\", caption = \"Fig.1\")"
   ]
  },
  {
   "cell_type": "code",
   "execution_count": null,
   "id": "8a2a44fc",
   "metadata": {
    "_cell_guid": "9dbf1437-d7c3-4be2-8d3e-e57dc56a040b",
    "_uuid": "5847224b-a3bb-489a-ab52-fa33f98fc507",
    "collapsed": false,
    "execution": {
     "iopub.execute_input": "2023-04-27T18:28:15.750982Z",
     "iopub.status.busy": "2023-04-27T18:28:15.748976Z",
     "iopub.status.idle": "2023-04-27T18:28:15.807138Z"
    },
    "jupyter": {
     "outputs_hidden": false
    },
    "papermill": {
     "duration": null,
     "end_time": null,
     "exception": null,
     "start_time": null,
     "status": "pending"
    },
    "tags": []
   },
   "outputs": [],
   "source": [
    "data <- merged\n",
    "data <- data[,-c(1,2)]\n",
    "data$senate <- as.factor(data$senate)\n",
    "data$house <- as.factor(data$house)\n",
    "data$antiFreq <- as.factor(data$antiFreq)\n",
    "data <- na.omit(data)\n",
    "data <- data[,-c(1,2,3,4,5,6,7)]\n",
    "data <- transform(data, crimeSum = as.integer(crimeSum),\n",
    "                 antiFreq<-as.double(antiFreq),\n",
    "                 DEM <- as.double(DEM),\n",
    "                 REP<-as.double(REP),\n",
    "                 percent_democrat<-as.double(percent_democrat),\n",
    "                 percent_republican<-as.double(percent_republican),\n",
    "                 population<-as.double(population),\n",
    "                 senate<-as.factor(senate),\n",
    "                 house<-as.factor(house),\n",
    "                 crime_percent<-as.double(crime_percent))\n",
    "data <- data[,-c(11,12,13,14,15,16,17,18,19)]\n",
    "data <- data[,-c(5,6,9)]\n",
    "data<- data[,-c(3,4)]\n",
    "head(data)"
   ]
  },
  {
   "cell_type": "code",
   "execution_count": null,
   "id": "870c718e",
   "metadata": {
    "_cell_guid": "9b8bec68-b00f-4078-8bee-4e9d42cf5d3c",
    "_uuid": "0bdb0ba7-764a-4cbc-8291-005090d5afd3",
    "collapsed": false,
    "execution": {
     "iopub.execute_input": "2023-04-27T18:28:18.103531Z",
     "iopub.status.busy": "2023-04-27T18:28:18.101550Z",
     "iopub.status.idle": "2023-04-27T18:28:18.178025Z"
    },
    "jupyter": {
     "outputs_hidden": false
    },
    "papermill": {
     "duration": null,
     "end_time": null,
     "exception": null,
     "start_time": null,
     "status": "pending"
    },
    "tags": []
   },
   "outputs": [],
   "source": [
    "# used by all\n",
    "set.seed(1)\n",
    "ind <- sample(2, nrow(data), replace = TRUE, prob = c(0.7, 0.3))\n",
    "train <- data[ind==1,]\n",
    "test <- data[ind==2,]\n",
    "head(train)\n",
    "head(test)"
   ]
  },
  {
   "cell_type": "code",
   "execution_count": null,
   "id": "f65d1e77",
   "metadata": {
    "_cell_guid": "acf6f193-c524-4c81-99c7-14b8cd379e77",
    "_uuid": "2ac95269-2ae8-471d-b58b-573451d94835",
    "collapsed": false,
    "execution": {
     "iopub.execute_input": "2023-04-27T18:28:32.453878Z",
     "iopub.status.busy": "2023-04-27T18:28:32.452284Z",
     "iopub.status.idle": "2023-04-27T18:28:32.485635Z"
    },
    "jupyter": {
     "outputs_hidden": false
    },
    "papermill": {
     "duration": null,
     "end_time": null,
     "exception": null,
     "start_time": null,
     "status": "pending"
    },
    "tags": []
   },
   "outputs": [],
   "source": [
    "#random forest to predict senate majority\n",
    "rf <- randomForest(senate~., data=train, proximity=TRUE) \n",
    "print(rf)"
   ]
  },
  {
   "cell_type": "code",
   "execution_count": null,
   "id": "60aa274e",
   "metadata": {
    "_cell_guid": "c8223f88-b963-4680-957f-9baeed66e018",
    "_uuid": "e7170267-0b8b-41f4-98c9-9a98a0bf6264",
    "collapsed": false,
    "execution": {
     "iopub.execute_input": "2023-04-27T18:28:34.213741Z",
     "iopub.status.busy": "2023-04-27T18:28:34.211380Z",
     "iopub.status.idle": "2023-04-27T18:28:34.245567Z"
    },
    "jupyter": {
     "outputs_hidden": false
    },
    "papermill": {
     "duration": null,
     "end_time": null,
     "exception": null,
     "start_time": null,
     "status": "pending"
    },
    "tags": []
   },
   "outputs": [],
   "source": [
    "p1 <- predict(rf, train)\n",
    "confusionMatrix(p1, train$senate)"
   ]
  },
  {
   "cell_type": "code",
   "execution_count": null,
   "id": "65ee1da5",
   "metadata": {
    "_cell_guid": "53b36316-1e43-42d4-9701-1aeb9f09b050",
    "_uuid": "60d529cb-33b6-4096-a918-cd40a0204113",
    "collapsed": false,
    "execution": {
     "iopub.execute_input": "2023-04-27T18:28:36.216876Z",
     "iopub.status.busy": "2023-04-27T18:28:36.215289Z",
     "iopub.status.idle": "2023-04-27T18:28:36.244543Z"
    },
    "jupyter": {
     "outputs_hidden": false
    },
    "papermill": {
     "duration": null,
     "end_time": null,
     "exception": null,
     "start_time": null,
     "status": "pending"
    },
    "tags": []
   },
   "outputs": [],
   "source": [
    "p2 <- predict(rf, test)\n",
    "confusionMatrix(p2, test$senate)"
   ]
  },
  {
   "cell_type": "code",
   "execution_count": null,
   "id": "d5ef6395",
   "metadata": {
    "_cell_guid": "330705bf-34c1-41ef-ae14-31358e6cea11",
    "_uuid": "78d32fff-7998-4b8e-8598-fe8c839ca13b",
    "collapsed": false,
    "execution": {
     "iopub.execute_input": "2023-04-27T18:28:38.395479Z",
     "iopub.status.busy": "2023-04-27T18:28:38.393901Z",
     "iopub.status.idle": "2023-04-27T18:28:38.487871Z"
    },
    "jupyter": {
     "outputs_hidden": false
    },
    "papermill": {
     "duration": null,
     "end_time": null,
     "exception": null,
     "start_time": null,
     "status": "pending"
    },
    "tags": []
   },
   "outputs": [],
   "source": [
    "plot(rf)"
   ]
  },
  {
   "cell_type": "code",
   "execution_count": null,
   "id": "a9b37fff",
   "metadata": {
    "_cell_guid": "c52eadd6-dfa4-47c5-908f-3fd10dafd3a9",
    "_uuid": "c8423896-9288-48a4-b770-e462aa2e35b7",
    "collapsed": false,
    "execution": {
     "iopub.execute_input": "2023-04-27T18:28:39.678635Z",
     "iopub.status.busy": "2023-04-27T18:28:39.674380Z",
     "iopub.status.idle": "2023-04-27T18:28:39.763013Z"
    },
    "jupyter": {
     "outputs_hidden": false
    },
    "papermill": {
     "duration": null,
     "end_time": null,
     "exception": null,
     "start_time": null,
     "status": "pending"
    },
    "tags": []
   },
   "outputs": [],
   "source": [
    "hist(treesize(rf),\n",
    "     main = \"No. of Nodes for the Trees\",\n",
    "     col = \"green\")"
   ]
  },
  {
   "cell_type": "code",
   "execution_count": null,
   "id": "623b673d",
   "metadata": {
    "_cell_guid": "6eea8e6a-dbc4-4615-8f69-b05136d9f24c",
    "_uuid": "560ee98c-9862-407d-9a51-3a8fe1bea5a6",
    "collapsed": false,
    "execution": {
     "iopub.execute_input": "2023-04-27T18:27:03.025262Z",
     "iopub.status.busy": "2023-04-27T18:27:03.023672Z",
     "iopub.status.idle": "2023-04-27T18:27:03.120263Z"
    },
    "jupyter": {
     "outputs_hidden": false
    },
    "papermill": {
     "duration": null,
     "end_time": null,
     "exception": null,
     "start_time": null,
     "status": "pending"
    },
    "tags": []
   },
   "outputs": [],
   "source": [
    "varImpPlot(rf,\n",
    "           sort = T,\n",
    "           n.var = 10,\n",
    "           main = \"Top 10 - Variable Importance\")\n",
    "importance(rf)\n",
    "partialPlot(rf, train, percent_republican)\n",
    "MDSplot(rf, train$senate)"
   ]
  },
  {
   "cell_type": "code",
   "execution_count": null,
   "id": "61f106fd",
   "metadata": {
    "_cell_guid": "4e0a71d0-f2d4-4525-a6e7-562a8383cf5f",
    "_uuid": "1e82b0f1-eadf-47d9-b79c-4d941f0b0758",
    "collapsed": false,
    "jupyter": {
     "outputs_hidden": false
    },
    "papermill": {
     "duration": null,
     "end_time": null,
     "exception": null,
     "start_time": null,
     "status": "pending"
    },
    "tags": []
   },
   "outputs": [],
   "source": []
  }
 ],
 "metadata": {
  "kernelspec": {
   "display_name": "R",
   "language": "R",
   "name": "ir"
  },
  "language_info": {
   "codemirror_mode": "r",
   "file_extension": ".r",
   "mimetype": "text/x-r-source",
   "name": "R",
   "pygments_lexer": "r",
   "version": "3.6.1"
  },
  "papermill": {
   "default_parameters": {},
   "duration": 4.60323,
   "end_time": "2023-04-28T20:32:15.263868",
   "environment_variables": {},
   "exception": true,
   "input_path": "__notebook__.ipynb",
   "output_path": "__notebook__.ipynb",
   "parameters": {},
   "start_time": "2023-04-28T20:32:10.660638",
   "version": "2.4.0"
  }
 },
 "nbformat": 4,
 "nbformat_minor": 5
}
