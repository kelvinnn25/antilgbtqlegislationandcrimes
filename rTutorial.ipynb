{
 "cells": [
  {
   "cell_type": "markdown",
   "id": "c36b2efb",
   "metadata": {
    "vscode": {
     "languageId": "r"
    }
   },
   "source": [
    "How to get started with R:\n",
    "we can get started with a simple hello statement"
   ]
  },
  {
   "cell_type": "code",
   "execution_count": 2,
   "id": "69551b7a",
   "metadata": {},
   "outputs": [
    {
     "name": "stdout",
     "output_type": "stream",
     "text": [
      "Hello World\n"
     ]
    }
   ],
   "source": [
    "x = 'Hello World'\n",
    "print(x)"
   ]
  },
  {
   "cell_type": "markdown",
   "id": "acf02bfd",
   "metadata": {},
   "source": [
    "What's so special about R? We can make epic plots:"
   ]
  },
  {
   "cell_type": "code",
   "execution_count": 4,
   "id": "7040f2c3",
   "metadata": {},
   "outputs": [
    {
     "data": {
      "image/png": "[encoded data removed]",
      "text/plain": [
       "plot without title"
      ]
     },
     "metadata": {},
     "output_type": "display_data"
    }
   ],
   "source": [
    "plot(1:10)"
   ]
  },
  {
   "cell_type": "code",
   "execution_count": null,
   "id": "7ab65450",
   "metadata": {},
   "outputs": [
    {
     "data": {
      "text/html": [
       "10"
      ],
      "text/latex": [
       "10"
      ],
      "text/markdown": [
       "10"
      ],
      "text/plain": [
       "[1] 10"
      ]
     },
     "metadata": {},
     "output_type": "display_data"
    }
   ],
   "source": [
    "#To Do math:\n",
    "5 + 5\n"
   ]
  },
  {
   "cell_type": "code",
   "execution_count": 4,
   "id": "17b39177",
   "metadata": {},
   "outputs": [
    {
     "ename": "SyntaxError",
     "evalue": "invalid syntax (2305801461.py, line 1)",
     "output_type": "error",
     "traceback": [
      "\u001b[1;36m  Cell \u001b[1;32mIn[4], line 1\u001b[1;36m\u001b[0m\n\u001b[1;33m    for (x in 1:10){\u001b[0m\n\u001b[1;37m               ^\u001b[0m\n\u001b[1;31mSyntaxError\u001b[0m\u001b[1;31m:\u001b[0m invalid syntax\n"
     ]
    }
   ],
   "source": [
    "for (x in 1:10){\n",
    "    print(x)\n",
    "}\n",
    "#whenever your code is in {}, this is called an R expression which allows\n",
    "#you to run addition commands under a certain function"
   ]
  },
  {
   "cell_type": "code",
   "execution_count": null,
   "id": "51835576",
   "metadata": {},
   "outputs": [],
   "source": []
  }
 ],
 "metadata": {
  "kernelspec": {
   "display_name": "Python 3 (ipykernel)",
   "language": "python",
   "name": "python3"
  },
  "language_info": {
   "codemirror_mode": {
    "name": "ipython",
    "version": 3
   },
   "file_extension": ".py",
   "mimetype": "text/x-python",
   "name": "python",
   "nbconvert_exporter": "python",
   "pygments_lexer": "ipython3",
   "version": "3.9.16"
  }
 },
 "nbformat": 4,
 "nbformat_minor": 5
}
