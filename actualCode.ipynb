{
 "cells": [
  {
   "cell_type": "code",
   "execution_count": 1,
   "id": "e59ebc86",
   "metadata": {},
   "outputs": [],
   "source": [
    "#database 1: FBI data base - violence indicators will be the response in 2021 on this link:\n",
    "#https://cde.ucr.cjis.gov/LATEST/webapp/# \n",
    "#hate crime and incident reports\n",
    "#predictor 1 will be legislation frequency based on 2021\n",
    "library(readxl)\n"
   ]
  },
  {
   "cell_type": "code",
   "execution_count": 2,
   "id": "34dd7405",
   "metadata": {
    "scrolled": false
   },
   "outputs": [
    {
     "name": "stderr",
     "output_type": "stream",
     "text": [
      "New names:\n",
      "* `` -> ...2\n",
      "* `` -> ...3\n",
      "* `` -> ...4\n",
      "* `` -> ...5\n"
     ]
    },
    {
     "data": {
      "text/html": [
       "<table>\n",
       "<thead><tr><th scope=col>Table 1</th><th scope=col>...2</th><th scope=col>...3</th><th scope=col>...4</th><th scope=col>...5</th></tr></thead>\n",
       "<tbody>\n",
       "\t<tr><td>Incidents, Offenses, Victims, and Known Offenders</td><td>NA                                               </td><td>NA                                               </td><td>NA                                               </td><td>NA                                               </td></tr>\n",
       "\t<tr><td>by Bias Motivation, 2021                         </td><td>NA                                               </td><td>NA                                               </td><td>NA                                               </td><td>NA                                               </td></tr>\n",
       "\t<tr><td>Bias motivation                                  </td><td>Incidents                                        </td><td>Offenses                                         </td><td>Victims1                                         </td><td>Known\n",
       "offenders2                                </td></tr>\n",
       "\t<tr><td>Total                                            </td><td>7262                                             </td><td>8673                                             </td><td>9024                                             </td><td>6312                                             </td></tr>\n",
       "\t<tr><td>Single-Bias Incidents                            </td><td>7074                                             </td><td>8419                                             </td><td>8753                                             </td><td>6143                                             </td></tr>\n",
       "\t<tr><td>Race/Ethnicity/Ancestry:                         </td><td>4470                                             </td><td>5448                                             </td><td>5671                                             </td><td>3902                                             </td></tr>\n",
       "</tbody>\n",
       "</table>\n"
      ],
      "text/latex": [
       "\\begin{tabular}{r|lllll}\n",
       " Table 1 & ...2 & ...3 & ...4 & ...5\\\\\n",
       "\\hline\n",
       "\t Incidents, Offenses, Victims, and Known Offenders & NA                                                & NA                                                & NA                                                & NA                                               \\\\\n",
       "\t by Bias Motivation, 2021                          & NA                                                & NA                                                & NA                                                & NA                                               \\\\\n",
       "\t Bias motivation                                   & Incidents                                         & Offenses                                          & Victims1                                          & Known\n",
       "offenders2                                \\\\\n",
       "\t Total                                             & 7262                                              & 8673                                              & 9024                                              & 6312                                             \\\\\n",
       "\t Single-Bias Incidents                             & 7074                                              & 8419                                              & 8753                                              & 6143                                             \\\\\n",
       "\t Race/Ethnicity/Ancestry:                          & 4470                                              & 5448                                              & 5671                                              & 3902                                             \\\\\n",
       "\\end{tabular}\n"
      ],
      "text/markdown": [
       "\n",
       "| Table 1 | ...2 | ...3 | ...4 | ...5 |\n",
       "|---|---|---|---|---|\n",
       "| Incidents, Offenses, Victims, and Known Offenders | NA                                                | NA                                                | NA                                                | NA                                                |\n",
       "| by Bias Motivation, 2021                          | NA                                                | NA                                                | NA                                                | NA                                                |\n",
       "| Bias motivation                                   | Incidents                                         | Offenses                                          | Victims1                                          | Known\n",
       "offenders2                                 |\n",
       "| Total                                             | 7262                                              | 8673                                              | 9024                                              | 6312                                              |\n",
       "| Single-Bias Incidents                             | 7074                                              | 8419                                              | 8753                                              | 6143                                              |\n",
       "| Race/Ethnicity/Ancestry:                          | 4470                                              | 5448                                              | 5671                                              | 3902                                              |\n",
       "\n"
      ],
      "text/plain": [
       "  Table 1                                           ...2      ...3     ...4    \n",
       "1 Incidents, Offenses, Victims, and Known Offenders NA        NA       NA      \n",
       "2 by Bias Motivation, 2021                          NA        NA       NA      \n",
       "3 Bias motivation                                   Incidents Offenses Victims1\n",
       "4 Total                                             7262      8673     9024    \n",
       "5 Single-Bias Incidents                             7074      8419     8753    \n",
       "6 Race/Ethnicity/Ancestry:                          4470      5448     5671    \n",
       "  ...5             \n",
       "1 NA               \n",
       "2 NA               \n",
       "3 Known\\noffenders2\n",
       "4 6312             \n",
       "5 6143             \n",
       "6 3902             "
      ]
     },
     "metadata": {},
     "output_type": "display_data"
    }
   ],
   "source": [
    "fbiData = read_excel('fbit1crimesByBias.xls')\n",
    "head(fbiData)"
   ]
  },
  {
   "cell_type": "code",
   "execution_count": null,
   "id": "b2cbc0d2",
   "metadata": {},
   "outputs": [],
   "source": []
  }
 ],
 "metadata": {
  "kernelspec": {
   "display_name": "R",
   "language": "R",
   "name": "ir"
  },
  "language_info": {
   "codemirror_mode": "r",
   "file_extension": ".r",
   "mimetype": "text/x-r-source",
   "name": "R",
   "pygments_lexer": "r",
   "version": "3.6.1"
  }
 },
 "nbformat": 4,
 "nbformat_minor": 5
}
