{
 "cells": [
  {
   "cell_type": "markdown",
   "id": "fc78cfd9",
   "metadata": {},
   "source": [
    "LGBTQ Hate Crime Project\n",
    "- what we are trying to accomplish is to correlate states, number of bills passed per state, and hate crimes by gender orientation \n",
    "1. the first data set is from the FBI hatecrime tracker for 2021\n",
    "2. the second data set is from ACLU's 2021 records of anti\n",
    "- states will come from both data sets"
   ]
  },
  {
   "cell_type": "code",
   "execution_count": null,
   "id": "7790fc93",
   "metadata": {},
   "outputs": [],
   "source": []
  }
 ],
 "metadata": {
  "kernelspec": {
   "display_name": "Python 3 (ipykernel)",
   "language": "python",
   "name": "python3"
  },
  "language_info": {
   "codemirror_mode": {
    "name": "ipython",
    "version": 3
   },
   "file_extension": ".py",
   "mimetype": "text/x-python",
   "name": "python",
   "nbconvert_exporter": "python",
   "pygments_lexer": "ipython3",
   "version": "3.8.16"
  }
 },
 "nbformat": 4,
 "nbformat_minor": 5
}
