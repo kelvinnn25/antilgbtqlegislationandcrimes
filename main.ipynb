{
 "cells": [
  {
   "cell_type": "markdown",
   "id": "742b787a",
   "metadata": {},
   "source": [
    "# Correlation Between anti-lgbtq/anti-transgender hatecrimes and legislation passed\n",
    "* Where did we get this data?\n",
    "    1. FBI hate crimes database from this link: \n",
    "        https://cde.ucr.cjis.gov/\n",
    "    2. ACLU's legislation tracker from this link: \n",
    "        https://www.aclu.org/legislation-affecting-lgbtq-rights-across-country-2021\n",
    "* Defintions we must make: \n",
    "    * for more inforamtion about what classifies as a hatecrime in addition to how data collection was made, please refer to the fbi database linked above\n",
    "    * in addition we must clarify the defintion for religious exemption bills:\n",
    "        - these bills allow the exemption of discrimination based on the belief of religion, for example: a woman was fired from work because of religious exemption, being she was pregnant before getting married, not abiding to organization's religious beliefs\n",
    "    * bills preempting protection:\n",
    "        - according to the ACLU, 'These bills prevent cities and other local government entities from passing nondiscrimination protections that are more expansive than the protections offered at the state level, including protections for LGBTQ people.'\n",
    "* Possible predictor values: \n",
    "    1. number of legislation passed (maybe per state)\n",
    "    2. state\n",
    "* Possible Response values:\n",
    "    1. hatecrime incidents/offenses\n",
    "* Data Table Variable Names:\n",
    "    * crimesByBias <- fbi table 1 hate crimes by bias, basically summarizes number of offenses/victims with bias incidents \n",
    "    * typeOfCrime <- type of crimes committed upon each bias group (ex: assault, manlsaughter, rape, intimidation, etc. \n",
    "    * crimeVictims <- shows types of victims (adult/juvenile), and number of victims per crime\n",
    "    * crimeLocation <- shows location of where the crime happened (on school grounds, public, business, etc)\n",
    "    * crimeState <- shows crime by state and city \n",
    "    * antiLgbtq <- shows amount of anti-LGBTQ and trans laws \n",
    "    * religiousExemption <- shows amount of bills passed from relgiious exemption (see definition above)\n",
    "    * preemptingProtection <- shows amount of bills preempting LGBTQ protection (see definition above) \n",
    "    * lgbtqEquality <- shows bills passed to protect LGBTQ rights \n"
   ]
  },
  {
   "cell_type": "code",
   "execution_count": 24,
   "id": "15eb7382",
   "metadata": {},
   "outputs": [],
   "source": [
    "#variable names\n",
    "crimesByBias <- read.csv('fbit1crimesByBias.csv')\n",
    "typeOfCrime <- read.csv('fbit4crimesByBiasMotivation.csv')\n",
    "crimeVictims <- read.csv('fbit7_Victims_Offense_Type_by_Bias_Motivation_2021.csv')\n",
    "crimeLocation <- read.csv('fbit10incidents_Bias_Motivation_by_Location_2021.csv')\n",
    "crimeState <- read.csv(\"fbit13_Hate_Crime_Incidents_per_Bias_Motivation_and_Quarter_by_State_Federal_and_Agency_2021.csv\")\n",
    "antiLgbtq <-  read.csv('AntiLGBTQ.csv')\n",
    "religiousExemption <- read.csv('ReligiousExemptionBills.csv')\n",
    "preemptingProtection <- read.csv('BillsPreemptingProtection.csv')\n",
    "lgbtqEquality <- read.csv('LGBTQEquality.csv')\n",
    "\n",
    "\n",
    "\n"
   ]
  },
  {
   "cell_type": "code",
   "execution_count": null,
   "id": "9eaa062c",
   "metadata": {},
   "outputs": [],
   "source": []
  }
 ],
 "metadata": {
  "kernelspec": {
   "display_name": "R",
   "language": "R",
   "name": "ir"
  },
  "language_info": {
   "codemirror_mode": "r",
   "file_extension": ".r",
   "mimetype": "text/x-r-source",
   "name": "R",
   "pygments_lexer": "r",
   "version": "3.6.1"
  }
 },
 "nbformat": 4,
 "nbformat_minor": 5
}
