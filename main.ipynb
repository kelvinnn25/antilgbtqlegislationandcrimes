{
 "cells": [
  {
   "cell_type": "markdown",
   "id": "1b978c2b",
   "metadata": {},
   "source": [
    "# Correlation Between anti-lgbtq/anti-transgender hatecrimes and legislation passed\n",
    "* Where did we get this data?\n",
    "    1. FBI hate crimes database from this link: \n",
    "        https://cde.ucr.cjis.gov/\n",
    "    2. ACLU's legislation tracker from this link: \n",
    "        https://www.aclu.org/legislation-affecting-lgbtq-rights-across-country-2021\n",
    "* Defintions we must make: \n",
    "    * for more inforamtion about what classifies as a hatecrime in addition to how data collection was made, please refer to the fbi database linked above\n",
    "    * in addition we must clarify the defintion for religious exemption bills:\n",
    "        - these bills allow the exemption of discrimination based on the belief of religion, for example: a woman was fired from work because of religious exemption, being she was pregnant before getting married, not abiding to organization's religious beliefs\n",
    "    * bills preempting protection:\n",
    "        - according to the ACLU, 'These bills prevent cities and other local government entities from passing nondiscrimination protections that are more expansive than the protections offered at the state level, including protections for LGBTQ people.'\n",
    "* Possible predictor values: \n",
    "    1. number of legislation passed (maybe per state)\n",
    "    2. state\n",
    "* Possible Response values:\n",
    "    1. hatecrime incidents/offenses\n",
    "* Data Table Variable Names:\n",
    "    * crimesByBias <- fbi table 1 hate crimes by bias, basically summarizes number of offenses/victims with bias incidents\n",
    "        * more notes: \n",
    "        * \"1 The term victim may refer to an individual, business/financial institution, government entity, religious organization, or society/public as a whole.\",,,,\n",
    "        * \"2 The term known offender does not imply the suspect's identity is known; rather, the term indicates some aspect of the suspect was identified, thus distinguishing the suspect from an unknown offender.\",,,,\n",
    "        * 3 A multiple-bias incident is an incident in which one or more offense types are motivated by two or more biases.,,,,\n",
    "\n",
    "    * typeOfCrime <- type of crimes committed upon each bias group (ex: assault, manlsaughter, rape, intimidation, etc. \n",
    "        * 1 The figures shown include additional offenses collected in the National Incident-Based Reporting System. See the downloadable Methodology file for further explanation.\t\t\t\t\t\t\t\t\t\t\t\t\t\t\t\n",
    "        * 2 A multiple-bias incident is an incident in which one or more offense types are motivated by two or more biases.\n",
    "    * crimeVictims <- shows types of victims (adult/juvenile), and number of victims per crime\n",
    "        * 1 The term victim may refer to an individual, business/financial institution, government entity, religious organization, or society/public as a whole.\t\t\t\t\t\t\t\t\t\t\t\t\t\t\t\t\t\n",
    "        * 2 The figures shown are individual victims only.\t\t\t\t\t\t\t\t\t\t\t\t\t\t\t\t\t\n",
    "        * 3 The figures shown include additional offenses collected in the National Incident-Based Reporting System. See the downloadable Methodology file for further explanation.\t\t\t\t\t\t\t\t\t\t\t\t\t\t\t\t\t\n",
    "        * 4 A multiple-bias incident is an incident in which one or more offense types are motivated by two or more biases.\t\t\t\t\t\t\t\t\t\t\t\t\t\t\t\t\t\n",
    "        * Note: The aggregate of adult and juvenile individual victims does not equal the total number of victims because total victims include individuals, businesses/financial institutions, government entities, religious organizations, and society/public as a whole. In addition, the aggregate of adult and juvenile individual victims does not equal the aggregate of victims of crimes against persons because not all law enforcement agencies report the ages of individual victims.\n",
    "    * crimeLocation <- shows location of where the crime happened (on school grounds, public, business, etc)\n",
    "        * 1 A multiple-bias incident is an incident in which one or more offense types are motivated by two or more biases.\t\t\t\t\t\t\t\t\n",
    "        * 2 The location designation School/college has been retained for agencies that have not updated their records management systems to include the new location designations of Schoolâ€”college/university and Schoolâ€”elementary/secondary, which allow for more specificity in reporting.\t\n",
    "    * crimeState <- shows crime by state and city\n",
    "        * 1 Population figures are published only for the cities. The figures listed for the universities and colleges are student enrollment and were provided by the United States Department of Education for the 2020 school year, the most recent available. The enrollment figures include full-time and part-time students.\t\t\t\t\t\t\t\t\t\t\t\t\t\n",
    "        * 2 The figures shown include one incident reported with more than one bias motivation.\t\t\t\t\t\t\t\t\t\t\t\t\t\n",
    "        * 3 Student enrollment figures were not available.\n",
    "    * antiLgbtq <- shows amount of anti-LGBTQ and trans laws \n",
    "    * religiousExemption <- shows amount of bills passed from relgiious exemption (see definition above)\n",
    "    * preemptingProtection <- shows amount of bills preempting LGBTQ protection (see definition above) \n",
    "    * lgbtqEquality <- shows bills passed to protect LGBTQ rights \n"
   ]
  },
  {
   "cell_type": "code",
   "execution_count": 40,
   "id": "afc25643",
   "metadata": {
    "scrolled": false
   },
   "outputs": [
    {
     "name": "stderr",
     "output_type": "stream",
     "text": [
      "Warning message:\n",
      "\"package 'dplyr' was built under R version 3.6.3\""
     ]
    },
    {
     "ename": "ERROR",
     "evalue": "Error: package or namespace load failed for 'dplyr' in loadNamespace(j <- i[[1L]], c(lib.loc, .libPaths()), versionCheck = vI[[j]]):\n there is no package called 'lifecycle'\n",
     "output_type": "error",
     "traceback": [
      "Error: package or namespace load failed for 'dplyr' in loadNamespace(j <- i[[1L]], c(lib.loc, .libPaths()), versionCheck = vI[[j]]):\n there is no package called 'lifecycle'\nTraceback:\n",
      "1. library(dplyr)",
      "2. tryCatch({\n .     attr(package, \"LibPath\") <- which.lib.loc\n .     ns <- loadNamespace(package, lib.loc)\n .     env <- attachNamespace(ns, pos = pos, deps, exclude, include.only)\n . }, error = function(e) {\n .     P <- if (!is.null(cc <- conditionCall(e))) \n .         paste(\" in\", deparse(cc)[1L])\n .     else \"\"\n .     msg <- gettextf(\"package or namespace load failed for %s%s:\\n %s\", \n .         sQuote(package), P, conditionMessage(e))\n .     if (logical.return) \n .         message(paste(\"Error:\", msg), domain = NA)\n .     else stop(msg, call. = FALSE, domain = NA)\n . })",
      "3. tryCatchList(expr, classes, parentenv, handlers)",
      "4. tryCatchOne(expr, names, parentenv, handlers[[1L]])",
      "5. value[[3L]](cond)",
      "6. stop(msg, call. = FALSE, domain = NA)"
     ]
    }
   ],
   "source": [
    "library(ISLR)\n",
    "library(dplyr)"
   ]
  },
  {
   "cell_type": "raw",
   "id": "726e6355",
   "metadata": {},
   "source": [
    "#variable names\n",
    "crimesByBias <- read.csv('fbit1crimesByBias.csv')\n",
    "typeOfCrime <- read.csv('fbit4crimesByBiasMotivation.csv')\n",
    "crimeVictims <- read.csv('fbit7_Victims_Offense_Type_by_Bias_Motivation_2021.csv')\n",
    "crimeLocation <- read.csv('fbit10incidents_Bias_Motivation_by_Location_2021.csv')\n",
    "crimeTypeByState <-read.csv('fbit11crimeTypeByState.csv')\n",
    "crimeState <- read.csv(\"fbit13_Hate_Crime_Incidents_per_Bias_Motivation_and_Quarter_by_State_Federal_and_Agency_2021.csv\")\n",
    "antiLgbtq <-  read.csv('AntiLGBTQ.csv')\n",
    "religiousExemption <- read.csv('ReligiousExemptionBills.csv')\n",
    "preemptingProtection <- read.csv('BillsPreemptingProtection.csv')\n",
    "lgbtqEquality <- read.csv('LGBTQEquality.csv')"
   ]
  },
  {
   "cell_type": "code",
   "execution_count": 6,
   "id": "a18d7bf6",
   "metadata": {},
   "outputs": [],
   "source": [
    "#cleaning data frames KIND OF\n",
    "# Fbi data\n",
    "crimesByBias <- data.frame(c=crimesByBias)\n",
    "colnames(crimesByBias) <-c('Bias_Motivation','Incidents','Offenses','Victims','Known_Offenders')\n",
    "typeOfCrime <- data.frame(c=typeOfCrime)\n",
    "colnames(typeOfCrime) <-c('Bias_Motivation','Total_Offenses','Murder_and_nonnegligent_manslaughter',\n",
    "                          'Rape','Aggravated_Assault','Simple Assault','Intimidation','Other','Robbery', 'Burgalry', \n",
    "                          'Larceny','Motor_Vehicle_Theft', 'Arson','Destruction/Damage/Vandalism','Other','Crimes_against_society')\n",
    "typeOfCrime<- typeOfCrime[6:47,]\n",
    "crimeVictims <- data.frame(c=crimeVictims)\n",
    "colnames(crimeVictims) <- c('Bias_Motivation','Total_Victims','Total_Adult_Victims','Total_Juvenile_Victims',\n",
    "                            'Murder_and_nonnegligent_manslaughter','Rape','Aggravated_Assault','Simple Assault','Intimidation','Other','Robbery', 'Burgalry', \n",
    "                          'Larceny','Motor_Vehicle_Theft', 'Arson','Destruction/Damage/Vandalism','Other','Crimes_against_society')\n",
    "crimeVictims <- crimeVictims[6:48,]\n",
    "crimeLocation <- data.frame(c=crimeLocation)\n",
    "colnames(crimeLocation) <- c('Location','Total_Incidents','Race/Ethnicity/Ancestry','Religion',\n",
    "                             'Sexual_Orientation','Disability','Gender','Gender_Identity','Multiple_bias_incidents')\n",
    "crimeLocation <- crimeLocation[6:53,]\n",
    "crimeTypeByState <-data.frame(c=crimeTypeByState)\n",
    "colnames(crimeTypeByState) <- c('State','Total_Offenses','Murder_and_nonnegligent_manslaughter','Rape','Aggravated_Assault','Simple Assault','Intimidation','Other','Robbery', 'Burgalry', \n",
    "                          'Larceny','Motor_Vehicle_Theft', 'Arson','Destruction/Damage/Vandalism','Other','Crimes_against_society')\n",
    "crimeTypeByState <- crimeTypeByState[6:57,]\n",
    "crimeState <- data.frame(c=crimeState)\n",
    "colnames(crimeState) <- c('State','Agency_Type','Agency_Name','Race/Ethnicity/Ancestry','Religion',\n",
    "                         'Sexual_Orientation','Disability','Gender','Gender_Identity','FirstQuarter','SecondQuarter','ThirdQuarter','FourthQuarter')\n",
    "crimeState <- crimeState[6:2629,]\n",
    "#ACLU Data\n",
    "antiLgbtq <- data.frame(c=antiLgbtq)\n",
    "antiLgbtq <-antiLgbtq[0:3]\n",
    "colnames(antiLgbtq) <-c('State','Bill_Number','Status')\n",
    "religiousExemption <- data.frame(c=religiousExemption)\n",
    "religiousExemption <-religiousExemption[0:3]\n",
    "colnames(religiousExemption) <-c('State','Bill_Number','Status')\n",
    "preemptingProtection <- data.frame(c=preemptingProtection)\n",
    "preemptingProtection <- preemptingProtection[0:3]\n",
    "colnames(preemptingProtection) <-c('State','Bill_Number','Status')\n",
    "lgbtqEquality <- data.frame(c=lgbtqEquality)\n",
    "lgbtqEquality<-lgbtqEquality[0:3]\n",
    "colnames(lgbtqEquality) <-c('State','Bill_Number','Status')"
   ]
  },
  {
   "cell_type": "code",
   "execution_count": 15,
   "id": "968d85b1",
   "metadata": {},
   "outputs": [
    {
     "data": {
      "text/plain": [
       "        State                         Agency_Type       Agency_Name  \n",
       "           :2572                            :2352             : 272  \n",
       " Alabama   :   1   Total                    :  51   Franklin  :   8  \n",
       " Alaska    :   1   Cities                   :  50   Jackson   :   7  \n",
       " Arizona   :   1   Metropolitan Counties    :  39   Madison   :   7  \n",
       " Arkansas  :   1   Nonmetropolitan Counties :  39   Monroe    :   7  \n",
       " California:   1   Universities and Colleges:  35   Montgomery:   7  \n",
       " (Other)   :  47   (Other)                  :  58   (Other)   :2316  \n",
       " Race/Ethnicity/Ancestry    Religion    Sexual_Orientation   Disability  \n",
       " 1      :1026            0      :1827   0      :1739       0      :2415  \n",
       " 0      : 626            1      : 440   1      : 536       1      : 121  \n",
       " 2      : 363            2      : 132   2      : 126       2      :  35  \n",
       " 3      : 141            3      :  53   3      :  49              :  15  \n",
       " 4      : 101            4      :  29   4      :  21       3      :  12  \n",
       " 5      :  57            5      :  19   5      :  18       4      :  11  \n",
       " (Other): 310            (Other): 124   (Other): 135       (Other):  15  \n",
       "     Gender     Gender_Identity  FirstQuarter  SecondQuarter   ThirdQuarter \n",
       " 0      :2463   0      :2315    0      :1496   0      :1280   0      :1346  \n",
       " 1      :  87   1      : 181    1      : 563   1      : 704   1      : 669  \n",
       " 2      :  35   2      :  40           : 323          : 318          : 308  \n",
       "        :  15   3      :  23    2      : 128   2      : 176   2      : 158  \n",
       " 3      :  10          :  15    3      :  43   3      :  57   3      :  64  \n",
       " 5      :   7   4      :  10    4      :  21   4      :  27   4      :  23  \n",
       " (Other):   7   (Other):  40    (Other):  50   (Other):  62   (Other):  56  \n",
       " FourthQuarter        NA      \n",
       " 0      :1407          : 965  \n",
       " 1      : 613   1,707  :   2  \n",
       "        : 327   1,922  :   2  \n",
       " 2      : 152   13,002 :   2  \n",
       " 3      :  50   14,351 :   2  \n",
       " 4      :  22   17,948 :   2  \n",
       " (Other):  53   (Other):1649  "
      ]
     },
     "metadata": {},
     "output_type": "display_data"
    }
   ],
   "source": [
    "summary(crimeState)"
   ]
  },
  {
   "cell_type": "code",
   "execution_count": 41,
   "id": "2957e27f",
   "metadata": {},
   "outputs": [
    {
     "data": {
      "text/plain": [
       "     State           Bill_Number\n",
       " CA     : 7   A 7701A/S 677: 1  \n",
       " NY     : 5   A 849        : 1  \n",
       " TX     : 5   AB 1041      : 1  \n",
       " MS     : 3   AB 1094      : 1  \n",
       " AZ     : 2   AB 218       : 1  \n",
       " KY     : 2   AB 439       : 1  \n",
       " (Other):14   (Other)      :32  \n",
       "                                                       Status  \n",
       " Died in committee 2/2/21                                 : 3  \n",
       " Died 4/2/21                                              : 2  \n",
       " Read for the first time and referred to committee 2/25/21: 2  \n",
       " Read for the first time and referred to committee 3/3/21 : 2  \n",
       " Active 1/5/22                                            : 1  \n",
       " Amended and recommitted to Correction 5/13/21            : 1  \n",
       " (Other)                                                  :27  "
      ]
     },
     "metadata": {},
     "output_type": "display_data"
    }
   ],
   "source": [
    "summary(lgbtqEquality)"
   ]
  },
  {
   "cell_type": "code",
   "execution_count": null,
   "id": "00f956d7",
   "metadata": {},
   "outputs": [],
   "source": []
  }
 ],
 "metadata": {
  "kernelspec": {
   "display_name": "R",
   "language": "R",
   "name": "ir"
  },
  "language_info": {
   "codemirror_mode": "r",
   "file_extension": ".r",
   "mimetype": "text/x-r-source",
   "name": "R",
   "pygments_lexer": "r",
   "version": "3.6.1"
  }
 },
 "nbformat": 4,
 "nbformat_minor": 5
}
