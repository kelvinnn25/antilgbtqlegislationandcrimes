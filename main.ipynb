{
 "cells": [
  {
   "cell_type": "markdown",
   "id": "1b978c2b",
   "metadata": {},
   "source": [
    "# Correlation Between anti-lgbtq/anti-transgender hatecrimes and legislation passed\n",
    "* Where did we get this data?\n",
    "    1. FBI hate crimes database from this link: \n",
    "        https://cde.ucr.cjis.gov/\n",
    "    2. ACLU's legislation tracker from this link: \n",
    "        https://www.aclu.org/legislation-affecting-lgbtq-rights-across-country-2021\n",
    "* Defintions we must make: \n",
    "    * for more inforamtion about what classifies as a hatecrime in addition to how data collection was made, please refer to the fbi database linked above\n",
    "    * in addition we must clarify the defintion for religious exemption bills:\n",
    "        - these bills allow the exemption of discrimination based on the belief of religion, for example: a woman was fired from work because of religious exemption, being she was pregnant before getting married, not abiding to organization's religious beliefs\n",
    "    * bills preempting protection:\n",
    "        - according to the ACLU, 'These bills prevent cities and other local government entities from passing nondiscrimination protections that are more expansive than the protections offered at the state level, including protections for LGBTQ people.'\n",
    "* Possible predictor values: \n",
    "    1. number of legislation passed (maybe per state)\n",
    "    2. state\n",
    "* Possible Response values:\n",
    "    1. hatecrime incidents/offenses\n",
    "* Data Table Variable Names:\n",
    "    * crimesByBias <- fbi table 1 hate crimes by bias, basically summarizes number of offenses/victims with bias incidents\n",
    "        * more notes: \n",
    "        * \"1 The term victim may refer to an individual, business/financial institution, government entity, religious organization, or society/public as a whole.\",,,,\n",
    "        * \"2 The term known offender does not imply the suspect's identity is known; rather, the term indicates some aspect of the suspect was identified, thus distinguishing the suspect from an unknown offender.\",,,,\n",
    "        * 3 A multiple-bias incident is an incident in which one or more offense types are motivated by two or more biases.,,,,\n",
    "\n",
    "    * typeOfCrime <- type of crimes committed upon each bias group (ex: assault, manlsaughter, rape, intimidation, etc. \n",
    "        * 1 The figures shown include additional offenses collected in the National Incident-Based Reporting System. See the downloadable Methodology file for further explanation.\t\t\t\t\t\t\t\t\t\t\t\t\t\t\t\n",
    "        * 2 A multiple-bias incident is an incident in which one or more offense types are motivated by two or more biases.\n",
    "    * crimeVictims <- shows types of victims (adult/juvenile), and number of victims per crime\n",
    "        * 1 The term victim may refer to an individual, business/financial institution, government entity, religious organization, or society/public as a whole.\t\t\t\t\t\t\t\t\t\t\t\t\t\t\t\t\t\n",
    "        * 2 The figures shown are individual victims only.\t\t\t\t\t\t\t\t\t\t\t\t\t\t\t\t\t\n",
    "        * 3 The figures shown include additional offenses collected in the National Incident-Based Reporting System. See the downloadable Methodology file for further explanation.\t\t\t\t\t\t\t\t\t\t\t\t\t\t\t\t\t\n",
    "        * 4 A multiple-bias incident is an incident in which one or more offense types are motivated by two or more biases.\t\t\t\t\t\t\t\t\t\t\t\t\t\t\t\t\t\n",
    "        * Note: The aggregate of adult and juvenile individual victims does not equal the total number of victims because total victims include individuals, businesses/financial institutions, government entities, religious organizations, and society/public as a whole. In addition, the aggregate of adult and juvenile individual victims does not equal the aggregate of victims of crimes against persons because not all law enforcement agencies report the ages of individual victims.\n",
    "    * crimeLocation <- shows location of where the crime happened (on school grounds, public, business, etc)\n",
    "        * 1 A multiple-bias incident is an incident in which one or more offense types are motivated by two or more biases.\t\t\t\t\t\t\t\t\n",
    "        * 2 The location designation School/college has been retained for agencies that have not updated their records management systems to include the new location designations of Schoolâ€”college/university and Schoolâ€”elementary/secondary, which allow for more specificity in reporting.\t\n",
    "    * crimeState <- shows crime by state and city\n",
    "        * 1 Population figures are published only for the cities. The figures listed for the universities and colleges are student enrollment and were provided by the United States Department of Education for the 2020 school year, the most recent available. The enrollment figures include full-time and part-time students.\t\t\t\t\t\t\t\t\t\t\t\t\t\n",
    "        * 2 The figures shown include one incident reported with more than one bias motivation.\t\t\t\t\t\t\t\t\t\t\t\t\t\n",
    "        * 3 Student enrollment figures were not available.\n",
    "    * antiLgbtq <- shows amount of anti-LGBTQ and trans laws \n",
    "    * religiousExemption <- shows amount of bills passed from relgiious exemption (see definition above)\n",
    "    * preemptingProtection <- shows amount of bills preempting LGBTQ protection (see definition above) \n",
    "    * lgbtqEquality <- shows bills passed to protect LGBTQ rights \n"
   ]
  },
  {
   "cell_type": "code",
<<<<<<< HEAD
   "execution_count": 40,
   "id": "afc25643",
   "metadata": {
    "scrolled": false
   },
   "outputs": [
    {
     "name": "stderr",
     "output_type": "stream",
     "text": [
      "Warning message:\n",
      "\"package 'dplyr' was built under R version 3.6.3\""
     ]
    },
    {
     "ename": "ERROR",
     "evalue": "Error: package or namespace load failed for 'dplyr' in loadNamespace(j <- i[[1L]], c(lib.loc, .libPaths()), versionCheck = vI[[j]]):\n there is no package called 'lifecycle'\n",
     "output_type": "error",
     "traceback": [
      "Error: package or namespace load failed for 'dplyr' in loadNamespace(j <- i[[1L]], c(lib.loc, .libPaths()), versionCheck = vI[[j]]):\n there is no package called 'lifecycle'\nTraceback:\n",
      "1. library(dplyr)",
      "2. tryCatch({\n .     attr(package, \"LibPath\") <- which.lib.loc\n .     ns <- loadNamespace(package, lib.loc)\n .     env <- attachNamespace(ns, pos = pos, deps, exclude, include.only)\n . }, error = function(e) {\n .     P <- if (!is.null(cc <- conditionCall(e))) \n .         paste(\" in\", deparse(cc)[1L])\n .     else \"\"\n .     msg <- gettextf(\"package or namespace load failed for %s%s:\\n %s\", \n .         sQuote(package), P, conditionMessage(e))\n .     if (logical.return) \n .         message(paste(\"Error:\", msg), domain = NA)\n .     else stop(msg, call. = FALSE, domain = NA)\n . })",
      "3. tryCatchList(expr, classes, parentenv, handlers)",
      "4. tryCatchOne(expr, names, parentenv, handlers[[1L]])",
      "5. value[[3L]](cond)",
      "6. stop(msg, call. = FALSE, domain = NA)"
     ]
    }
   ],
   "source": [
    "library(ISLR)\n",
    "library(dplyr)"
   ]
  },
  {
   "cell_type": "raw",
   "id": "726e6355",
=======
   "execution_count": 20,
   "id": "4d2488a5",
>>>>>>> 89d65ab62c9c26e3070610b44eb96e8c15776cb1
   "metadata": {},
   "source": [
    "#variable names\n",
    "crimesByBias <- read.csv('fbit1crimesByBias.csv')\n",
    "typeOfCrime <- read.csv('fbit4crimesByBiasMotivation.csv')\n",
    "crimeVictims <- read.csv('fbit7_Victims_Offense_Type_by_Bias_Motivation_2021.csv')\n",
    "crimeLocation <- read.csv('fbit10incidents_Bias_Motivation_by_Location_2021.csv')\n",
    "crimeTypeByState <-read.csv('fbit11crimeTypeByState.csv')\n",
    "crimeState <- read.csv(\"fbit13_Hate_Crime_Incidents_per_Bias_Motivation_and_Quarter_by_State_Federal_and_Agency_2021.csv\")\n",
    "antiLgbtq <-  read.csv('AntiLGBTQ.csv')\n",
    "religiousExemption <- read.csv('ReligiousExemptionBills.csv')\n",
    "preemptingProtection <- read.csv('BillsPreemptingProtection.csv')\n",
    "lgbtqEquality <- read.csv('LGBTQEquality.csv')"
   ]
  },
  {
   "cell_type": "code",
<<<<<<< HEAD
   "execution_count": 6,
=======
   "execution_count": 21,
>>>>>>> 89d65ab62c9c26e3070610b44eb96e8c15776cb1
   "id": "a18d7bf6",
   "metadata": {},
   "outputs": [],
   "source": [
    "#cleaning data frames KIND OF\n",
    "# Fbi data\n",
    "crimesByBias <- data.frame(c=crimesByBias)\n",
    "colnames(crimesByBias) <-c('Bias_Motivation','Incidents','Offenses','Victims','Known_Offenders')\n",
    "typeOfCrime <- data.frame(c=typeOfCrime)\n",
    "colnames(typeOfCrime) <-c('Bias_Motivation','Total_Offenses','Murder_and_nonnegligent_manslaughter',\n",
    "                          'Rape','Aggravated_Assault','Simple Assault','Intimidation','Other','Robbery', 'Burgalry', \n",
    "                          'Larceny','Motor_Vehicle_Theft', 'Arson','Destruction/Damage/Vandalism','Other','Crimes_against_society')\n",
    "typeOfCrime<- typeOfCrime[6:47,]\n",
    "crimeVictims <- data.frame(c=crimeVictims)\n",
    "colnames(crimeVictims) <- c('Bias_Motivation','Total_Victims','Total_Adult_Victims','Total_Juvenile_Victims',\n",
    "                            'Murder_and_nonnegligent_manslaughter','Rape','Aggravated_Assault','Simple Assault','Intimidation','Other','Robbery', 'Burgalry', \n",
    "                          'Larceny','Motor_Vehicle_Theft', 'Arson','Destruction/Damage/Vandalism','Other','Crimes_against_society')\n",
    "crimeVictims <- crimeVictims[6:48,]\n",
    "crimeLocation <- data.frame(c=crimeLocation)\n",
    "colnames(crimeLocation) <- c('Location','Total_Incidents','Race/Ethnicity/Ancestry','Religion',\n",
    "                             'Sexual_Orientation','Disability','Gender','Gender_Identity','Multiple_bias_incidents')\n",
    "crimeLocation <- crimeLocation[6:53,]\n",
    "crimeTypeByState <-data.frame(c=crimeTypeByState)\n",
    "colnames(crimeTypeByState) <- c('State','Total_Offenses','Murder_and_nonnegligent_manslaughter','Rape','Aggravated_Assault','Simple Assault','Intimidation','Other','Robbery', 'Burgalry', \n",
    "                          'Larceny','Motor_Vehicle_Theft', 'Arson','Destruction/Damage/Vandalism','Other','Crimes_against_society')\n",
    "crimeTypeByState <- crimeTypeByState[6:57,]\n",
    "crimeState <- data.frame(c=crimeState)\n",
    "colnames(crimeState) <- c('State','Agency_Type','Agency_Name','Race/Ethnicity/Ancestry','Religion',\n",
    "                         'Sexual_Orientation','Disability','Gender','Gender_Identity','FirstQuarter','SecondQuarter','ThirdQuarter','FourthQuarter')\n",
    "crimeState <- crimeState[6:2629,]\n",
    "#ACLU Data\n",
    "antiLgbtq <- data.frame(c=antiLgbtq)\n",
    "antiLgbtq <-antiLgbtq[0:3]\n",
    "colnames(antiLgbtq) <-c('State','Bill_Number','Status')\n",
    "religiousExemption <- data.frame(c=religiousExemption)\n",
    "religiousExemption <-religiousExemption[0:3]\n",
    "colnames(religiousExemption) <-c('State','Bill_Number','Status')\n",
    "preemptingProtection <- data.frame(c=preemptingProtection)\n",
    "preemptingProtection <- preemptingProtection[0:3]\n",
    "colnames(preemptingProtection) <-c('State','Bill_Number','Status')\n",
    "lgbtqEquality <- data.frame(c=lgbtqEquality)\n",
    "lgbtqEquality<-lgbtqEquality[0:3]\n",
    "colnames(lgbtqEquality) <-c('State','Bill_Number','Status')"
   ]
  },
  {
   "cell_type": "code",
<<<<<<< HEAD
   "execution_count": 15,
   "id": "968d85b1",
=======
   "execution_count": 24,
   "id": "fb0dcffd",
>>>>>>> 89d65ab62c9c26e3070610b44eb96e8c15776cb1
   "metadata": {},
   "outputs": [
    {
     "data": {
<<<<<<< HEAD
      "text/plain": [
       "        State                         Agency_Type       Agency_Name  \n",
       "           :2572                            :2352             : 272  \n",
       " Alabama   :   1   Total                    :  51   Franklin  :   8  \n",
       " Alaska    :   1   Cities                   :  50   Jackson   :   7  \n",
       " Arizona   :   1   Metropolitan Counties    :  39   Madison   :   7  \n",
       " Arkansas  :   1   Nonmetropolitan Counties :  39   Monroe    :   7  \n",
       " California:   1   Universities and Colleges:  35   Montgomery:   7  \n",
       " (Other)   :  47   (Other)                  :  58   (Other)   :2316  \n",
       " Race/Ethnicity/Ancestry    Religion    Sexual_Orientation   Disability  \n",
       " 1      :1026            0      :1827   0      :1739       0      :2415  \n",
       " 0      : 626            1      : 440   1      : 536       1      : 121  \n",
       " 2      : 363            2      : 132   2      : 126       2      :  35  \n",
       " 3      : 141            3      :  53   3      :  49              :  15  \n",
       " 4      : 101            4      :  29   4      :  21       3      :  12  \n",
       " 5      :  57            5      :  19   5      :  18       4      :  11  \n",
       " (Other): 310            (Other): 124   (Other): 135       (Other):  15  \n",
       "     Gender     Gender_Identity  FirstQuarter  SecondQuarter   ThirdQuarter \n",
       " 0      :2463   0      :2315    0      :1496   0      :1280   0      :1346  \n",
       " 1      :  87   1      : 181    1      : 563   1      : 704   1      : 669  \n",
       " 2      :  35   2      :  40           : 323          : 318          : 308  \n",
       "        :  15   3      :  23    2      : 128   2      : 176   2      : 158  \n",
       " 3      :  10          :  15    3      :  43   3      :  57   3      :  64  \n",
       " 5      :   7   4      :  10    4      :  21   4      :  27   4      :  23  \n",
       " (Other):   7   (Other):  40    (Other):  50   (Other):  62   (Other):  56  \n",
       " FourthQuarter        NA      \n",
       " 0      :1407          : 965  \n",
       " 1      : 613   1,707  :   2  \n",
       "        : 327   1,922  :   2  \n",
       " 2      : 152   13,002 :   2  \n",
       " 3      :  50   14,351 :   2  \n",
       " 4      :  22   17,948 :   2  \n",
       " (Other):  53   (Other):1649  "
=======
      "image/png": "iVBORw0KGgoAAAANSUhEUgAAA0gAAANICAMAAADKOT/pAAAAMFBMVEUAAABNTU1oaGh8fHyM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\nrkJggg==",
      "text/plain": [
       "plot without title"
>>>>>>> 89d65ab62c9c26e3070610b44eb96e8c15776cb1
      ]
     },
     "metadata": {},
     "output_type": "display_data"
    }
   ],
   "source": [
<<<<<<< HEAD
    "summary(crimeState)"
   ]
  },
  {
   "cell_type": "code",
   "execution_count": 41,
   "id": "2957e27f",
   "metadata": {},
   "outputs": [
    {
     "data": {
      "text/plain": [
       "     State           Bill_Number\n",
       " CA     : 7   A 7701A/S 677: 1  \n",
       " NY     : 5   A 849        : 1  \n",
       " TX     : 5   AB 1041      : 1  \n",
       " MS     : 3   AB 1094      : 1  \n",
       " AZ     : 2   AB 218       : 1  \n",
       " KY     : 2   AB 439       : 1  \n",
       " (Other):14   (Other)      :32  \n",
       "                                                       Status  \n",
       " Died in committee 2/2/21                                 : 3  \n",
       " Died 4/2/21                                              : 2  \n",
       " Read for the first time and referred to committee 2/25/21: 2  \n",
       " Read for the first time and referred to committee 3/3/21 : 2  \n",
       " Active 1/5/22                                            : 1  \n",
       " Amended and recommitted to Correction 5/13/21            : 1  \n",
       " (Other)                                                  :27  "
      ]
     },
     "metadata": {},
     "output_type": "display_data"
    }
   ],
   "source": [
    "summary(lgbtqEquality)"
=======
    "model<-lm(formula = crimeState$State ~ crimeState$)"
>>>>>>> 89d65ab62c9c26e3070610b44eb96e8c15776cb1
   ]
  },
  {
   "cell_type": "code",
   "execution_count": null,
   "id": "00f956d7",
   "metadata": {},
   "outputs": [],
   "source": []
  }
 ],
 "metadata": {
  "kernelspec": {
   "display_name": "R",
   "language": "R",
   "name": "ir"
  },
  "language_info": {
   "codemirror_mode": "r",
   "file_extension": ".r",
   "mimetype": "text/x-r-source",
   "name": "R",
   "pygments_lexer": "r",
   "version": "3.6.1"
  }
 },
 "nbformat": 4,
 "nbformat_minor": 5
}
