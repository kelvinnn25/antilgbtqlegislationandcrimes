{
 "cells": [
  {
   "cell_type": "markdown",
   "id": "1b978c2b",
   "metadata": {},
   "source": [
    "# Correlation Between anti-lgbtq/anti-transgender hatecrimes and legislation passed\n",
    "* Where did we get this data?\n",
    "    1. FBI hate crimes database from this link: \n",
    "        https://cde.ucr.cjis.gov/\n",
    "    2. ACLU's legislation tracker from this link: \n",
    "        https://www.aclu.org/legislation-affecting-lgbtq-rights-across-country-2021\n",
    "* Defintions we must make: \n",
    "    * for more inforamtion about what classifies as a hatecrime in addition to how data collection was made, please refer to the fbi database linked above\n",
    "    * in addition we must clarify the defintion for religious exemption bills:\n",
    "        - these bills allow the exemption of discrimination based on the belief of religion, for example: a woman was fired from work because of religious exemption, being she was pregnant before getting married, not abiding to organization's religious beliefs\n",
    "    * bills preempting protection:\n",
    "        - according to the ACLU, 'These bills prevent cities and other local government entities from passing nondiscrimination protections that are more expansive than the protections offered at the state level, including protections for LGBTQ people.'\n",
    "* Possible predictor values: \n",
    "    1. number of legislation passed (maybe per state)\n",
    "    2. state\n",
    "* Possible Response values:\n",
    "    1. hatecrime incidents/offenses\n",
    "* Data Table Variable Names:\n",
    "    * crimesByBias <- fbi table 1 hate crimes by bias, basically summarizes number of offenses/victims with bias incidents\n",
    "        * more notes: \n",
    "        * \"1 The term victim may refer to an individual, business/financial institution, government entity, religious organization, or society/public as a whole.\",,,,\n",
    "        * \"2 The term known offender does not imply the suspect's identity is known; rather, the term indicates some aspect of the suspect was identified, thus distinguishing the suspect from an unknown offender.\",,,,\n",
    "        * 3 A multiple-bias incident is an incident in which one or more offense types are motivated by two or more biases.,,,,\n",
    "\n",
    "    * typeOfCrime <- type of crimes committed upon each bias group (ex: assault, manlsaughter, rape, intimidation, etc. \n",
    "        * 1 The figures shown include additional offenses collected in the National Incident-Based Reporting System. See the downloadable Methodology file for further explanation.\t\t\t\t\t\t\t\t\t\t\t\t\t\t\t\n",
    "        * 2 A multiple-bias incident is an incident in which one or more offense types are motivated by two or more biases.\n",
    "    * crimeVictims <- shows types of victims (adult/juvenile), and number of victims per crime\n",
    "        * 1 The term victim may refer to an individual, business/financial institution, government entity, religious organization, or society/public as a whole.\t\t\t\t\t\t\t\t\t\t\t\t\t\t\t\t\t\n",
    "        * 2 The figures shown are individual victims only.\t\t\t\t\t\t\t\t\t\t\t\t\t\t\t\t\t\n",
    "        * 3 The figures shown include additional offenses collected in the National Incident-Based Reporting System. See the downloadable Methodology file for further explanation.\t\t\t\t\t\t\t\t\t\t\t\t\t\t\t\t\t\n",
    "        * 4 A multiple-bias incident is an incident in which one or more offense types are motivated by two or more biases.\t\t\t\t\t\t\t\t\t\t\t\t\t\t\t\t\t\n",
    "        * Note: The aggregate of adult and juvenile individual victims does not equal the total number of victims because total victims include individuals, businesses/financial institutions, government entities, religious organizations, and society/public as a whole. In addition, the aggregate of adult and juvenile individual victims does not equal the aggregate of victims of crimes against persons because not all law enforcement agencies report the ages of individual victims.\n",
    "    * crimeLocation <- shows location of where the crime happened (on school grounds, public, business, etc)\n",
    "        * 1 A multiple-bias incident is an incident in which one or more offense types are motivated by two or more biases.\t\t\t\t\t\t\t\t\n",
    "        * 2 The location designation School/college has been retained for agencies that have not updated their records management systems to include the new location designations of Schoolâ€”college/university and Schoolâ€”elementary/secondary, which allow for more specificity in reporting.\t\n",
    "    * crimeState <- shows crime by state and city\n",
    "        * 1 Population figures are published only for the cities. The figures listed for the universities and colleges are student enrollment and were provided by the United States Department of Education for the 2020 school year, the most recent available. The enrollment figures include full-time and part-time students.\t\t\t\t\t\t\t\t\t\t\t\t\t\n",
    "        * 2 The figures shown include one incident reported with more than one bias motivation.\t\t\t\t\t\t\t\t\t\t\t\t\t\n",
    "        * 3 Student enrollment figures were not available.\n",
    "    * antiLgbtq <- shows amount of anti-LGBTQ and trans laws \n",
    "    * religiousExemption <- shows amount of bills passed from relgiious exemption (see definition above)\n",
    "    * preemptingProtection <- shows amount of bills preempting LGBTQ protection (see definition above) \n",
    "    * lgbtqEquality <- shows bills passed to protect LGBTQ rights \n"
   ]
  },
  {
   "cell_type": "code",
   "execution_count": 2,
   "id": "4d2488a5",
   "metadata": {},
   "outputs": [],
   "source": [
    "#variable names\n",
    "crimesByBias <- read.csv('fbit1crimesByBias.csv')\n",
    "typeOfCrime <- read.csv('fbit4crimesByBiasMotivation.csv')\n",
    "crimeVictims <- read.csv('fbit7_Victims_Offense_Type_by_Bias_Motivation_2021.csv')\n",
    "crimeLocation <- read.csv('fbit10incidents_Bias_Motivation_by_Location_2021.csv')\n",
    "crimeTypeByState <-read.csv('fbit11crimeTypeByState.csv')\n",
    "crimeState <- read.csv(\"fbit13.csv\")\n",
    "antiLgbtq <-  read.csv('AntiLGBTQ.csv')\n",
    "religiousExemption <- read.csv('ReligiousExemptionBills.csv')\n",
    "preemptingProtection <- read.csv('BillsPreemptingProtection.csv')\n",
    "lgbtqEquality <- read.csv('LGBTQEquality.csv')"
   ]
  },
  {
   "cell_type": "code",
   "execution_count": 3,
   "id": "a18d7bf6",
   "metadata": {},
   "outputs": [],
   "source": [
    "#cleaning data frames KIND OF\n",
    "# Fbi data\n",
    "crimesByBias <- data.frame(c=crimesByBias)\n",
    "colnames(crimesByBias) <-c('Bias_Motivation','Incidents','Offenses','Victims','Known_Offenders')\n",
    "typeOfCrime <- data.frame(c=typeOfCrime)\n",
    "colnames(typeOfCrime) <-c('Bias_Motivation','Total_Offenses','Murder_and_nonnegligent_manslaughter',\n",
    "                          'Rape','Aggravated_Assault','Simple Assault','Intimidation','Other','Robbery', 'Burgalry', \n",
    "                          'Larceny','Motor_Vehicle_Theft', 'Arson','Destruction/Damage/Vandalism','Other','Crimes_against_society')\n",
    "typeOfCrime<- typeOfCrime[6:47,]\n",
    "crimeVictims <- data.frame(c=crimeVictims)\n",
    "colnames(crimeVictims) <- c('Bias_Motivation','Total_Victims','Total_Adult_Victims','Total_Juvenile_Victims',\n",
    "                            'Murder_and_nonnegligent_manslaughter','Rape','Aggravated_Assault','Simple Assault','Intimidation','Other','Robbery', 'Burgalry', \n",
    "                          'Larceny','Motor_Vehicle_Theft', 'Arson','Destruction/Damage/Vandalism','Other','Crimes_against_society')\n",
    "crimeVictims <- crimeVictims[6:48,]\n",
    "crimeLocation <- data.frame(c=crimeLocation)\n",
    "colnames(crimeLocation) <- c('Location','Total_Incidents','Race/Ethnicity/Ancestry','Religion',\n",
    "                             'Sexual_Orientation','Disability','Gender','Gender_Identity','Multiple_bias_incidents')\n",
    "crimeLocation <- crimeLocation[6:53,]\n",
    "crimeTypeByState <-data.frame(c=crimeTypeByState)\n",
    "colnames(crimeTypeByState) <- c('State','Total_Offenses','Murder_and_nonnegligent_manslaughter','Rape','Aggravated_Assault','Simple Assault','Intimidation','Other','Robbery', 'Burgalry', \n",
    "                          'Larceny','Motor_Vehicle_Theft', 'Arson','Destruction/Damage/Vandalism','Other','Crimes_against_society')\n",
    "crimeTypeByState <- crimeTypeByState[6:57,]\n",
    "crimeState <- data.frame(c=crimeState)\n",
    "colnames(crimeState) <- c('State','Race/Ethnicity/Ancestry','Religion',\n",
    "                         'Sexual_Orientation','Disability','Gender','Gender_Identity')\n",
    "crimeState <-crimeState[1:51,]\n",
    "#ACLU Data\n",
    "antiLgbtq <- data.frame(c=antiLgbtq)\n",
    "antiLgbtq <-antiLgbtq[0:3]\n",
    "colnames(antiLgbtq) <-c('State','Bill_Number','Status')\n",
    "religiousExemption <- data.frame(c=religiousExemption)\n",
    "religiousExemption <-religiousExemption[0:3]\n",
    "colnames(religiousExemption) <-c('State','Bill_Number','Status')\n",
    "preemptingProtection <- data.frame(c=preemptingProtection)\n",
    "preemptingProtection <- preemptingProtection[0:3]\n",
    "colnames(preemptingProtection) <-c('State','Bill_Number','Status')\n",
    "lgbtqEquality <- data.frame(c=lgbtqEquality)\n",
    "lgbtqEquality<-lgbtqEquality[0:3]\n",
    "colnames(lgbtqEquality) <-c('State','Bill_Number','Status')"
   ]
  },
  {
   "cell_type": "markdown",
   "id": "dd62a760",
   "metadata": {},
   "source": [
    "fbi tables:\n",
    "- crimeByBias\n",
    "- typeOfCrime\n",
    "- crimeVictims\n",
    "- crimeLocation\n",
    "- crimeTypeByState\n",
    "- crimeState\n",
    "\n",
    "\n",
    "ACLU tables:\n",
    "- antiLgbtq\n",
    "- religiousExemption\n",
    "- preemptingProtection\n",
    "- lgtbqEquality"
   ]
  },
  {
   "cell_type": "code",
   "execution_count": 5,
   "id": "7ac52dcd",
   "metadata": {},
   "outputs": [
    {
     "data": {
      "image/png": "[encoded data removed]",
      "text/plain": [
       "Plot with title \"State\""
      ]
     },
     "metadata": {},
     "output_type": "display_data"
    }
   ],
   "source": [
    "counts <- table(antiLgbtq$State)\n",
    "barplot(counts, main='State', xlab = 'State', ylab='Number of Anti Lgbtq Laws')"
   ]
  },
  {
   "cell_type": "code",
   "execution_count": 6,
   "id": "8cf5c8a7",
   "metadata": {},
   "outputs": [
    {
     "data": {
      "image/png": "[encoded data removed]",
      "text/plain": [
       "Plot with title \"State\""
      ]
     },
     "metadata": {},
     "output_type": "display_data"
    }
   ],
   "source": [
    "counts <- table(religiousExemption$State)\n",
    "barplot(counts, main='State', xlab = 'State', ylab='Number of Religous Exemption Laws')"
   ]
  },
  {
   "cell_type": "code",
   "execution_count": 7,
   "id": "5217e89b",
   "metadata": {},
   "outputs": [
    {
     "data": {
      "image/png": "[encoded data removed]",
      "text/plain": [
       "Plot with title \"State\""
      ]
     },
     "metadata": {},
     "output_type": "display_data"
    }
   ],
   "source": [
    "counts <- table(preemptingProtection$State)\n",
    "barplot(counts, main='State', xlab = 'State', ylab='Number of Preempting Protection Laws')"
   ]
  },
  {
   "cell_type": "code",
   "execution_count": 8,
   "id": "9a3c7b0a",
   "metadata": {},
   "outputs": [
    {
     "data": {
      "image/png": "[encoded data removed]",
      "text/plain": [
       "Plot with title \"State\""
      ]
     },
     "metadata": {},
     "output_type": "display_data"
    }
   ],
   "source": [
    "counts <- table(lgbtqEquality$State)\n",
    "barplot(counts, main='State', xlab = 'State', ylab='Number of Pro Lgbtq Laws')"
   ]
  },
  {
   "cell_type": "code",
   "execution_count": 9,
   "id": "412efd30",
   "metadata": {},
   "outputs": [
    {
     "data": {
      "text/html": [
       "<table>\n",
       "<thead><tr><th scope=col>State</th><th scope=col>Race/Ethnicity/Ancestry</th><th scope=col>Religion</th><th scope=col>Sexual_Orientation</th><th scope=col>Disability</th><th scope=col>Gender</th><th scope=col>Gender_Identity</th></tr></thead>\n",
       "<tbody>\n",
       "\t<tr><td>Alabama   </td><td>137       </td><td>72        </td><td>32        </td><td>5         </td><td>5         </td><td> 4        </td></tr>\n",
       "\t<tr><td>Alaska    </td><td>  5       </td><td> 0        </td><td> 4        </td><td>0         </td><td>2         </td><td> 1        </td></tr>\n",
       "\t<tr><td>Arizona   </td><td> 61       </td><td>15        </td><td>16        </td><td>0         </td><td>0         </td><td> 4        </td></tr>\n",
       "\t<tr><td>Arkansas  </td><td> 31       </td><td> 3        </td><td> 9        </td><td>0         </td><td>3         </td><td> 2        </td></tr>\n",
       "\t<tr><td>California</td><td> 49       </td><td> 6        </td><td>16        </td><td>0         </td><td>0         </td><td> 3        </td></tr>\n",
       "\t<tr><td>Colorado  </td><td>182       </td><td>40        </td><td>67        </td><td>4         </td><td>1         </td><td>18        </td></tr>\n",
       "</tbody>\n",
       "</table>\n"
      ],
      "text/latex": [
       "\\begin{tabular}{r|lllllll}\n",
       " State & Race/Ethnicity/Ancestry & Religion & Sexual\\_Orientation & Disability & Gender & Gender\\_Identity\\\\\n",
       "\\hline\n",
       "\t Alabama    & 137        & 72         & 32         & 5          & 5          &  4        \\\\\n",
       "\t Alaska     &   5        &  0         &  4         & 0          & 2          &  1        \\\\\n",
       "\t Arizona    &  61        & 15         & 16         & 0          & 0          &  4        \\\\\n",
       "\t Arkansas   &  31        &  3         &  9         & 0          & 3          &  2        \\\\\n",
       "\t California &  49        &  6         & 16         & 0          & 0          &  3        \\\\\n",
       "\t Colorado   & 182        & 40         & 67         & 4          & 1          & 18        \\\\\n",
       "\\end{tabular}\n"
      ],
      "text/markdown": [
       "\n",
       "| State | Race/Ethnicity/Ancestry | Religion | Sexual_Orientation | Disability | Gender | Gender_Identity |\n",
       "|---|---|---|---|---|---|---|\n",
       "| Alabama    | 137        | 72         | 32         | 5          | 5          |  4         |\n",
       "| Alaska     |   5        |  0         |  4         | 0          | 2          |  1         |\n",
       "| Arizona    |  61        | 15         | 16         | 0          | 0          |  4         |\n",
       "| Arkansas   |  31        |  3         |  9         | 0          | 3          |  2         |\n",
       "| California |  49        |  6         | 16         | 0          | 0          |  3         |\n",
       "| Colorado   | 182        | 40         | 67         | 4          | 1          | 18         |\n",
       "\n"
      ],
      "text/plain": [
       "  State      Race/Ethnicity/Ancestry Religion Sexual_Orientation Disability\n",
       "1 Alabama    137                     72       32                 5         \n",
       "2 Alaska       5                      0        4                 0         \n",
       "3 Arizona     61                     15       16                 0         \n",
       "4 Arkansas    31                      3        9                 0         \n",
       "5 California  49                      6       16                 0         \n",
       "6 Colorado   182                     40       67                 4         \n",
       "  Gender Gender_Identity\n",
       "1 5       4             \n",
       "2 2       1             \n",
       "3 0       4             \n",
       "4 3       2             \n",
       "5 0       3             \n",
       "6 1      18             "
      ]
     },
     "metadata": {},
     "output_type": "display_data"
    }
   ],
   "source": [
    "head(crimeState)\n",
    "fix(crimeState)"
   ]
  },
  {
   "cell_type": "code",
   "execution_count": 10,
   "id": "9cbafd06",
   "metadata": {},
   "outputs": [
    {
     "data": {
      "text/html": [
       "<ol class=list-inline>\n",
       "\t<li>'State'</li>\n",
       "\t<li>'Race/Ethnicity/Ancestry'</li>\n",
       "\t<li>'Religion'</li>\n",
       "\t<li>'Sexual_Orientation'</li>\n",
       "\t<li>'Disability'</li>\n",
       "\t<li>'Gender'</li>\n",
       "\t<li>'Gender_Identity'</li>\n",
       "</ol>\n"
      ],
      "text/latex": [
       "\\begin{enumerate*}\n",
       "\\item 'State'\n",
       "\\item 'Race/Ethnicity/Ancestry'\n",
       "\\item 'Religion'\n",
       "\\item 'Sexual\\_Orientation'\n",
       "\\item 'Disability'\n",
       "\\item 'Gender'\n",
       "\\item 'Gender\\_Identity'\n",
       "\\end{enumerate*}\n"
      ],
      "text/markdown": [
       "1. 'State'\n",
       "2. 'Race/Ethnicity/Ancestry'\n",
       "3. 'Religion'\n",
       "4. 'Sexual_Orientation'\n",
       "5. 'Disability'\n",
       "6. 'Gender'\n",
       "7. 'Gender_Identity'\n",
       "\n",
       "\n"
      ],
      "text/plain": [
       "[1] \"State\"                   \"Race/Ethnicity/Ancestry\"\n",
       "[3] \"Religion\"                \"Sexual_Orientation\"     \n",
       "[5] \"Disability\"              \"Gender\"                 \n",
       "[7] \"Gender_Identity\"        "
      ]
     },
     "metadata": {},
     "output_type": "display_data"
    }
   ],
   "source": [
    "names(crimeState)"
   ]
  },
  {
   "cell_type": "code",
   "execution_count": 11,
   "id": "030bcb08",
   "metadata": {
    "scrolled": true
   },
   "outputs": [
    {
     "data": {
      "text/plain": [
       "        State    Race/Ethnicity/Ancestry    Religion     Sexual_Orientation\n",
       " Alabama   : 1   Min.   :  1.00          Min.   : 0.00   Min.   :  0.00    \n",
       " Alaska    : 1   1st Qu.: 29.25          1st Qu.: 4.25   1st Qu.:  7.00    \n",
       " Arizona   : 1   Median : 63.00          Median :14.00   Median : 16.00    \n",
       " Arkansas  : 1   Mean   : 96.10          Mean   :21.68   Mean   : 24.48    \n",
       " California: 1   3rd Qu.:135.50          3rd Qu.:29.75   3rd Qu.: 31.50    \n",
       " (Other)   :45   Max.   :449.00          Max.   :84.00   Max.   :111.00    \n",
       " NA's      : 1   NA's   :1               NA's   :1       NA's   :1         \n",
       "   Disability        Gender      Gender_Identity\n",
       " Min.   : 0.00   Min.   : 0.00   Min.   : 0.00  \n",
       " 1st Qu.: 0.00   1st Qu.: 0.00   1st Qu.: 0.00  \n",
       " Median : 1.00   Median : 1.00   Median : 2.50  \n",
       " Mean   : 3.02   Mean   : 1.74   Mean   : 5.58  \n",
       " 3rd Qu.: 3.00   3rd Qu.: 2.00   3rd Qu.: 9.75  \n",
       " Max.   :44.00   Max.   :10.00   Max.   :41.00  \n",
       " NA's   :1       NA's   :1       NA's   :1      "
      ]
     },
     "metadata": {},
     "output_type": "display_data"
    }
   ],
   "source": [
    "summary(crimeState)"
   ]
  },
  {
   "cell_type": "code",
   "execution_count": 12,
   "id": "12f3d50c",
   "metadata": {},
   "outputs": [],
   "source": [
    "crimeState <- na.omit(crimeState)"
   ]
  },
  {
   "cell_type": "code",
   "execution_count": 13,
   "id": "e54cfa6b",
   "metadata": {
    "scrolled": false
   },
   "outputs": [
    {
     "data": {
      "text/html": [
       "5.58"
      ],
      "text/latex": [
       "5.58"
      ],
      "text/markdown": [
       "5.58"
      ],
      "text/plain": [
       "[1] 5.58"
      ]
     },
     "metadata": {},
     "output_type": "display_data"
    }
   ],
   "source": [
    "mean(crimeState$Gender_Identity)"
   ]
  },
  {
   "cell_type": "code",
   "execution_count": 14,
   "id": "767d1db7",
   "metadata": {
    "scrolled": true
   },
   "outputs": [
    {
     "data": {
      "text/html": [
       "1.74"
      ],
      "text/latex": [
       "1.74"
      ],
      "text/markdown": [
       "1.74"
      ],
      "text/plain": [
       "[1] 1.74"
      ]
     },
     "metadata": {},
     "output_type": "display_data"
    }
   ],
   "source": [
    "mean(crimeState$Gender)"
   ]
  },
  {
   "cell_type": "code",
   "execution_count": 15,
   "id": "a71e6a4f",
   "metadata": {},
   "outputs": [
    {
     "data": {
      "text/html": [
       "24.48"
      ],
      "text/latex": [
       "24.48"
      ],
      "text/markdown": [
       "24.48"
      ],
      "text/plain": [
       "[1] 24.48"
      ]
     },
     "metadata": {},
     "output_type": "display_data"
    }
   ],
   "source": [
    "mean(crimeState$Sexual_Orientation)"
   ]
  },
  {
   "cell_type": "code",
   "execution_count": 16,
   "id": "a751fe30",
   "metadata": {},
   "outputs": [
    {
     "name": "stdout",
     "output_type": "stream",
     "text": [
      "'data.frame':\t50 obs. of  7 variables:\n",
      " $ State                  : Factor w/ 50 levels \"Alabama\",\"Alaska\",..: 1 2 3 4 5 6 7 8 9 10 ...\n",
      " $ Race/Ethnicity/Ancestry: num  137 5 61 31 49 182 65 5 1 164 ...\n",
      " $ Religion               : num  72 0 15 3 6 40 9 2 0 29 ...\n",
      " $ Sexual_Orientation     : num  32 4 16 9 16 67 17 2 0 37 ...\n",
      " $ Disability             : num  5 0 0 0 0 4 1 0 0 3 ...\n",
      " $ Gender                 : num  5 2 0 3 0 1 0 0 0 3 ...\n",
      " $ Gender_Identity        : num  4 1 4 2 3 18 0 0 0 12 ...\n",
      " - attr(*, \"na.action\")= 'omit' Named int 51\n",
      "  ..- attr(*, \"names\")= chr \"NA\"\n"
     ]
    }
   ],
   "source": [
    "str(crimeState)"
   ]
  },
  {
   "cell_type": "markdown",
   "id": "505d99aa",
   "metadata": {},
   "source": [
    "Data aggregation"
   ]
  },
  {
   "cell_type": "code",
   "execution_count": 17,
   "id": "5bf577d5",
   "metadata": {},
   "outputs": [],
   "source": [
    "dataset1 <- crimeState"
   ]
  },
  {
   "cell_type": "code",
   "execution_count": 18,
   "id": "593d5036",
   "metadata": {},
   "outputs": [],
   "source": [
    "drop <- c(\"Race/Ethnicity/Ancestry\", \"Religion\", \"Disabilitiy\")\n",
    "dataset1 <- dataset1[,!(names(dataset1) %in% drop)]"
   ]
  },
  {
   "cell_type": "code",
   "execution_count": 19,
   "id": "b7c3d14e",
   "metadata": {},
   "outputs": [
    {
     "data": {
      "text/html": [
       "<table>\n",
       "<thead><tr><th scope=col>State</th><th scope=col>Sexual_Orientation</th><th scope=col>Disability</th><th scope=col>Gender</th><th scope=col>Gender_Identity</th></tr></thead>\n",
       "<tbody>\n",
       "\t<tr><td>Alabama       </td><td> 32           </td><td> 5            </td><td> 5            </td><td> 4            </td></tr>\n",
       "\t<tr><td>Alaska        </td><td>  4           </td><td> 0            </td><td> 2            </td><td> 1            </td></tr>\n",
       "\t<tr><td>Arizona       </td><td> 16           </td><td> 0            </td><td> 0            </td><td> 4            </td></tr>\n",
       "\t<tr><td>Arkansas      </td><td>  9           </td><td> 0            </td><td> 3            </td><td> 2            </td></tr>\n",
       "\t<tr><td>California    </td><td> 16           </td><td> 0            </td><td> 0            </td><td> 3            </td></tr>\n",
       "\t<tr><td>Colorado      </td><td> 67           </td><td> 4            </td><td> 1            </td><td>18            </td></tr>\n",
       "\t<tr><td>Connecticut   </td><td> 17           </td><td> 1            </td><td> 0            </td><td> 0            </td></tr>\n",
       "\t<tr><td>Delaware      </td><td>  2           </td><td> 0            </td><td> 0            </td><td> 0            </td></tr>\n",
       "\t<tr><td>Florida       </td><td>  0           </td><td> 0            </td><td> 0            </td><td> 0            </td></tr>\n",
       "\t<tr><td>Georgia       </td><td> 37           </td><td> 3            </td><td> 3            </td><td>12            </td></tr>\n",
       "\t<tr><td>Hawaii        </td><td>  3           </td><td> 0            </td><td> 0            </td><td> 0            </td></tr>\n",
       "\t<tr><td>Idaho         </td><td> 11           </td><td> 0            </td><td> 0            </td><td> 0            </td></tr>\n",
       "\t<tr><td>Illinois      </td><td> 11           </td><td> 1            </td><td> 2            </td><td> 0            </td></tr>\n",
       "\t<tr><td>Indiana       </td><td> 17           </td><td> 0            </td><td> 2            </td><td>11            </td></tr>\n",
       "\t<tr><td>Iowa          </td><td> 10           </td><td> 4            </td><td> 3            </td><td> 3            </td></tr>\n",
       "\t<tr><td>Kansas        </td><td> 16           </td><td> 5            </td><td> 1            </td><td> 1            </td></tr>\n",
       "\t<tr><td>Kentucky      </td><td> 40           </td><td> 4            </td><td> 0            </td><td>13            </td></tr>\n",
       "\t<tr><td>Louisiana     </td><td>  7           </td><td> 3            </td><td> 1            </td><td> 0            </td></tr>\n",
       "\t<tr><td>Maine         </td><td> 25           </td><td> 1            </td><td> 2            </td><td> 3            </td></tr>\n",
       "\t<tr><td>Maryland      </td><td> 12           </td><td> 2            </td><td> 1            </td><td> 4            </td></tr>\n",
       "\t<tr><td>Massachusetts </td><td> 82           </td><td> 3            </td><td> 5            </td><td>10            </td></tr>\n",
       "\t<tr><td>Michigan      </td><td> 60           </td><td> 4            </td><td> 7            </td><td>13            </td></tr>\n",
       "\t<tr><td>Minnesota     </td><td> 44           </td><td> 2            </td><td> 2            </td><td> 7            </td></tr>\n",
       "\t<tr><td>Mississippi   </td><td>  2           </td><td> 0            </td><td> 3            </td><td> 0            </td></tr>\n",
       "\t<tr><td>Missouri      </td><td> 38           </td><td> 4            </td><td> 2            </td><td> 9            </td></tr>\n",
       "\t<tr><td>Montana       </td><td>  6           </td><td> 0            </td><td> 0            </td><td> 1            </td></tr>\n",
       "\t<tr><td>Nebraska      </td><td>  7           </td><td> 2            </td><td> 0            </td><td> 2            </td></tr>\n",
       "\t<tr><td>Nevada        </td><td> 30           </td><td> 1            </td><td> 2            </td><td> 6            </td></tr>\n",
       "\t<tr><td>New Hampshire </td><td>  7           </td><td> 1            </td><td> 1            </td><td> 1            </td></tr>\n",
       "\t<tr><td>New Jersey    </td><td> 23           </td><td> 0            </td><td> 0            </td><td>15            </td></tr>\n",
       "\t<tr><td>New Mexico    </td><td>  7           </td><td> 2            </td><td> 0            </td><td> 1            </td></tr>\n",
       "\t<tr><td>New York      </td><td> 15           </td><td> 0            </td><td> 2            </td><td> 1            </td></tr>\n",
       "\t<tr><td>North Carolina</td><td> 36           </td><td> 7            </td><td> 2            </td><td> 3            </td></tr>\n",
       "\t<tr><td>North Dakota  </td><td>  8           </td><td> 0            </td><td> 0            </td><td> 0            </td></tr>\n",
       "\t<tr><td>Ohio          </td><td> 68           </td><td>44            </td><td> 4            </td><td>41            </td></tr>\n",
       "\t<tr><td>Oklahoma      </td><td> 15           </td><td> 2            </td><td> 6            </td><td> 0            </td></tr>\n",
       "\t<tr><td>Oregon        </td><td> 51           </td><td> 2            </td><td> 1            </td><td>13            </td></tr>\n",
       "\t<tr><td>Pennsylvania  </td><td> 25           </td><td> 1            </td><td> 1            </td><td> 0            </td></tr>\n",
       "\t<tr><td>Rhode Island  </td><td>  3           </td><td> 0            </td><td> 0            </td><td> 0            </td></tr>\n",
       "\t<tr><td>South Carolina</td><td> 21           </td><td> 2            </td><td> 0            </td><td> 3            </td></tr>\n",
       "\t<tr><td>South Dakota  </td><td>  9           </td><td> 0            </td><td> 2            </td><td> 0            </td></tr>\n",
       "\t<tr><td>Tennessee     </td><td> 20           </td><td>11            </td><td> 2            </td><td> 4            </td></tr>\n",
       "\t<tr><td>Texas         </td><td>111           </td><td>17            </td><td>10            </td><td>28            </td></tr>\n",
       "\t<tr><td>Utah          </td><td> 25           </td><td> 1            </td><td> 1            </td><td>10            </td></tr>\n",
       "\t<tr><td>Vermont       </td><td>  6           </td><td> 0            </td><td> 0            </td><td> 0            </td></tr>\n",
       "\t<tr><td>Virginia      </td><td> 23           </td><td> 0            </td><td> 0            </td><td> 1            </td></tr>\n",
       "\t<tr><td>Washington    </td><td>105           </td><td> 7            </td><td> 4            </td><td>19            </td></tr>\n",
       "\t<tr><td>West Virginia </td><td>  5           </td><td> 1            </td><td> 0            </td><td> 1            </td></tr>\n",
       "\t<tr><td>Wisconsin     </td><td> 16           </td><td> 3            </td><td> 3            </td><td>11            </td></tr>\n",
       "\t<tr><td>Wyoming       </td><td>  4           </td><td> 1            </td><td> 1            </td><td> 0            </td></tr>\n",
       "</tbody>\n",
       "</table>\n"
      ],
      "text/latex": [
       "\\begin{tabular}{r|lllll}\n",
       " State & Sexual\\_Orientation & Disability & Gender & Gender\\_Identity\\\\\n",
       "\\hline\n",
       "\t Alabama        &  32            &  5             &  5             &  4            \\\\\n",
       "\t Alaska         &   4            &  0             &  2             &  1            \\\\\n",
       "\t Arizona        &  16            &  0             &  0             &  4            \\\\\n",
       "\t Arkansas       &   9            &  0             &  3             &  2            \\\\\n",
       "\t California     &  16            &  0             &  0             &  3            \\\\\n",
       "\t Colorado       &  67            &  4             &  1             & 18            \\\\\n",
       "\t Connecticut    &  17            &  1             &  0             &  0            \\\\\n",
       "\t Delaware       &   2            &  0             &  0             &  0            \\\\\n",
       "\t Florida        &   0            &  0             &  0             &  0            \\\\\n",
       "\t Georgia        &  37            &  3             &  3             & 12            \\\\\n",
       "\t Hawaii         &   3            &  0             &  0             &  0            \\\\\n",
       "\t Idaho          &  11            &  0             &  0             &  0            \\\\\n",
       "\t Illinois       &  11            &  1             &  2             &  0            \\\\\n",
       "\t Indiana        &  17            &  0             &  2             & 11            \\\\\n",
       "\t Iowa           &  10            &  4             &  3             &  3            \\\\\n",
       "\t Kansas         &  16            &  5             &  1             &  1            \\\\\n",
       "\t Kentucky       &  40            &  4             &  0             & 13            \\\\\n",
       "\t Louisiana      &   7            &  3             &  1             &  0            \\\\\n",
       "\t Maine          &  25            &  1             &  2             &  3            \\\\\n",
       "\t Maryland       &  12            &  2             &  1             &  4            \\\\\n",
       "\t Massachusetts  &  82            &  3             &  5             & 10            \\\\\n",
       "\t Michigan       &  60            &  4             &  7             & 13            \\\\\n",
       "\t Minnesota      &  44            &  2             &  2             &  7            \\\\\n",
       "\t Mississippi    &   2            &  0             &  3             &  0            \\\\\n",
       "\t Missouri       &  38            &  4             &  2             &  9            \\\\\n",
       "\t Montana        &   6            &  0             &  0             &  1            \\\\\n",
       "\t Nebraska       &   7            &  2             &  0             &  2            \\\\\n",
       "\t Nevada         &  30            &  1             &  2             &  6            \\\\\n",
       "\t New Hampshire  &   7            &  1             &  1             &  1            \\\\\n",
       "\t New Jersey     &  23            &  0             &  0             & 15            \\\\\n",
       "\t New Mexico     &   7            &  2             &  0             &  1            \\\\\n",
       "\t New York       &  15            &  0             &  2             &  1            \\\\\n",
       "\t North Carolina &  36            &  7             &  2             &  3            \\\\\n",
       "\t North Dakota   &   8            &  0             &  0             &  0            \\\\\n",
       "\t Ohio           &  68            & 44             &  4             & 41            \\\\\n",
       "\t Oklahoma       &  15            &  2             &  6             &  0            \\\\\n",
       "\t Oregon         &  51            &  2             &  1             & 13            \\\\\n",
       "\t Pennsylvania   &  25            &  1             &  1             &  0            \\\\\n",
       "\t Rhode Island   &   3            &  0             &  0             &  0            \\\\\n",
       "\t South Carolina &  21            &  2             &  0             &  3            \\\\\n",
       "\t South Dakota   &   9            &  0             &  2             &  0            \\\\\n",
       "\t Tennessee      &  20            & 11             &  2             &  4            \\\\\n",
       "\t Texas          & 111            & 17             & 10             & 28            \\\\\n",
       "\t Utah           &  25            &  1             &  1             & 10            \\\\\n",
       "\t Vermont        &   6            &  0             &  0             &  0            \\\\\n",
       "\t Virginia       &  23            &  0             &  0             &  1            \\\\\n",
       "\t Washington     & 105            &  7             &  4             & 19            \\\\\n",
       "\t West Virginia  &   5            &  1             &  0             &  1            \\\\\n",
       "\t Wisconsin      &  16            &  3             &  3             & 11            \\\\\n",
       "\t Wyoming        &   4            &  1             &  1             &  0            \\\\\n",
       "\\end{tabular}\n"
      ],
      "text/markdown": [
       "\n",
       "| State | Sexual_Orientation | Disability | Gender | Gender_Identity |\n",
       "|---|---|---|---|---|\n",
       "| Alabama        |  32            |  5             |  5             |  4             |\n",
       "| Alaska         |   4            |  0             |  2             |  1             |\n",
       "| Arizona        |  16            |  0             |  0             |  4             |\n",
       "| Arkansas       |   9            |  0             |  3             |  2             |\n",
       "| California     |  16            |  0             |  0             |  3             |\n",
       "| Colorado       |  67            |  4             |  1             | 18             |\n",
       "| Connecticut    |  17            |  1             |  0             |  0             |\n",
       "| Delaware       |   2            |  0             |  0             |  0             |\n",
       "| Florida        |   0            |  0             |  0             |  0             |\n",
       "| Georgia        |  37            |  3             |  3             | 12             |\n",
       "| Hawaii         |   3            |  0             |  0             |  0             |\n",
       "| Idaho          |  11            |  0             |  0             |  0             |\n",
       "| Illinois       |  11            |  1             |  2             |  0             |\n",
       "| Indiana        |  17            |  0             |  2             | 11             |\n",
       "| Iowa           |  10            |  4             |  3             |  3             |\n",
       "| Kansas         |  16            |  5             |  1             |  1             |\n",
       "| Kentucky       |  40            |  4             |  0             | 13             |\n",
       "| Louisiana      |   7            |  3             |  1             |  0             |\n",
       "| Maine          |  25            |  1             |  2             |  3             |\n",
       "| Maryland       |  12            |  2             |  1             |  4             |\n",
       "| Massachusetts  |  82            |  3             |  5             | 10             |\n",
       "| Michigan       |  60            |  4             |  7             | 13             |\n",
       "| Minnesota      |  44            |  2             |  2             |  7             |\n",
       "| Mississippi    |   2            |  0             |  3             |  0             |\n",
       "| Missouri       |  38            |  4             |  2             |  9             |\n",
       "| Montana        |   6            |  0             |  0             |  1             |\n",
       "| Nebraska       |   7            |  2             |  0             |  2             |\n",
       "| Nevada         |  30            |  1             |  2             |  6             |\n",
       "| New Hampshire  |   7            |  1             |  1             |  1             |\n",
       "| New Jersey     |  23            |  0             |  0             | 15             |\n",
       "| New Mexico     |   7            |  2             |  0             |  1             |\n",
       "| New York       |  15            |  0             |  2             |  1             |\n",
       "| North Carolina |  36            |  7             |  2             |  3             |\n",
       "| North Dakota   |   8            |  0             |  0             |  0             |\n",
       "| Ohio           |  68            | 44             |  4             | 41             |\n",
       "| Oklahoma       |  15            |  2             |  6             |  0             |\n",
       "| Oregon         |  51            |  2             |  1             | 13             |\n",
       "| Pennsylvania   |  25            |  1             |  1             |  0             |\n",
       "| Rhode Island   |   3            |  0             |  0             |  0             |\n",
       "| South Carolina |  21            |  2             |  0             |  3             |\n",
       "| South Dakota   |   9            |  0             |  2             |  0             |\n",
       "| Tennessee      |  20            | 11             |  2             |  4             |\n",
       "| Texas          | 111            | 17             | 10             | 28             |\n",
       "| Utah           |  25            |  1             |  1             | 10             |\n",
       "| Vermont        |   6            |  0             |  0             |  0             |\n",
       "| Virginia       |  23            |  0             |  0             |  1             |\n",
       "| Washington     | 105            |  7             |  4             | 19             |\n",
       "| West Virginia  |   5            |  1             |  0             |  1             |\n",
       "| Wisconsin      |  16            |  3             |  3             | 11             |\n",
       "| Wyoming        |   4            |  1             |  1             |  0             |\n",
       "\n"
      ],
      "text/plain": [
       "   State          Sexual_Orientation Disability Gender Gender_Identity\n",
       "1  Alabama         32                 5          5      4             \n",
       "2  Alaska           4                 0          2      1             \n",
       "3  Arizona         16                 0          0      4             \n",
       "4  Arkansas         9                 0          3      2             \n",
       "5  California      16                 0          0      3             \n",
       "6  Colorado        67                 4          1     18             \n",
       "7  Connecticut     17                 1          0      0             \n",
       "8  Delaware         2                 0          0      0             \n",
       "9  Florida          0                 0          0      0             \n",
       "10 Georgia         37                 3          3     12             \n",
       "11 Hawaii           3                 0          0      0             \n",
       "12 Idaho           11                 0          0      0             \n",
       "13 Illinois        11                 1          2      0             \n",
       "14 Indiana         17                 0          2     11             \n",
       "15 Iowa            10                 4          3      3             \n",
       "16 Kansas          16                 5          1      1             \n",
       "17 Kentucky        40                 4          0     13             \n",
       "18 Louisiana        7                 3          1      0             \n",
       "19 Maine           25                 1          2      3             \n",
       "20 Maryland        12                 2          1      4             \n",
       "21 Massachusetts   82                 3          5     10             \n",
       "22 Michigan        60                 4          7     13             \n",
       "23 Minnesota       44                 2          2      7             \n",
       "24 Mississippi      2                 0          3      0             \n",
       "25 Missouri        38                 4          2      9             \n",
       "26 Montana          6                 0          0      1             \n",
       "27 Nebraska         7                 2          0      2             \n",
       "28 Nevada          30                 1          2      6             \n",
       "29 New Hampshire    7                 1          1      1             \n",
       "30 New Jersey      23                 0          0     15             \n",
       "31 New Mexico       7                 2          0      1             \n",
       "32 New York        15                 0          2      1             \n",
       "33 North Carolina  36                 7          2      3             \n",
       "34 North Dakota     8                 0          0      0             \n",
       "35 Ohio            68                44          4     41             \n",
       "36 Oklahoma        15                 2          6      0             \n",
       "37 Oregon          51                 2          1     13             \n",
       "38 Pennsylvania    25                 1          1      0             \n",
       "39 Rhode Island     3                 0          0      0             \n",
       "40 South Carolina  21                 2          0      3             \n",
       "41 South Dakota     9                 0          2      0             \n",
       "42 Tennessee       20                11          2      4             \n",
       "43 Texas          111                17         10     28             \n",
       "44 Utah            25                 1          1     10             \n",
       "45 Vermont          6                 0          0      0             \n",
       "46 Virginia        23                 0          0      1             \n",
       "47 Washington     105                 7          4     19             \n",
       "48 West Virginia    5                 1          0      1             \n",
       "49 Wisconsin       16                 3          3     11             \n",
       "50 Wyoming          4                 1          1      0             "
      ]
     },
     "metadata": {},
     "output_type": "display_data"
    }
   ],
   "source": [
    "dataset1"
   ]
  },
  {
   "cell_type": "code",
   "execution_count": 20,
   "id": "77d6d423",
   "metadata": {},
   "outputs": [],
   "source": [
    "# now we count the bills for each category from ACLU and then add it to the dataset1 respective to State"
   ]
  },
  {
   "cell_type": "code",
   "execution_count": 21,
   "id": "cd33c812",
   "metadata": {},
   "outputs": [],
   "source": [
    "antiLgbtqFreq<- data.frame(table(antiLgbtq$State))\n",
    "religiousExemptionFreq <- data.frame(table(religiousExemption$State))\n",
    "preemptingProtectionFreq <-data.frame(table(preemptingProtection$State))\n",
    "lgtbqEqualityFreq <-data.frame(table(lgbtqEquality$State))"
   ]
  },
  {
   "cell_type": "code",
   "execution_count": 22,
   "id": "313485c4",
   "metadata": {},
   "outputs": [],
   "source": [
    "#antiLgbtqFreq\n",
    "colnames(antiLgbtqFreq) <- ('Abbrv')\n",
    "colnames(antiLgbtqFreq)[2] <- ('Anti-Lgbtq Freq')\n",
    "#religiousExemptionFreq\n",
    "colnames(religiousExemptionFreq) <- ('Abbrv')\n",
    "colnames(religiousExemptionFreq)[2] <- ('Religious Exemption Frequency')\n",
    "#preemptingProtectionFreq\n",
    "colnames(preemptingProtectionFreq) <- ('Abbrv')\n",
    "colnames(preemptingProtectionFreq)[2] <- ('Preempting Protection Frequency')\n",
    "#lgtbqEqualityFreq\n",
    "colnames(lgtbqEqualityFreq) <- ('Abbrv')\n",
    "colnames(lgtbqEqualityFreq)[2] <- ('Lgtbq Equality Frequency')"
   ]
  },
  {
   "cell_type": "code",
   "execution_count": 23,
   "id": "b49c2aca",
   "metadata": {},
   "outputs": [],
   "source": [
    "#now we have to join the state dataset with the dataset1\n",
    "states <- read.csv('states.csv')\n",
    "states <- data.frame(states)"
   ]
  },
  {
   "cell_type": "code",
   "execution_count": 25,
   "id": "10238df2",
   "metadata": {},
   "outputs": [],
   "source": [
    "dataset2 <- merge(dataset1, states, by='State', all=TRUE)"
   ]
  },
  {
   "cell_type": "code",
   "execution_count": 26,
   "id": "b05a7798",
   "metadata": {},
   "outputs": [],
   "source": [
    "#there is an extra D.C row in there that we don't need \n",
    "dataset2 <-dataset2[-51,]"
   ]
  },
  {
   "cell_type": "code",
   "execution_count": 27,
   "id": "b0659aa4",
   "metadata": {},
   "outputs": [],
   "source": [
    "tempdataset <- dataset2\n",
    "tempdataset <- merge(x=tempdataset, y=antiLgbtqFreq, by.x=c('Abbreviation'), by.y=c('Abbrv'),all=TRUE)"
   ]
  },
  {
   "cell_type": "code",
   "execution_count": 28,
   "id": "54c8fa41",
   "metadata": {},
   "outputs": [],
   "source": [
    "tempdataset <- merge(x=tempdataset, y=religiousExemptionFreq, by.x=c('Abbreviation'), by.y=c('Abbrv'),all=TRUE)\n",
    "tempdataset <- merge(x=tempdataset, y=preemptingProtectionFreq, by.x=c('Abbreviation'), by.y=c('Abbrv'),all=TRUE)\n",
    "tempdataset <- merge(x=tempdataset, y=lgtbqEqualityFreq, by.x=c('Abbreviation'), by.y=c('Abbrv'),all=TRUE)"
   ]
  },
  {
   "cell_type": "code",
   "execution_count": 43,
   "id": "c5a7335b",
   "metadata": {},
   "outputs": [
    {
     "name": "stderr",
     "output_type": "stream",
     "text": [
      "Warning message in `[<-.factor`(`*tmp*`, thisvar, value = 0):\n",
      "\"invalid factor level, NA generated\""
     ]
    }
   ],
   "source": [
    "tempdataset[is.na(tempdataset)] <- 0"
   ]
  },
  {
   "cell_type": "code",
   "execution_count": 34,
   "id": "2bd1e6c6",
   "metadata": {},
   "outputs": [],
   "source": [
    "tempdataset$crimeSum <- rowSums(tempdataset[,c(3,4,5,6)], na.rm=TRUE)"
   ]
  },
  {
   "cell_type": "code",
   "execution_count": 44,
   "id": "10dd96eb",
   "metadata": {},
   "outputs": [],
   "source": [
    "tempdataset$antiFreq <- rowSums(tempdataset[,c(7,8,9)],na.rm=TRUE)"
   ]
  },
  {
   "cell_type": "code",
   "execution_count": 46,
   "id": "91603cfa",
   "metadata": {},
   "outputs": [],
   "source": [
    "tempdataset <- tempdataset[-51,]"
   ]
  },
  {
   "cell_type": "code",
   "execution_count": 50,
   "id": "7545702b",
   "metadata": {},
   "outputs": [],
   "source": [
    "model <- lm(formula = crimeSum ~ antiFreq, data=tempdataset)"
   ]
  },
  {
   "cell_type": "code",
   "execution_count": 52,
   "id": "1940d359",
   "metadata": {},
   "outputs": [
    {
     "data": {
      "image/png": "[encoded data removed]",
      "text/plain": [
       "Plot with title \"\""
      ]
     },
     "metadata": {},
     "output_type": "display_data"
    },
    {
     "data": {
      "image/png": "[encoded data removed]",
      "text/plain": [
       "Plot with title \"\""
      ]
     },
     "metadata": {},
     "output_type": "display_data"
    },
    {
     "data": {
      "image/png": "[encoded data removed]",
      "text/plain": [
       "Plot with title \"\""
      ]
     },
     "metadata": {},
     "output_type": "display_data"
    },
    {
     "data": {
      "image/png": "[encoded data removed]",
      "text/plain": [
       "Plot with title \"\""
      ]
     },
     "metadata": {},
     "output_type": "display_data"
    }
   ],
   "source": [
    "plot(model)"
   ]
  },
  {
   "cell_type": "code",
   "execution_count": 53,
   "id": "4b76ba00",
   "metadata": {},
   "outputs": [
    {
     "data": {
      "image/png": "[encoded data removed]",
      "text/plain": [
       "plot without title"
      ]
     },
     "metadata": {},
     "output_type": "display_data"
    }
   ],
   "source": [
    "plot(tempdataset)"
   ]
  },
  {
   "cell_type": "code",
   "execution_count": 58,
   "id": "9b4bc882",
   "metadata": {},
   "outputs": [
    {
     "data": {
      "image/png": "[encoded data removed]",
      "text/plain": [
       "plot without title"
      ]
     },
     "metadata": {},
     "output_type": "display_data"
    }
   ],
   "source": []
  },
  {
   "cell_type": "code",
   "execution_count": null,
   "id": "6a168bfb",
   "metadata": {},
   "outputs": [],
   "source": []
  }
 ],
 "metadata": {
  "kernelspec": {
   "display_name": "R",
   "language": "R",
   "name": "ir"
  },
  "language_info": {
   "codemirror_mode": "r",
   "file_extension": ".r",
   "mimetype": "text/x-r-source",
   "name": "R",
   "pygments_lexer": "r",
   "version": "3.6.1"
  }
 },
 "nbformat": 4,
 "nbformat_minor": 5
}
